{
 "cells": [
  {
   "cell_type": "markdown",
   "id": "fbfefcec",
   "metadata": {},
   "source": [
    "# REGEX ASSIGNMENT"
   ]
  },
  {
   "cell_type": "markdown",
   "id": "f3be54be",
   "metadata": {},
   "source": [
    "Question 1- Write a Python program to replace all occurrences of a space, comma, or dot with a colon."
   ]
  },
  {
   "cell_type": "code",
   "execution_count": 37,
   "id": "e0e20aca",
   "metadata": {},
   "outputs": [],
   "source": [
    "import re\n",
    "text = \"Winter is coming in UK. And I'm excited\"\n",
    "fairtext = re.sub(r\"[ ,.]\",\":\",text)"
   ]
  },
  {
   "cell_type": "code",
   "execution_count": 38,
   "id": "da2effb3",
   "metadata": {},
   "outputs": [
    {
     "name": "stdout",
     "output_type": "stream",
     "text": [
      "Winter:is:coming:in:UK::And:I'm:excited\n"
     ]
    }
   ],
   "source": [
    "print (fairtext)"
   ]
  },
  {
   "cell_type": "markdown",
   "id": "4578376c",
   "metadata": {},
   "source": [
    "Question 2-  Write a Python program to find all words starting with 'a' or 'e' in a given string."
   ]
  },
  {
   "cell_type": "code",
   "execution_count": 39,
   "id": "b248d30e",
   "metadata": {},
   "outputs": [
    {
     "name": "stdout",
     "output_type": "stream",
     "text": [
      "['english', 'aeiou']\n"
     ]
    }
   ],
   "source": [
    "\n",
    "string = \"Vowels in english: aeiou\"\n",
    "\n",
    "a= re.findall(r'\\b[ae]\\w+',string)\n",
    "print(a)"
   ]
  },
  {
   "cell_type": "markdown",
   "id": "465c53ad",
   "metadata": {},
   "source": [
    "Question 3- Create a function in python to find all words that are at least 4 characters long in a string. The use of the re.compile() method is mandatory."
   ]
  },
  {
   "cell_type": "code",
   "execution_count": 48,
   "id": "fc5f7a8b",
   "metadata": {},
   "outputs": [
    {
     "data": {
      "text/plain": [
       "['ghij', 'klm9', '0001', 'abcdefg']"
      ]
     },
     "execution_count": 48,
     "metadata": {},
     "output_type": "execute_result"
    }
   ],
   "source": [
    "def abc(text):\n",
    "    text = \"abc def ghij klm9 xyz 0001 abcdefg\"\n",
    "    pattern= re.compile(r'[\\b\\w+]{4,}')\n",
    "    result= pattern.findall(text)\n",
    "    return result\n",
    "\n",
    "abc(text)"
   ]
  },
  {
   "cell_type": "markdown",
   "id": "cfee3afd",
   "metadata": {},
   "source": [
    "Question 4- Create a function in python to find all three, four, and five character words in a string. The use of the re.compile() method is mandatory."
   ]
  },
  {
   "cell_type": "code",
   "execution_count": 41,
   "id": "3cb3c373",
   "metadata": {},
   "outputs": [],
   "source": [
    "def myfunc(abc):\n",
    "    abc = \"Complete Regex Assmnt on or before 04th of October 2023\"\n",
    "    pattern= re.compile(r'\\b\\w{3,5}\\b')\n",
    "    result= pattern.findall(abc)\n",
    "    return result"
   ]
  },
  {
   "cell_type": "code",
   "execution_count": 42,
   "id": "45a54415",
   "metadata": {},
   "outputs": [
    {
     "data": {
      "text/plain": [
       "['Regex', '04th', '2023']"
      ]
     },
     "execution_count": 42,
     "metadata": {},
     "output_type": "execute_result"
    }
   ],
   "source": [
    "myfunc(abc)"
   ]
  },
  {
   "cell_type": "markdown",
   "id": "5a3d5b0a",
   "metadata": {},
   "source": [
    "Question 5- Create a function in Python to remove the parenthesis in a list of strings. The use of the re.compile() method is mandatory."
   ]
  },
  {
   "cell_type": "code",
   "execution_count": 2,
   "id": "024c032b",
   "metadata": {},
   "outputs": [
    {
     "name": "stdout",
     "output_type": "stream",
     "text": [
      "example.com\n",
      "hr@fliprobo.com\n",
      "github.com\n",
      "HelloDataScienceWorld\n",
      "DataScientist\n"
     ]
    }
   ],
   "source": [
    "import re\n",
    "\n",
    "def myfun(strings_list):\n",
    "    pattern = re.compile(r'[()\\s]')\n",
    "    cleaned_strings = [pattern.sub('', string) for string in strings_list]\n",
    "    return cleaned_strings\n",
    "sample_text = [\"example (.com)\", \"hr@fliprobo (.com)\", \"github (.com)\", \"Hello (Data Science World)\", \"Data (Scientist)\"]\n",
    "output_text = myfun(sample_text)\n",
    "for string in output_text:\n",
    "    print(string)\n"
   ]
  },
  {
   "cell_type": "markdown",
   "id": "bc689246",
   "metadata": {},
   "source": [
    "Question 6- Write a python program to remove the parenthesis area from the text stored in the text file using Regular Expression."
   ]
  },
  {
   "cell_type": "code",
   "execution_count": 40,
   "id": "9e4cbf65",
   "metadata": {},
   "outputs": [
    {
     "name": "stdout",
     "output_type": "stream",
     "text": [
      "[': [\"example\", \"hr@fliprobo\", \"github\", \"Hello\", \"Data\"]']\n"
     ]
    }
   ],
   "source": [
    "import re\n",
    "with open('C:\\\\Users\\\\VIV\\\\OneDrive\\\\Documents\\\\examples.txt', 'r') as file:\n",
    "    lines = file.readlines()\n",
    "pattern = re.compile(r'\\s*\\([^)]*\\)')\n",
    "modified_lines = [re.sub(pattern, '', line).strip() for line in lines]\n",
    "print(modified_lines)\n"
   ]
  },
  {
   "cell_type": "markdown",
   "id": "1e0dae3e",
   "metadata": {},
   "source": [
    "Question 7- Write a regular expression in Python to split a string into uppercase letters."
   ]
  },
  {
   "cell_type": "code",
   "execution_count": 16,
   "id": "97564e25",
   "metadata": {},
   "outputs": [
    {
     "name": "stdout",
     "output_type": "stream",
     "text": [
      "['Importance', 'Of', 'Regular', 'Expressions', 'In', 'Python']\n"
     ]
    }
   ],
   "source": [
    "sample_text = \"ImportanceOfRegularExpressionsInPython\"\n",
    "pattern = r'[A-Z][a-z]*'\n",
    "uppercase_words = re.findall(pattern, sample_text)\n",
    "print(uppercase_words)\n"
   ]
  },
  {
   "cell_type": "markdown",
   "id": "7f783cf7",
   "metadata": {},
   "source": [
    "Question 8- Create a function in python to insert spaces between words starting with numbers."
   ]
  },
  {
   "cell_type": "code",
   "execution_count": 18,
   "id": "6341685b",
   "metadata": {},
   "outputs": [
    {
     "name": "stdout",
     "output_type": "stream",
     "text": [
      "RegularExpression 1IsAn 2ImportantTopic 3InPython\n"
     ]
    }
   ],
   "source": [
    "import re\n",
    "\n",
    "def myfun(input_text):\n",
    "    pattern = r'([a-zA-Z]+)(\\d+)'\n",
    "    modified_text = re.sub(pattern, r'\\1 \\2', input_text)\n",
    "    return modified_text\n",
    "sample_text = \"RegularExpression1IsAn2ImportantTopic3InPython\"\n",
    "output_text = myfun(sample_text)\n",
    "print(output_text)"
   ]
  },
  {
   "cell_type": "markdown",
   "id": "3eb775c1",
   "metadata": {},
   "source": [
    "Question 9- Create a function in python to insert spaces between words starting with capital letters or with numbers."
   ]
  },
  {
   "cell_type": "code",
   "execution_count": 4,
   "id": "f195626a",
   "metadata": {},
   "outputs": [
    {
     "name": "stdout",
     "output_type": "stream",
     "text": [
      "Expected Output:\n",
      "Regular Expression 1 Is An 2 Important Topic 3 In Python\n"
     ]
    }
   ],
   "source": [
    "def myfun(text):\n",
    "    pattern = re.compile(r'([A-Z][a-z]*|[0-9]+)')\n",
    "    modified_text = pattern.sub(r' \\1', text).strip()\n",
    "    return modified_text\n",
    "sample_text = \"RegularExpression1IsAn2ImportantTopic3InPython\"\n",
    "output_text = myfun(sample_text)\n",
    "print(\"Expected Output:\")\n",
    "print(output_text)\n",
    "\n"
   ]
  },
  {
   "cell_type": "markdown",
   "id": "1d0b7589",
   "metadata": {},
   "source": [
    "Question 10- Write a python program to extract email address from the text stored in the text file using Regular Expression."
   ]
  },
  {
   "cell_type": "code",
   "execution_count": 61,
   "id": "ecf5c5a3",
   "metadata": {},
   "outputs": [
    {
     "name": "stdout",
     "output_type": "stream",
     "text": [
      "['xyz@domain.com', 'xyz.abc@sdomain.domain.com']\n",
      "['hr@fliprobo.com']\n"
     ]
    }
   ],
   "source": [
    "import re\n",
    "\n",
    "pattern = (r'\\b[a-z.]+@[a-z.]+\\w{2,}')\n",
    "\n",
    "with open(\"C:\\\\Users\\\\VIV\\\\OneDrive\\\\Documents\\\\example2.txt\",'r') as file:\n",
    "    for line in file:\n",
    "        email = re.findall(pattern,line)\n",
    "        print(email)"
   ]
  },
  {
   "cell_type": "markdown",
   "id": "ad9a812e",
   "metadata": {},
   "source": [
    "Question 11- Write a Python program to match a string that contains only upper and lowercase letters, numbers, and underscores."
   ]
  },
  {
   "cell_type": "code",
   "execution_count": 6,
   "id": "a075cc93",
   "metadata": {},
   "outputs": [
    {
     "name": "stdout",
     "output_type": "stream",
     "text": [
      "The string contains only specified characters\n"
     ]
    }
   ],
   "source": [
    "import re\n",
    "\n",
    "pattern = r'^[a-zA-Z_0-9]+$'\n",
    "strings = [\"Weather=bad\",\"Moody\",\"FEELS LIKE SNOWY\", \"Temp_0\"]\n",
    "for a in strings:\n",
    "    result = re.findall(pattern,a)\n",
    "if result :\n",
    "    print(\"The string contains only specified characters\")\n",
    "else:\n",
    "    print(\"The string contains invalid characters\")\n"
   ]
  },
  {
   "cell_type": "markdown",
   "id": "a5d5104e",
   "metadata": {},
   "source": [
    "Question 12- Write a Python program where a string will start with a specific number. "
   ]
  },
  {
   "cell_type": "code",
   "execution_count": 89,
   "id": "41590ec0",
   "metadata": {},
   "outputs": [
    {
     "name": "stdout",
     "output_type": "stream",
     "text": [
      "<re.Match object; span=(0, 4), match='4dx '>\n"
     ]
    }
   ],
   "source": [
    "import re\n",
    "\n",
    "pattern = r'^[4]+\\w+.'\n",
    "strings = (\"4dx cinema is funloaded\")\n",
    "result = re.search(pattern, strings)\n",
    "print (result)"
   ]
  },
  {
   "cell_type": "markdown",
   "id": "13819c80",
   "metadata": {},
   "source": [
    "Question 13- Write a Python program to remove leading zeros from an IP address"
   ]
  },
  {
   "cell_type": "code",
   "execution_count": 7,
   "id": "b10b16e6",
   "metadata": {},
   "outputs": [
    {
     "name": "stdout",
     "output_type": "stream",
     "text": [
      "IP address without leading zeros: 18.383.1.4\n"
     ]
    }
   ],
   "source": [
    "import re\n",
    "\n",
    "pattern = r'\\b0+(\\d+)\\b'\n",
    "ip_add = \"018.383.001.004\"\n",
    "result = re.sub(pattern, r'\\1', ip_add)\n",
    "print(\"IP address without leading zeros:\", result)"
   ]
  },
  {
   "cell_type": "markdown",
   "id": "6ad3f0e8",
   "metadata": {},
   "source": [
    "Question 14- Write a regular expression in python to match a date string in the form of Month name followed by day number and year stored in a text file."
   ]
  },
  {
   "cell_type": "code",
   "execution_count": 11,
   "id": "cdc1ff24",
   "metadata": {},
   "outputs": [
    {
     "name": "stdout",
     "output_type": "stream",
     "text": [
      "August 15th 1947\n"
     ]
    }
   ],
   "source": [
    "import re\n",
    "\n",
    "with open (\"C:\\\\Users\\\\VIV\\\\OneDrive\\\\Documents\\\\date example.txt\", 'r') as file:\n",
    "    for line in file:\n",
    "        pattern = r'([A-Z][a-z]+ (\\d{1,2})(st|rd|nd|th) (\\d{4}))'\n",
    "        result = re.search(pattern,line)\n",
    "        if result:\n",
    "            match = result.group()\n",
    "            print (match)\n",
    "            \n",
    "        else:\n",
    "            print(\"No match found\")\n",
    "        "
   ]
  },
  {
   "cell_type": "markdown",
   "id": "d16c5ca7",
   "metadata": {},
   "source": [
    "Question 15- Write a Python program to search some literals strings in a string. \n",
    "Sample text : 'The quick brown fox jumps over the lazy dog.'\n",
    "Searched words : 'fox','dog','horse'\n"
   ]
  },
  {
   "cell_type": "code",
   "execution_count": 14,
   "id": "12c3e685",
   "metadata": {},
   "outputs": [
    {
     "name": "stdout",
     "output_type": "stream",
     "text": [
      "foxis found\n",
      "dogis found\n",
      "horseis not found in the string\n"
     ]
    }
   ],
   "source": [
    "string = 'The quick brown fox jumps over the lazy dog.'\n",
    "searchh = ['fox','dog','horse']\n",
    "\n",
    "for word in searchh:\n",
    "    if word in string:\n",
    "        print(f\"{word}is found\")\n",
    "    else:\n",
    "        print(f\"{word}is not found in the string\")"
   ]
  },
  {
   "cell_type": "markdown",
   "id": "4bb5d17d",
   "metadata": {},
   "source": [
    "Question 16- Write a Python program to search a literals string in a string and also find the location within the original string where the pattern occurs\n",
    "Sample text : 'The quick brown fox jumps over the lazy dog.'\n",
    "Searched words : 'fox'\n"
   ]
  },
  {
   "cell_type": "code",
   "execution_count": 20,
   "id": "dfe3e21f",
   "metadata": {},
   "outputs": [
    {
     "name": "stdout",
     "output_type": "stream",
     "text": [
      "<re.Match object; span=(16, 19), match='fox'>\n",
      "location of the match: 16\n"
     ]
    }
   ],
   "source": [
    "string =  'The quick brown fox jumps over the lazy dog.'\n",
    "my_search = 'fox'\n",
    "\n",
    "result = re.search(my_search,string)\n",
    "print(result)\n",
    "final_result = result.start()\n",
    "print(\"location of the match:\", final_result)"
   ]
  },
  {
   "cell_type": "markdown",
   "id": "0efc4801",
   "metadata": {},
   "source": [
    "Question 17- Write a Python program to find the substrings within a string.\n",
    "Sample text : 'Python exercises, PHP exercises, C# exercises'\n",
    "Pattern : 'exercises'\n"
   ]
  },
  {
   "cell_type": "code",
   "execution_count": 18,
   "id": "f287bab8",
   "metadata": {},
   "outputs": [
    {
     "name": "stdout",
     "output_type": "stream",
     "text": [
      "['exercises', 'exercises', 'exercises']\n"
     ]
    }
   ],
   "source": [
    "sample_text = 'Python exercises, PHP exercises, C# exercises'\n",
    "pattern = 'exercises'\n",
    "\n",
    "result = re.findall(pattern,sample_text)\n",
    "print(result)"
   ]
  },
  {
   "cell_type": "markdown",
   "id": "1f486c77",
   "metadata": {},
   "source": [
    "Question 18- Write a Python program to find the occurrence and position of the substrings within a string."
   ]
  },
  {
   "cell_type": "code",
   "execution_count": 48,
   "id": "194228bd",
   "metadata": {},
   "outputs": [
    {
     "name": "stdout",
     "output_type": "stream",
     "text": [
      "SUBSTRING:exercises, Start Position:7, End Position:16\n",
      "SUBSTRING:exercises, Start Position:22, End Position:31\n",
      "SUBSTRING:exercises, Start Position:36, End Position:45\n"
     ]
    }
   ],
   "source": [
    "import re\n",
    "sample_text = 'Python exercises, PHP exercises, C# exercises'\n",
    "pattern = 'exercises'\n",
    "\n",
    "for match in re.finditer(pattern,sample_text):\n",
    "    substring = match.group()\n",
    "    start= match.start()\n",
    "    end= match.end()\n",
    "    result = (f\"SUBSTRING:{substring}, Start Position:{start}, End Position:{end}\")\n",
    "    print(result)"
   ]
  },
  {
   "cell_type": "markdown",
   "id": "1ee64aa9",
   "metadata": {},
   "source": [
    "Question 19- Write a Python program to convert a date of yyyy-mm-dd format to dd-mm-yyyy format."
   ]
  },
  {
   "cell_type": "code",
   "execution_count": 53,
   "id": "2738ce3e",
   "metadata": {},
   "outputs": [
    {
     "name": "stdout",
     "output_type": "stream",
     "text": [
      "Given format: 2023-10-08 00:00:00\n",
      "Corrected Format: 08-10-2023\n"
     ]
    }
   ],
   "source": [
    "from datetime import datetime\n",
    "a = '2023-10-08'\n",
    "given_format = datetime.strptime(a, '%Y-%m-%d')\n",
    "corrected_format = given_format.strftime('%d-%m-%Y')\n",
    "print(\"Given format:\", given_format)\n",
    "print(\"Corrected Format:\", corrected_format)"
   ]
  },
  {
   "cell_type": "markdown",
   "id": "c69c029c",
   "metadata": {},
   "source": [
    "Question 20- Create a function in python to find all decimal numbers with a precision of 1 or 2 in a string. The use of the re.compile() method is mandatory.\n",
    "Sample Text: \"01.12 0132.123 2.31875 145.8 3.01 27.25 0.25\"\n"
   ]
  },
  {
   "cell_type": "code",
   "execution_count": 55,
   "id": "c412d7ec",
   "metadata": {},
   "outputs": [
    {
     "name": "stdout",
     "output_type": "stream",
     "text": [
      "['01.12', '145.8', '3.01', '27.25', '0.25']\n"
     ]
    }
   ],
   "source": [
    "def myfun(decimals):\n",
    "    pattern = re.compile(r'\\b\\d+\\.\\d{1,2}\\b')\n",
    "    result = pattern.findall(decimals)\n",
    "    return result\n",
    "decimals = \"01.12 0132.123 2.31875 145.8 3.01 27.25 0.25\"\n",
    "final_result = myfun(decimals)\n",
    "print(final_result)\n"
   ]
  },
  {
   "cell_type": "markdown",
   "id": "4c6d7bbf",
   "metadata": {},
   "source": [
    "Question 21- Write a Python program to separate and print the numbers and their position of a given string."
   ]
  },
  {
   "cell_type": "code",
   "execution_count": 106,
   "id": "7c529c93",
   "metadata": {},
   "outputs": [
    {
     "name": "stdout",
     "output_type": "stream",
     "text": [
      "Numbers in the string: 300\n",
      "Position: 11\n"
     ]
    }
   ],
   "source": [
    "numbers = re.search(r'\\d+', string)\n",
    "string = \" There are 300 computers in the shop\"\n",
    "extract = numbers.group()\n",
    "position = numbers.start()\n",
    "\n",
    "print(\"Numbers in the string:\", extract)\n",
    "print(\"Position:\", position)"
   ]
  },
  {
   "cell_type": "markdown",
   "id": "1091c4b7",
   "metadata": {},
   "source": [
    "Question 22- Write a regular expression in python program to extract maximum/largest numeric value from a string.\n",
    "Sample Text:  'My marks in each semester are: 947, 896, 926, 524, 734, 950, 642'\n"
   ]
  },
  {
   "cell_type": "code",
   "execution_count": 109,
   "id": "a83020dd",
   "metadata": {},
   "outputs": [
    {
     "name": "stdout",
     "output_type": "stream",
     "text": [
      "950\n"
     ]
    }
   ],
   "source": [
    "sample =  'My marks in each semester are: 947, 896, 926, 524, 734, 950, 642'\n",
    "pattern = r'\\b\\d+\\b'\n",
    "\n",
    "given_value = list(map(int, re.findall(pattern,sample)))\n",
    "maximum_value = max(given_value)\n",
    "\n",
    "print(maximum_value)"
   ]
  },
  {
   "cell_type": "markdown",
   "id": "7a5aa931",
   "metadata": {},
   "source": [
    "Question 23- Create a function in python to insert spaces between words starting with capital letters.\n",
    "Sample Text: “RegularExpressionIsAnImportantTopicInPython\"\n"
   ]
  },
  {
   "cell_type": "code",
   "execution_count": 127,
   "id": "9cd43a04",
   "metadata": {},
   "outputs": [
    {
     "name": "stdout",
     "output_type": "stream",
     "text": [
      "Regular Expression Is An Important Topic In Python\n"
     ]
    }
   ],
   "source": [
    "def myfun(text):\n",
    "    pattern = r'([A-Z][a-z]*)'\n",
    "    sample = re.sub(pattern, r' \\1', text)\n",
    "    sample= sample.strip()\n",
    "    return sample\n",
    "sample_text = \"RegularExpressionIsAnImportantTopicInPython\"\n",
    "result = myfun(sample_text)\n",
    "print(result)\n"
   ]
  },
  {
   "cell_type": "markdown",
   "id": "1a982fc5",
   "metadata": {},
   "source": [
    "Question 24- Python regex to find sequences of one upper case letter followed by lower case letters"
   ]
  },
  {
   "cell_type": "code",
   "execution_count": 131,
   "id": "515bde98",
   "metadata": {},
   "outputs": [
    {
     "name": "stdout",
     "output_type": "stream",
     "text": [
      "['It', 'Is', 'Going', 'To', 'Be', 'Rainy', 'Tomorrrow']\n"
     ]
    }
   ],
   "source": [
    "def myfun(text):\n",
    "    pattern = r'([A-Z][a-z]+)'\n",
    "    method = re.findall(pattern,text)\n",
    "    return method\n",
    "string = \"It Is Going To Be A Rainy dy Tomorrrow\"\n",
    "output = myfun(string)\n",
    "print(output)"
   ]
  },
  {
   "cell_type": "markdown",
   "id": "d20e462c",
   "metadata": {},
   "source": [
    "Question 25- Write a Python program to remove continuous duplicate words from Sentence using Regular Expression.\n",
    "Sample Text: \"Hello hello world world\"\n"
   ]
  },
  {
   "cell_type": "code",
   "execution_count": 167,
   "id": "a636a5c0",
   "metadata": {},
   "outputs": [
    {
     "name": "stdout",
     "output_type": "stream",
     "text": [
      "Hello world\n"
     ]
    }
   ],
   "source": [
    "def myfun(text):\n",
    "    pattern = r'\\b(\\w+)(?:\\W+\\1\\b)+'\n",
    "    method = re.sub(pattern, r'\\1', text, flags = re.IGNORECASE)\n",
    "    return method\n",
    "sample_text = \"Hello hello world world\"\n",
    "output_text = myfun(sample_text)\n",
    "print(output_text)"
   ]
  },
  {
   "cell_type": "markdown",
   "id": "9e2e8c60",
   "metadata": {},
   "source": [
    "With case sensitive"
   ]
  },
  {
   "cell_type": "code",
   "execution_count": 179,
   "id": "3e6f6781",
   "metadata": {},
   "outputs": [
    {
     "name": "stdout",
     "output_type": "stream",
     "text": [
      "Hello hello world\n"
     ]
    }
   ],
   "source": [
    "def myfun(text):\n",
    "    pattern = r'\\b(\\w+)(?:\\W+\\1\\b)+'\n",
    "    method = re.sub(pattern, r'\\1', text)\n",
    "    return method\n",
    "sample_text = \"Hello hello world world\"\n",
    "output_text = myfun(sample_text)\n",
    "print(output_text)"
   ]
  },
  {
   "cell_type": "markdown",
   "id": "82c6d6b5",
   "metadata": {},
   "source": [
    "Question 26-  Write a python program using RegEx to accept string ending with alphanumeric character."
   ]
  },
  {
   "cell_type": "code",
   "execution_count": 180,
   "id": "0c2f3f3d",
   "metadata": {},
   "outputs": [
    {
     "name": "stdout",
     "output_type": "stream",
     "text": [
      "HelloWorld ending with alphanumeric\n",
      "HelloWorld! does not end with alphanumeric\n"
     ]
    }
   ],
   "source": [
    "strings = \"HelloWorld\",\"HelloWorld!\"\n",
    "pattern = r'\\w$'\n",
    "for string in strings:\n",
    "    output = re.findall(pattern,string)\n",
    "\n",
    "    if output:\n",
    "        print(f\"{string} ending with alphanumeric\")\n",
    "    else:\n",
    "        print(f\"{string} does not end with alphanumeric\")"
   ]
  },
  {
   "cell_type": "markdown",
   "id": "a2717a14",
   "metadata": {},
   "source": [
    "Question 27-Write a python program using RegEx to extract the hashtags.\n",
    "Sample Text:  \"\"\"RT @kapil_kausik: #Doltiwal I mean #xyzabc is \"hurt\" by #Demonetization as the same has rendered USELESS <ed><U+00A0><U+00BD><ed><U+00B1><U+0089> \"acquired funds\" No wo\"\"\"\n"
   ]
  },
  {
   "cell_type": "code",
   "execution_count": 184,
   "id": "780dbecf",
   "metadata": {},
   "outputs": [
    {
     "name": "stdout",
     "output_type": "stream",
     "text": [
      "['#Doltiwal', '#xyzabc', '#Demonetization']\n"
     ]
    }
   ],
   "source": [
    "sample =  \"\"\"RT @kapil_kausik: #Doltiwal I mean #xyzabc is \"hurt\" by #Demonetization as the same has rendered USELESS <U+00A0><U+00BD><U+00B1><U+0089> \"acquired funds\" No wo\"\"\"\n",
    "pattern = r'#\\w+'\n",
    "result = re.findall(pattern,sample)\n",
    "print(result)"
   ]
  },
  {
   "cell_type": "markdown",
   "id": "80eeb877",
   "metadata": {},
   "source": [
    "Question 28- Write a python program using RegEx to remove <U+..> like symbols\n",
    "Check the below sample text, there are strange symbols something of the sort <U+..> all over the place. You need to come up with a general Regex expression that will cover all such symbols.\n",
    "Sample Text: \"@Jags123456 Bharat band on 28??<ed><U+00A0><U+00BD><ed><U+00B8><U+0082>Those who  are protesting #demonetization  are all different party leaders\"\n"
   ]
  },
  {
   "cell_type": "code",
   "execution_count": 190,
   "id": "2830d8e5",
   "metadata": {},
   "outputs": [
    {
     "name": "stdout",
     "output_type": "stream",
     "text": [
      "@Jags123456 Bharat band on 28??<ed><ed>Those who  are protesting #demonetization  are all different party leaders\n"
     ]
    }
   ],
   "source": [
    "string = \"@Jags123456 Bharat band on 28??<ed><U+00A0><U+00BD><ed><U+00B8><U+0082>Those who  are protesting #demonetization  are all different party leaders\"\n",
    "pattern = r'<U\\+\\w+>'\n",
    "result = re.sub(pattern, '', string)\n",
    "print(result)"
   ]
  },
  {
   "cell_type": "markdown",
   "id": "a84c6496",
   "metadata": {},
   "source": [
    "Question 29- Write a python program to extract dates from the text stored in the text file.\n",
    "\n"
   ]
  },
  {
   "cell_type": "code",
   "execution_count": 196,
   "id": "a70620f7",
   "metadata": {
    "scrolled": true
   },
   "outputs": [
    {
     "name": "stdout",
     "output_type": "stream",
     "text": [
      "['12-09-1992', '15-12-1999']\n",
      "[]\n",
      "[]\n"
     ]
    }
   ],
   "source": [
    "import re\n",
    "with open (\"C:\\\\Users\\\\VIV\\\\OneDrive\\\\Documents\\\\29th ques.txt\", 'r' ) as file:\n",
    "    for line in file:\n",
    "        pattern =  re.compile(r'(\\d{2,4}-\\d{2,4}-\\d{2,4})+')\n",
    "        output = pattern.findall(line)\n",
    "        print(output)"
   ]
  },
  {
   "cell_type": "markdown",
   "id": "1af04837",
   "metadata": {},
   "source": [
    "Question 30- Create a function in python to remove all words from a string of length between 2 and 4.\n",
    "The use of the re.compile() method is mandatory.\n",
    "Sample Text: \"The following example creates an ArrayList with a capacity of 50 elements. 4 elements are then added to the ArrayList and the ArrayList is trimmed accordingly.\"\n"
   ]
  },
  {
   "cell_type": "code",
   "execution_count": 202,
   "id": "837ab946",
   "metadata": {},
   "outputs": [
    {
     "name": "stdout",
     "output_type": "stream",
     "text": [
      " following example creates  ArrayList  a capacity   elements. 4 elements   added   ArrayList   ArrayList  trimmed accordingly.\n"
     ]
    }
   ],
   "source": [
    "def myfun(text):\n",
    "    pattern = re.compile(r'\\b\\w{2,4}\\b')\n",
    "    method = re.sub(pattern, '', text)\n",
    "    return method\n",
    "sample =  \"The following example creates an ArrayList with a capacity of 50 elements. 4 elements are then added to the ArrayList and the ArrayList is trimmed accordingly.\"\n",
    "result = myfun(sample)\n",
    "print(result)"
   ]
  },
  {
   "cell_type": "markdown",
   "id": "90105839",
   "metadata": {},
   "source": [
    "----------------------------THE END--------------------------------------------"
   ]
  },
  {
   "cell_type": "code",
   "execution_count": null,
   "id": "fae11a33",
   "metadata": {},
   "outputs": [],
   "source": []
  }
 ],
 "metadata": {
  "kernelspec": {
   "display_name": "Python 3 (ipykernel)",
   "language": "python",
   "name": "python3"
  },
  "language_info": {
   "codemirror_mode": {
    "name": "ipython",
    "version": 3
   },
   "file_extension": ".py",
   "mimetype": "text/x-python",
   "name": "python",
   "nbconvert_exporter": "python",
   "pygments_lexer": "ipython3",
   "version": "3.11.3"
  }
 },
 "nbformat": 4,
 "nbformat_minor": 5
}
