{
 "cells": [
  {
   "cell_type": "markdown",
   "id": "b57a557d",
   "metadata": {},
   "source": [
    "# WEB SCRAPING ASSIGNMENT 3"
   ]
  },
  {
   "cell_type": "markdown",
   "id": "b94b241b",
   "metadata": {},
   "source": [
    "1.Write a python program which searches all the product under a particular product from www.amazon.in. The \n",
    "product to be searched will be taken as input from user. For e.g. If user input is ‘guitar’. Then search for \n",
    "guitars. \n",
    "2. In the above question, now scrape the following details of each product listed in first 3 pages of your search \n",
    "results and save it in a data frame and csv. In case if any product has less than 3 pages in search results then \n",
    "scrape all the products available under that product name. Details to be scraped are: \"Brand \n",
    "Name\", \"Name of the Product\", \"Price\", \"Return/Exchange\", \"Expected Delivery\", \"Availability\" and \n",
    "“Product URL”. In case, if any of the details are missing for any of the product then replace it by “-“. "
   ]
  },
  {
   "cell_type": "code",
   "execution_count": 32,
   "id": "3e0f6188",
   "metadata": {},
   "outputs": [],
   "source": [
    "import selenium\n",
    "from selenium import webdriver\n",
    "import pandas as pd\n",
    "from selenium.webdriver.common.by import By\n",
    "from selenium.common.exceptions import NoSuchElementException\n",
    "import time"
   ]
  },
  {
   "cell_type": "code",
   "execution_count": 33,
   "id": "bb9fc3bf",
   "metadata": {},
   "outputs": [],
   "source": [
    "driver = webdriver.Chrome()"
   ]
  },
  {
   "cell_type": "code",
   "execution_count": 34,
   "id": "635e5298",
   "metadata": {},
   "outputs": [],
   "source": [
    "\n",
    "driver.get(\"https://www.amazon.in/\")"
   ]
  },
  {
   "cell_type": "code",
   "execution_count": 35,
   "id": "4f6b5c42",
   "metadata": {},
   "outputs": [
    {
     "name": "stdout",
     "output_type": "stream",
     "text": [
      "Enter The Product Namewatch\n"
     ]
    }
   ],
   "source": [
    "search_product = driver.find_element(By.XPATH,'/html/body/div[1]/header/div/div[1]/div[2]/div/form/div[2]/div[1]/input')\n",
    "search_product.send_keys((input(\"Enter The Product Name\")))"
   ]
  },
  {
   "cell_type": "code",
   "execution_count": 36,
   "id": "3c655d98",
   "metadata": {},
   "outputs": [],
   "source": [
    "search_button = driver.find_element(By.XPATH,'/html/body/div[1]/header/div/div[1]/div[2]/div/form/div[3]/div/span/input')\n",
    "search_button.click()"
   ]
  },
  {
   "cell_type": "code",
   "execution_count": 37,
   "id": "44d9e8fe",
   "metadata": {},
   "outputs": [],
   "source": [
    "urls_of_product = []\n",
    "start = 0\n",
    "end = 3\n",
    "for page in range(start,end):\n",
    "    url = driver.find_elements(By.XPATH,'//h2[@class=\"a-size-mini a-spacing-none a-color-base s-line-clamp-2\"]/a')\n",
    "    for i in url:\n",
    "        urls_of_product.append(i.get_attribute('href'))\n",
    "        next_button = driver.find_elements(By.XPATH,'/html/body/div[1]/div[1]/div[1]/div[1]/div/span[1]/div[1]/div[67]/div/div/span/a[3]')\n",
    "        "
   ]
  },
  {
   "cell_type": "code",
   "execution_count": 7,
   "id": "02e15d8e",
   "metadata": {},
   "outputs": [
    {
     "name": "stdout",
     "output_type": "stream",
     "text": [
      "186\n"
     ]
    }
   ],
   "source": [
    "print(len(urls_of_product))"
   ]
  },
  {
   "cell_type": "code",
   "execution_count": 38,
   "id": "48105167",
   "metadata": {},
   "outputs": [
    {
     "data": {
      "text/plain": [
       "['https://www.amazon.in/sspa/click?ie=UTF8&spc=MTo3MzAwOTg1MTIwODc2Njc5OjE2OTk3MzE3MDE6c3BfYXRmOjMwMDA2Njk1MzQ3MjEzMjo6MDo6&url=%2FNIBOSI-Waterproof-Chronograph-Stainless-Calendar%2Fdp%2FB0C5C733T4%2Fref%3Dsr_1_1_sspa%3Fcrid%3D3F8P8FM608Q2X%26keywords%3Dwatch%26qid%3D1699731701%26sprefix%3Dwatch%252Caps%252C108%26sr%3D8-1-spons%26sp_csd%3Dd2lkZ2V0TmFtZT1zcF9hdGY%26psc%3D1',\n",
       " 'https://www.amazon.in/sspa/click?ie=UTF8&spc=MTo3MzAwOTg1MTIwODc2Njc5OjE2OTk3MzE3MDE6c3BfYXRmOjMwMDAyODAyMTIwODczMjo6MDo6&url=%2FTIMEX-Analog-Black-Dial-Watch-TWEG19605%2Fdp%2FB08WH6CCKX%2Fref%3Dsr_1_2_sspa%3Fcrid%3D3F8P8FM608Q2X%26keywords%3Dwatch%26qid%3D1699731701%26sprefix%3Dwatch%252Caps%252C108%26sr%3D8-2-spons%26sp_csd%3Dd2lkZ2V0TmFtZT1zcF9hdGY%26psc%3D1',\n",
       " 'https://www.amazon.in/sspa/click?ie=UTF8&spc=MTo3MzAwOTg1MTIwODc2Njc5OjE2OTk3MzE3MDE6c3BfYXRmOjMwMDAyOTAwNDM2MTczMjo6MDo6&url=%2FLuminous-Fashionable-Children-Waterproof-Electronic%2Fdp%2FB0CBN6CHV1%2Fref%3Dsr_1_3_sspa%3Fcrid%3D3F8P8FM608Q2X%26keywords%3Dwatch%26qid%3D1699731701%26sprefix%3Dwatch%252Caps%252C108%26sr%3D8-3-spons%26sp_csd%3Dd2lkZ2V0TmFtZT1zcF9hdGY%26psc%3D1',\n",
       " 'https://www.amazon.in/sspa/click?ie=UTF8&spc=MTo3MzAwOTg1MTIwODc2Njc5OjE2OTk3MzE3MDE6c3BfYXRmOjIwMTI4ODcwNzgzOTk4OjowOjo&url=%2FTIME-OCTUS-Digital-Multi-Functional-DIGI-022%2Fdp%2FB0BXXQSVLP%2Fref%3Dsr_1_4_sspa%3Fcrid%3D3F8P8FM608Q2X%26keywords%3Dwatch%26qid%3D1699731701%26sprefix%3Dwatch%252Caps%252C108%26sr%3D8-4-spons%26sp_csd%3Dd2lkZ2V0TmFtZT1zcF9hdGY%26psc%3D1',\n",
       " 'https://www.amazon.in/Fire-Boltt-Bluetooth-Calling-Assistance-Resolution/dp/B0BF57RN3K/ref=sr_1_5?crid=3F8P8FM608Q2X&keywords=watch&qid=1699731701&sprefix=watch%2Caps%2C108&sr=8-5',\n",
       " 'https://www.amazon.in/beatXP-Bluetooth-Assistant-Monitoring-Charging/dp/B0BRFX19Y1/ref=sr_1_6?crid=3F8P8FM608Q2X&keywords=watch&qid=1699731701&sprefix=watch%2Caps%2C108&sr=8-6',\n",
       " 'https://www.amazon.in/Fire-Boltt-Launched-Display-Bluetooth-Assistance/dp/B0C496V772/ref=sr_1_7?crid=3F8P8FM608Q2X&keywords=watch&qid=1699731701&sprefix=watch%2Caps%2C108&sr=8-7',\n",
       " 'https://aax-eu.amazon.in/x/c/RHLFdTMq0tCnfX2iGmKjbtwAAAGLv-eAXAMAAAH2AQBvbm9fdHhuX2JpZDIgICBvbm9fdHhuX2ltcDEgICDqOT6G/https://www.amazon.in/SKYBALL-Resolution-Brightness-Watchface-Magnetic/dp/B0CB4KFMFP/ref=sxin_17_sbv_search_btf?content-id=amzn1.sym.10447c6b-3f84-4df3-b999-01a8bbbf010e%3Aamzn1.sym.10447c6b-3f84-4df3-b999-01a8bbbf010e&crid=3F8P8FM608Q2X&cv_ct_cx=watch&keywords=watch&pd_rd_i=B0CB4KFMFP&pd_rd_r=4e86bc9e-366b-433b-b5aa-cd160a0e6bd3&pd_rd_w=1XM43&pd_rd_wg=31saO&pf_rd_p=10447c6b-3f84-4df3-b999-01a8bbbf010e&pf_rd_r=E8HVP8N08BNHAPMKJ6TP&qid=1699731701&sbo=RZvfv%2F%2FHxDF%2BO5021pAnSA%3D%3D&sprefix=watch%2Caps%2C108&sr=1-1-b614a050-8d70-4320-9c19-cc457ab2a351',\n",
       " 'https://www.amazon.in/Matrix-Antique-Softest-Silicone-Analog/dp/B0CK6N9VDC/ref=sr_1_8?crid=3F8P8FM608Q2X&keywords=watch&qid=1699731701&sprefix=watch%2Caps%2C108&sr=8-8',\n",
       " 'https://www.amazon.in/Fire-Boltt-Stainless-Bluetooth-Monitoring-Assistant/dp/B0CG1X67V1/ref=sr_1_9?crid=3F8P8FM608Q2X&keywords=watch&qid=1699731701&sprefix=watch%2Caps%2C108&sr=8-9',\n",
       " 'https://www.amazon.in/Fire-Boltt-Launched-Display-Bluetooth-Assistance/dp/B0C497XVG9/ref=sr_1_10?crid=3F8P8FM608Q2X&keywords=watch&qid=1699731701&sprefix=watch%2Caps%2C108&sr=8-10',\n",
       " 'https://www.amazon.in/Fastrack-Limitless-Resolution-SingleSync-Watchfaces/dp/B0C5XS62LB/ref=sr_1_11?crid=3F8P8FM608Q2X&keywords=watch&qid=1699731701&sprefix=watch%2Caps%2C108&sr=8-11',\n",
       " 'https://www.amazon.in/Noise-Launched-Bluetooth-Calling-Tracking/dp/B0BJ72WZQ7/ref=sr_1_12?crid=3F8P8FM608Q2X&keywords=watch&qid=1699731701&sprefix=watch%2Caps%2C108&sr=8-12',\n",
       " 'https://www.amazon.in/boAt-Advanced-Bluetooth-Functional-Monitoring/dp/B0CDPW2KLV/ref=sr_1_13?crid=3F8P8FM608Q2X&keywords=watch&qid=1699731701&sprefix=watch%2Caps%2C108&sr=8-13',\n",
       " 'https://www.amazon.in/Shocknshop-Digital-Sports-Functional-315RED/dp/B08X1HCVWF/ref=sr_1_14?crid=3F8P8FM608Q2X&keywords=watch&qid=1699731701&sprefix=watch%2Caps%2C108&sr=8-14',\n",
       " 'https://www.amazon.in/Fire-Boltt-Bluetooth-Calling-Assistance-Monitoring/dp/B0B852Z6GY/ref=sr_1_15?crid=3F8P8FM608Q2X&keywords=watch&qid=1699731701&sprefix=watch%2Caps%2C108&sr=8-15',\n",
       " 'https://www.amazon.in/Fire-Boltt-Gladiator-Bluetooth-Assistant-Interactions/dp/B0BP18W8TM/ref=sr_1_16?crid=3F8P8FM608Q2X&keywords=watch&qid=1699731701&sprefix=watch%2Caps%2C108&sr=8-16',\n",
       " 'https://www.amazon.in/Fire-Boltt-Phoenix-Brightness-Stainless-Rotating/dp/B0CCNKMBS1/ref=sr_1_17?crid=3F8P8FM608Q2X&keywords=watch&qid=1699731701&sprefix=watch%2Caps%2C108&sr=8-17',\n",
       " 'https://www.amazon.in/LOUIS-DEVIN-Silicone-Analog-LD-BK054-BLACK/dp/B0BD5R89RQ/ref=sr_1_18?crid=3F8P8FM608Q2X&keywords=watch&qid=1699731701&sprefix=watch%2Caps%2C108&sr=8-18',\n",
       " 'https://www.amazon.in/Fire-Boltt-Bluetooth-Smartwatch-Assistant-Monitoring/dp/B0BRKXXPZ7/ref=sr_1_19?crid=3F8P8FM608Q2X&keywords=watch&qid=1699731701&sprefix=watch%2Caps%2C108&sr=8-19',\n",
       " 'https://www.amazon.in/Fire-Boltt-Bluetooth-Smartwatch-Assistant-Monitoring/dp/B0BRKYMS7Y/ref=sr_1_20?crid=3F8P8FM608Q2X&keywords=watch&qid=1699731701&sprefix=watch%2Caps%2C108&sr=8-20',\n",
       " 'https://www.amazon.in/sspa/click?ie=UTF8&spc=MTo3MzAwOTg1MTIwODc2Njc5OjE2OTk3MzE3MDE6c3BfbXRmOjMwMDA1ODcyOTcwNzgzMjo6MDo6&url=%2FCasio-G-Shock-Digital-GBX-100TT-8DR-G1391%2Fdp%2FB0C8V139PK%2Fref%3Dsr_1_21_sspa%3Fcrid%3D3F8P8FM608Q2X%26keywords%3Dwatch%26qid%3D1699731701%26sprefix%3Dwatch%252Caps%252C108%26sr%3D8-21-spons%26sp_csd%3Dd2lkZ2V0TmFtZT1zcF9tdGY%26psc%3D1',\n",
       " 'https://www.amazon.in/sspa/click?ie=UTF8&spc=MTo3MzAwOTg1MTIwODc2Njc5OjE2OTk3MzE3MDE6c3BfbXRmOjMwMDA2Njk1MzQ3MjczMjo6MDo6&url=%2FNIBOSI-Chronograph-Business-Waterproof-Stainless%2Fdp%2FB0CC8VNRPK%2Fref%3Dsr_1_22_sspa%3Fcrid%3D3F8P8FM608Q2X%26keywords%3Dwatch%26qid%3D1699731701%26sprefix%3Dwatch%252Caps%252C108%26sr%3D8-22-spons%26sp_csd%3Dd2lkZ2V0TmFtZT1zcF9tdGY%26psc%3D1',\n",
       " 'https://www.amazon.in/sspa/click?ie=UTF8&spc=MTo3MzAwOTg1MTIwODc2Njc5OjE2OTk3MzE3MDE6c3BfbXRmOjMwMDA1ODcyOTcwNzQzMjo6MDo6&url=%2FCasio-G-Shock-Digital-GBX-100TT-2DR-G1390%2Fdp%2FB0C8TZY4L1%2Fref%3Dsr_1_23_sspa%3Fcrid%3D3F8P8FM608Q2X%26keywords%3Dwatch%26qid%3D1699731701%26sprefix%3Dwatch%252Caps%252C108%26sr%3D8-23-spons%26sp_csd%3Dd2lkZ2V0TmFtZT1zcF9tdGY%26psc%3D1',\n",
       " 'https://www.amazon.in/sspa/click?ie=UTF8&spc=MTo3MzAwOTg1MTIwODc2Njc5OjE2OTk3MzE3MDE6c3BfbXRmOjMwMDAyODAyMTIzNTIzMjo6MDo6&url=%2FClass-Surgical-Charge-Chronograph-Watch-TWEG19302%2Fdp%2FB086H3JRR4%2Fref%3Dsr_1_24_sspa%3Fcrid%3D3F8P8FM608Q2X%26keywords%3Dwatch%26qid%3D1699731701%26sprefix%3Dwatch%252Caps%252C108%26sr%3D8-24-spons%26sp_csd%3Dd2lkZ2V0TmFtZT1zcF9tdGY%26psc%3D1',\n",
       " 'https://www.amazon.in/SELLORIA-Shockproof-Multi-Functional-Automatic-Waterproof/dp/B0B6SSGBN4/ref=sr_1_25?crid=3F8P8FM608Q2X&keywords=watch&qid=1699731701&sprefix=watch%2Caps%2C108&sr=8-25',\n",
       " 'https://www.amazon.in/Fire-Boltt-Ninja-Smartwatch-Sports-Tracking/dp/B09YV4RG4D/ref=sr_1_26?crid=3F8P8FM608Q2X&keywords=watch&qid=1699731701&sprefix=watch%2Caps%2C108&sr=8-26',\n",
       " 'https://www.amazon.in/Fire-Boltt-Phoenix-Bluetooth-Calling-Monitoring/dp/B0B3RSDSZ3/ref=sr_1_27?crid=3F8P8FM608Q2X&keywords=watch&qid=1699731701&sprefix=watch%2Caps%2C108&sr=8-27',\n",
       " 'https://www.amazon.in/NoiseFit-Bluetooth-Functional-Assistance-Tracker/dp/B0BMVT1R78/ref=sr_1_28?crid=3F8P8FM608Q2X&keywords=watch&qid=1699731701&sprefix=watch%2Caps%2C108&sr=8-28',\n",
       " 'https://www.amazon.in/OLICOM-Smartwatch-ID116-Functional-Compatible/dp/B0BT159Z1K/ref=sr_1_29?crid=3F8P8FM608Q2X&keywords=watch&qid=1699731701&sprefix=watch%2Caps%2C108&sr=8-29',\n",
       " 'https://www.amazon.in/Fire-Boltt-Phoenix-Stainless-Brightness-Rotating/dp/B0C5MR8TC9/ref=sr_1_30?crid=3F8P8FM608Q2X&keywords=watch&qid=1699731701&sprefix=watch%2Caps%2C108&sr=8-30',\n",
       " 'https://www.amazon.in/Fastrack-Analog-Black-Unisex-Adult-Watch-38024PP25/dp/B099WNYHY2/ref=sr_1_31?crid=3F8P8FM608Q2X&keywords=watch&qid=1699731701&sprefix=watch%2Caps%2C108&sr=8-31',\n",
       " 'https://www.amazon.in/Fire-Boltt-Gladiator-Bluetooth-Assistant-Interactions/dp/B0C96FWVZF/ref=sr_1_32?crid=3F8P8FM608Q2X&keywords=watch&qid=1699731701&sprefix=watch%2Caps%2C108&sr=8-32',\n",
       " 'https://www.amazon.in/boAt-Advanced-Bluetooth-Functional-Monitoring/dp/B0CDPVVGXF/ref=sr_1_33?crid=3F8P8FM608Q2X&keywords=watch&qid=1699731701&sprefix=watch%2Caps%2C108&sr=8-33',\n",
       " 'https://www.amazon.in/SELLORIA-Fashion-Digital-Stylish-Birthday/dp/B0BSV53PTD/ref=sr_1_34?crid=3F8P8FM608Q2X&keywords=watch&qid=1699731701&sprefix=watch%2Caps%2C108&sr=8-34',\n",
       " 'https://www.amazon.in/Timex-Analog-Blue-Dial-Watch-TW00ZR262E/dp/B07H3K85H5/ref=sr_1_35?crid=3F8P8FM608Q2X&keywords=watch&qid=1699731701&sprefix=watch%2Caps%2C108&sr=8-35',\n",
       " 'https://www.amazon.in/Fire-Boltt-Asteroid-Bluetooth-Resolution-Assistance/dp/B0C5D2HW1Z/ref=sr_1_36?crid=3F8P8FM608Q2X&keywords=watch&qid=1699731701&sprefix=watch%2Caps%2C108&sr=8-36',\n",
       " 'https://www.amazon.in/Premium-Digital-Rosegold-Vintage-WR-Rosegold/dp/B0BZJ1B578/ref=sr_1_37?crid=3F8P8FM608Q2X&keywords=watch&qid=1699731701&sprefix=watch%2Caps%2C108&sr=8-37',\n",
       " 'https://www.amazon.in/PAPIO-Analog-Watch-Black-Color/dp/B09SWZMC6W/ref=sr_1_38?crid=3F8P8FM608Q2X&keywords=watch&qid=1699731701&sprefix=watch%2Caps%2C108&sr=8-38',\n",
       " 'https://www.amazon.in/Fastrack-Analog-Blue-Dial-Watch-38024PP67W/dp/B0CJ4RT876/ref=sr_1_39?crid=3F8P8FM608Q2X&keywords=watch&qid=1699731701&sprefix=watch%2Caps%2C108&sr=8-39',\n",
       " 'https://www.amazon.in/TIMEWEAR-Functioning-White-Chain-Watch/dp/B07MDGSP8F/ref=sr_1_40?crid=3F8P8FM608Q2X&keywords=watch&qid=1699731701&sprefix=watch%2Caps%2C108&sr=8-40',\n",
       " 'https://www.amazon.in/beatXP-Display-Bluetooth-Monitoring-Assistant/dp/B0CDSCM9BN/ref=sr_1_41?crid=3F8P8FM608Q2X&keywords=watch&qid=1699731701&sprefix=watch%2Caps%2C108&sr=8-41',\n",
       " 'https://www.amazon.in/Fire-Boltt-Invincible-Smartwatch-Bluetooth-Connection/dp/B0BRMWKZZN/ref=sr_1_42?crid=3F8P8FM608Q2X&keywords=watch&qid=1699731701&sprefix=watch%2Caps%2C108&sr=8-42',\n",
       " 'https://www.amazon.in/Matrix-Antique-Leather-Strap-Analog/dp/B0BMTH89TD/ref=sr_1_43?crid=3F8P8FM608Q2X&keywords=watch&qid=1699731701&sprefix=watch%2Caps%2C108&sr=8-43',\n",
       " 'https://www.amazon.in/boAt-Smartwatch-Display-Bluetooth-Monitoring/dp/B0CBPL63B3/ref=sr_1_44?crid=3F8P8FM608Q2X&keywords=watch&qid=1699731701&sprefix=watch%2Caps%2C108&sr=8-44',\n",
       " 'https://www.amazon.in/boAt-Display-Calling-Football-Monitoring/dp/B0CC8XDW6H/ref=sr_1_45?crid=3F8P8FM608Q2X&keywords=watch&qid=1699731701&sprefix=watch%2Caps%2C108&sr=8-45',\n",
       " 'https://www.amazon.in/Noise-Launched-Bluetooth-Assistance-Metallic/dp/B0BW4DN9LP/ref=sr_1_46?crid=3F8P8FM608Q2X&keywords=watch&qid=1699731701&sprefix=watch%2Caps%2C108&sr=8-46',\n",
       " 'https://www.amazon.in/Rajwal-Barbie-Images-Projector-Digital/dp/B01M0W9K2M/ref=sr_1_47?crid=3F8P8FM608Q2X&keywords=watch&qid=1699731701&sprefix=watch%2Caps%2C108&sr=8-47',\n",
       " 'https://www.amazon.in/CrossBeats-Swimproof-Bluetooth-Certified-Smartwatch/dp/B0C4LJ6FSY/ref=sr_1_48?crid=3F8P8FM608Q2X&keywords=watch&qid=1699731701&sprefix=watch%2Caps%2C108&sr=8-48',\n",
       " 'https://www.amazon.in/Fastrack-Limitless-Resolution-SingleSync-Watchfaces/dp/B0CJ5CVD39/ref=sr_1_49?crid=3F8P8FM608Q2X&keywords=watch&qid=1699731701&sprefix=watch%2Caps%2C108&sr=8-49',\n",
       " 'https://www.amazon.in/Fossil-Smartwatch-Stainless-Bluetooth-calling/dp/B08FWKGKC2/ref=sr_1_50?crid=3F8P8FM608Q2X&keywords=watch&qid=1699731701&sprefix=watch%2Caps%2C108&sr=8-50',\n",
       " 'https://www.amazon.in/Louis-Devin-Steel-Analog-G042-BLK-CH/dp/B09LVH9PPN/ref=sr_1_51?crid=3F8P8FM608Q2X&keywords=watch&qid=1699731701&sprefix=watch%2Caps%2C108&sr=8-51',\n",
       " 'https://www.amazon.in/Fire-Boltt-Stainless-Boasting-Resolution-Brightness/dp/B0C5D7LV7V/ref=sr_1_52?crid=3F8P8FM608Q2X&keywords=watch&qid=1699731701&sprefix=watch%2Caps%2C108&sr=8-52',\n",
       " 'https://www.amazon.in/Apple-Cellular-Smartwatch-Precision-Extra-Long/dp/B0CHY1ZNT4/ref=sr_1_53?crid=3F8P8FM608Q2X&keywords=watch&qid=1699731701&sprefix=watch%2Caps%2C108&sr=8-53',\n",
       " 'https://www.amazon.in/Titan-Analog-Silver-Dial-Watch-1733KM03/dp/B0769KTM52/ref=sr_1_54?crid=3F8P8FM608Q2X&keywords=watch&qid=1699731701&sprefix=watch%2Caps%2C108&sr=8-54',\n",
       " 'https://www.amazon.in/Fastrack-Limitless-SingleSync-Watchfaces-Smartwatch/dp/B0CGTW292T/ref=sr_1_55?crid=3F8P8FM608Q2X&keywords=watch&qid=1699731701&sprefix=watch%2Caps%2C108&sr=8-55',\n",
       " 'https://www.amazon.in/Fastrack-Analog-Black-Womens-Watch-NK6117SM01/dp/B00RXJ6IM0/ref=sr_1_56?crid=3F8P8FM608Q2X&keywords=watch&qid=1699731701&sprefix=watch%2Caps%2C108&sr=8-56',\n",
       " 'https://www.amazon.in/sspa/click?ie=UTF8&spc=MTo3MzAwOTg1MTIwODc2Njc5OjE2OTk3MzE3MDE6c3BfYnRmOjIwMTY4NTE2NDk1Mzk4OjowOjo&url=%2FTIMEX-Analog-Blue-Dial-Watch-TWEG21703%2Fdp%2FB0BW75Q1J5%2Fref%3Dsr_1_57_sspa%3Fcrid%3D3F8P8FM608Q2X%26keywords%3Dwatch%26qid%3D1699731701%26sprefix%3Dwatch%252Caps%252C108%26sr%3D8-57-spons%26sp_csd%3Dd2lkZ2V0TmFtZT1zcF9idGY%26psc%3D1',\n",
       " 'https://www.amazon.in/sspa/click?ie=UTF8&spc=MTo3MzAwOTg1MTIwODc2Njc5OjE2OTk3MzE3MDE6c3BfYnRmOjMwMDA2Njk4NTg1OTMzMjo6MDo6&url=%2FNIBOSI-Analogue-Stainess-Business-Waterproof%2Fdp%2FB07S1B351X%2Fref%3Dsr_1_58_sspa%3Fcrid%3D3F8P8FM608Q2X%26keywords%3Dwatch%26qid%3D1699731701%26sprefix%3Dwatch%252Caps%252C108%26sr%3D8-58-spons%26sp_csd%3Dd2lkZ2V0TmFtZT1zcF9idGY%26psc%3D1',\n",
       " 'https://www.amazon.in/sspa/click?ie=UTF8&spc=MTo3MzAwOTg1MTIwODc2Njc5OjE2OTk3MzE3MDE6c3BfYnRmOjMwMDA4NjM3Mjk5OTMzMjo6MDo6&url=%2FDaniel-Wellington-Analog-Unisexs-Watch-DW00100545%2Fdp%2FB09X8PYCYM%2Fref%3Dsr_1_59_sspa%3Fcrid%3D3F8P8FM608Q2X%26keywords%3Dwatch%26qid%3D1699731701%26sprefix%3Dwatch%252Caps%252C108%26sr%3D8-59-spons%26sp_csd%3Dd2lkZ2V0TmFtZT1zcF9idGY%26psc%3D1',\n",
       " 'https://www.amazon.in/sspa/click?ie=UTF8&spc=MTo3MzAwOTg1MTIwODc2Njc5OjE2OTk3MzE3MDE6c3BfYnRmOjMwMDA1ODcyOTcwNzYzMjo6MDo6&url=%2FCasio-G-Shock-Black-Analog-Digital-GA-2100RC-1ADR%2Fdp%2FB0C8TXWHTQ%2Fref%3Dsr_1_60_sspa%3Fcrid%3D3F8P8FM608Q2X%26keywords%3Dwatch%26qid%3D1699731701%26sprefix%3Dwatch%252Caps%252C108%26sr%3D8-60-spons%26sp_csd%3Dd2lkZ2V0TmFtZT1zcF9idGY%26psc%3D1',\n",
       " 'https://aax-eu.amazon.in/x/c/RB5Ht8tCZH3tzQE_bOfmi-4AAAGLv-eAcQMAAAH2AQBvbm9fdHhuX2JpZDMgICBvbm9fdHhuX2ltcDEgICCLoe02/https://www.amazon.in/SKYBALL-Resolution-Brightness-Watchface-Magnetic/dp/B0CB4KFMFP/ref=sxbs_sbv_search_btf?content-id=amzn1.sym.7d6d801d-0b91-42f0-9ded-a1900c21a285%3Aamzn1.sym.7d6d801d-0b91-42f0-9ded-a1900c21a285&crid=3F8P8FM608Q2X&cv_ct_cx=watch&keywords=watch&pd_rd_i=B0CB4KFMFP&pd_rd_r=361e317d-069c-40e0-862f-6813adb6bfc1&pd_rd_w=2gqyU&pd_rd_wg=huoKW&pf_rd_p=7d6d801d-0b91-42f0-9ded-a1900c21a285&pf_rd_r=E8HVP8N08BNHAPMKJ6TP&qid=1699731701&sbo=RZvfv%2F%2FHxDF%2BO5021pAnSA%3D%3D&sprefix=watch%2Caps%2C108&sr=1-1-25dedf61-9bde-4412-952b-c956ef4fc546',\n",
       " 'https://www.amazon.in/sspa/click?ie=UTF8&spc=MTo3MzAwOTg1MTIwODc2Njc5OjE2OTk3MzE3MDE6c3BfYXRmOjMwMDA2Njk1MzQ3MjEzMjo6MDo6&url=%2FNIBOSI-Waterproof-Chronograph-Stainless-Calendar%2Fdp%2FB0C5C733T4%2Fref%3Dsr_1_1_sspa%3Fcrid%3D3F8P8FM608Q2X%26keywords%3Dwatch%26qid%3D1699731701%26sprefix%3Dwatch%252Caps%252C108%26sr%3D8-1-spons%26sp_csd%3Dd2lkZ2V0TmFtZT1zcF9hdGY%26psc%3D1',\n",
       " 'https://www.amazon.in/sspa/click?ie=UTF8&spc=MTo3MzAwOTg1MTIwODc2Njc5OjE2OTk3MzE3MDE6c3BfYXRmOjMwMDAyODAyMTIwODczMjo6MDo6&url=%2FTIMEX-Analog-Black-Dial-Watch-TWEG19605%2Fdp%2FB08WH6CCKX%2Fref%3Dsr_1_2_sspa%3Fcrid%3D3F8P8FM608Q2X%26keywords%3Dwatch%26qid%3D1699731701%26sprefix%3Dwatch%252Caps%252C108%26sr%3D8-2-spons%26sp_csd%3Dd2lkZ2V0TmFtZT1zcF9hdGY%26psc%3D1',\n",
       " 'https://www.amazon.in/sspa/click?ie=UTF8&spc=MTo3MzAwOTg1MTIwODc2Njc5OjE2OTk3MzE3MDE6c3BfYXRmOjMwMDAyOTAwNDM2MTczMjo6MDo6&url=%2FLuminous-Fashionable-Children-Waterproof-Electronic%2Fdp%2FB0CBN6CHV1%2Fref%3Dsr_1_3_sspa%3Fcrid%3D3F8P8FM608Q2X%26keywords%3Dwatch%26qid%3D1699731701%26sprefix%3Dwatch%252Caps%252C108%26sr%3D8-3-spons%26sp_csd%3Dd2lkZ2V0TmFtZT1zcF9hdGY%26psc%3D1',\n",
       " 'https://www.amazon.in/sspa/click?ie=UTF8&spc=MTo3MzAwOTg1MTIwODc2Njc5OjE2OTk3MzE3MDE6c3BfYXRmOjIwMTI4ODcwNzgzOTk4OjowOjo&url=%2FTIME-OCTUS-Digital-Multi-Functional-DIGI-022%2Fdp%2FB0BXXQSVLP%2Fref%3Dsr_1_4_sspa%3Fcrid%3D3F8P8FM608Q2X%26keywords%3Dwatch%26qid%3D1699731701%26sprefix%3Dwatch%252Caps%252C108%26sr%3D8-4-spons%26sp_csd%3Dd2lkZ2V0TmFtZT1zcF9hdGY%26psc%3D1',\n",
       " 'https://www.amazon.in/Fire-Boltt-Bluetooth-Calling-Assistance-Resolution/dp/B0BF57RN3K/ref=sr_1_5?crid=3F8P8FM608Q2X&keywords=watch&qid=1699731701&sprefix=watch%2Caps%2C108&sr=8-5',\n",
       " 'https://www.amazon.in/beatXP-Bluetooth-Assistant-Monitoring-Charging/dp/B0BRFX19Y1/ref=sr_1_6?crid=3F8P8FM608Q2X&keywords=watch&qid=1699731701&sprefix=watch%2Caps%2C108&sr=8-6',\n",
       " 'https://www.amazon.in/Fire-Boltt-Launched-Display-Bluetooth-Assistance/dp/B0C496V772/ref=sr_1_7?crid=3F8P8FM608Q2X&keywords=watch&qid=1699731701&sprefix=watch%2Caps%2C108&sr=8-7',\n",
       " 'https://aax-eu.amazon.in/x/c/RHLFdTMq0tCnfX2iGmKjbtwAAAGLv-eAXAMAAAH2AQBvbm9fdHhuX2JpZDIgICBvbm9fdHhuX2ltcDEgICDqOT6G/https://www.amazon.in/SKYBALL-Resolution-Brightness-Watchface-Magnetic/dp/B0CB4KFMFP/ref=sxin_17_sbv_search_btf?content-id=amzn1.sym.10447c6b-3f84-4df3-b999-01a8bbbf010e%3Aamzn1.sym.10447c6b-3f84-4df3-b999-01a8bbbf010e&crid=3F8P8FM608Q2X&cv_ct_cx=watch&keywords=watch&pd_rd_i=B0CB4KFMFP&pd_rd_r=4e86bc9e-366b-433b-b5aa-cd160a0e6bd3&pd_rd_w=1XM43&pd_rd_wg=31saO&pf_rd_p=10447c6b-3f84-4df3-b999-01a8bbbf010e&pf_rd_r=E8HVP8N08BNHAPMKJ6TP&qid=1699731701&sbo=RZvfv%2F%2FHxDF%2BO5021pAnSA%3D%3D&sprefix=watch%2Caps%2C108&sr=1-1-b614a050-8d70-4320-9c19-cc457ab2a351',\n",
       " 'https://www.amazon.in/Matrix-Antique-Softest-Silicone-Analog/dp/B0CK6N9VDC/ref=sr_1_8?crid=3F8P8FM608Q2X&keywords=watch&qid=1699731701&sprefix=watch%2Caps%2C108&sr=8-8',\n",
       " 'https://www.amazon.in/Fire-Boltt-Stainless-Bluetooth-Monitoring-Assistant/dp/B0CG1X67V1/ref=sr_1_9?crid=3F8P8FM608Q2X&keywords=watch&qid=1699731701&sprefix=watch%2Caps%2C108&sr=8-9',\n",
       " 'https://www.amazon.in/Fire-Boltt-Launched-Display-Bluetooth-Assistance/dp/B0C497XVG9/ref=sr_1_10?crid=3F8P8FM608Q2X&keywords=watch&qid=1699731701&sprefix=watch%2Caps%2C108&sr=8-10',\n",
       " 'https://www.amazon.in/Fastrack-Limitless-Resolution-SingleSync-Watchfaces/dp/B0C5XS62LB/ref=sr_1_11?crid=3F8P8FM608Q2X&keywords=watch&qid=1699731701&sprefix=watch%2Caps%2C108&sr=8-11',\n",
       " 'https://www.amazon.in/Noise-Launched-Bluetooth-Calling-Tracking/dp/B0BJ72WZQ7/ref=sr_1_12?crid=3F8P8FM608Q2X&keywords=watch&qid=1699731701&sprefix=watch%2Caps%2C108&sr=8-12',\n",
       " 'https://www.amazon.in/boAt-Advanced-Bluetooth-Functional-Monitoring/dp/B0CDPW2KLV/ref=sr_1_13?crid=3F8P8FM608Q2X&keywords=watch&qid=1699731701&sprefix=watch%2Caps%2C108&sr=8-13',\n",
       " 'https://www.amazon.in/Shocknshop-Digital-Sports-Functional-315RED/dp/B08X1HCVWF/ref=sr_1_14?crid=3F8P8FM608Q2X&keywords=watch&qid=1699731701&sprefix=watch%2Caps%2C108&sr=8-14',\n",
       " 'https://www.amazon.in/Fire-Boltt-Bluetooth-Calling-Assistance-Monitoring/dp/B0B852Z6GY/ref=sr_1_15?crid=3F8P8FM608Q2X&keywords=watch&qid=1699731701&sprefix=watch%2Caps%2C108&sr=8-15',\n",
       " 'https://www.amazon.in/Fire-Boltt-Gladiator-Bluetooth-Assistant-Interactions/dp/B0BP18W8TM/ref=sr_1_16?crid=3F8P8FM608Q2X&keywords=watch&qid=1699731701&sprefix=watch%2Caps%2C108&sr=8-16',\n",
       " 'https://www.amazon.in/Fire-Boltt-Phoenix-Brightness-Stainless-Rotating/dp/B0CCNKMBS1/ref=sr_1_17?crid=3F8P8FM608Q2X&keywords=watch&qid=1699731701&sprefix=watch%2Caps%2C108&sr=8-17',\n",
       " 'https://www.amazon.in/LOUIS-DEVIN-Silicone-Analog-LD-BK054-BLACK/dp/B0BD5R89RQ/ref=sr_1_18?crid=3F8P8FM608Q2X&keywords=watch&qid=1699731701&sprefix=watch%2Caps%2C108&sr=8-18',\n",
       " 'https://www.amazon.in/Fire-Boltt-Bluetooth-Smartwatch-Assistant-Monitoring/dp/B0BRKXXPZ7/ref=sr_1_19?crid=3F8P8FM608Q2X&keywords=watch&qid=1699731701&sprefix=watch%2Caps%2C108&sr=8-19',\n",
       " 'https://www.amazon.in/Fire-Boltt-Bluetooth-Smartwatch-Assistant-Monitoring/dp/B0BRKYMS7Y/ref=sr_1_20?crid=3F8P8FM608Q2X&keywords=watch&qid=1699731701&sprefix=watch%2Caps%2C108&sr=8-20',\n",
       " 'https://www.amazon.in/sspa/click?ie=UTF8&spc=MTo3MzAwOTg1MTIwODc2Njc5OjE2OTk3MzE3MDE6c3BfbXRmOjMwMDA1ODcyOTcwNzgzMjo6MDo6&url=%2FCasio-G-Shock-Digital-GBX-100TT-8DR-G1391%2Fdp%2FB0C8V139PK%2Fref%3Dsr_1_21_sspa%3Fcrid%3D3F8P8FM608Q2X%26keywords%3Dwatch%26qid%3D1699731701%26sprefix%3Dwatch%252Caps%252C108%26sr%3D8-21-spons%26sp_csd%3Dd2lkZ2V0TmFtZT1zcF9tdGY%26psc%3D1',\n",
       " 'https://www.amazon.in/sspa/click?ie=UTF8&spc=MTo3MzAwOTg1MTIwODc2Njc5OjE2OTk3MzE3MDE6c3BfbXRmOjMwMDA2Njk1MzQ3MjczMjo6MDo6&url=%2FNIBOSI-Chronograph-Business-Waterproof-Stainless%2Fdp%2FB0CC8VNRPK%2Fref%3Dsr_1_22_sspa%3Fcrid%3D3F8P8FM608Q2X%26keywords%3Dwatch%26qid%3D1699731701%26sprefix%3Dwatch%252Caps%252C108%26sr%3D8-22-spons%26sp_csd%3Dd2lkZ2V0TmFtZT1zcF9tdGY%26psc%3D1',\n",
       " 'https://www.amazon.in/sspa/click?ie=UTF8&spc=MTo3MzAwOTg1MTIwODc2Njc5OjE2OTk3MzE3MDE6c3BfbXRmOjMwMDA1ODcyOTcwNzQzMjo6MDo6&url=%2FCasio-G-Shock-Digital-GBX-100TT-2DR-G1390%2Fdp%2FB0C8TZY4L1%2Fref%3Dsr_1_23_sspa%3Fcrid%3D3F8P8FM608Q2X%26keywords%3Dwatch%26qid%3D1699731701%26sprefix%3Dwatch%252Caps%252C108%26sr%3D8-23-spons%26sp_csd%3Dd2lkZ2V0TmFtZT1zcF9tdGY%26psc%3D1',\n",
       " 'https://www.amazon.in/sspa/click?ie=UTF8&spc=MTo3MzAwOTg1MTIwODc2Njc5OjE2OTk3MzE3MDE6c3BfbXRmOjMwMDAyODAyMTIzNTIzMjo6MDo6&url=%2FClass-Surgical-Charge-Chronograph-Watch-TWEG19302%2Fdp%2FB086H3JRR4%2Fref%3Dsr_1_24_sspa%3Fcrid%3D3F8P8FM608Q2X%26keywords%3Dwatch%26qid%3D1699731701%26sprefix%3Dwatch%252Caps%252C108%26sr%3D8-24-spons%26sp_csd%3Dd2lkZ2V0TmFtZT1zcF9tdGY%26psc%3D1',\n",
       " 'https://www.amazon.in/SELLORIA-Shockproof-Multi-Functional-Automatic-Waterproof/dp/B0B6SSGBN4/ref=sr_1_25?crid=3F8P8FM608Q2X&keywords=watch&qid=1699731701&sprefix=watch%2Caps%2C108&sr=8-25',\n",
       " 'https://www.amazon.in/Fire-Boltt-Ninja-Smartwatch-Sports-Tracking/dp/B09YV4RG4D/ref=sr_1_26?crid=3F8P8FM608Q2X&keywords=watch&qid=1699731701&sprefix=watch%2Caps%2C108&sr=8-26',\n",
       " 'https://www.amazon.in/Fire-Boltt-Phoenix-Bluetooth-Calling-Monitoring/dp/B0B3RSDSZ3/ref=sr_1_27?crid=3F8P8FM608Q2X&keywords=watch&qid=1699731701&sprefix=watch%2Caps%2C108&sr=8-27',\n",
       " 'https://www.amazon.in/NoiseFit-Bluetooth-Functional-Assistance-Tracker/dp/B0BMVT1R78/ref=sr_1_28?crid=3F8P8FM608Q2X&keywords=watch&qid=1699731701&sprefix=watch%2Caps%2C108&sr=8-28',\n",
       " 'https://www.amazon.in/OLICOM-Smartwatch-ID116-Functional-Compatible/dp/B0BT159Z1K/ref=sr_1_29?crid=3F8P8FM608Q2X&keywords=watch&qid=1699731701&sprefix=watch%2Caps%2C108&sr=8-29',\n",
       " 'https://www.amazon.in/Fire-Boltt-Phoenix-Stainless-Brightness-Rotating/dp/B0C5MR8TC9/ref=sr_1_30?crid=3F8P8FM608Q2X&keywords=watch&qid=1699731701&sprefix=watch%2Caps%2C108&sr=8-30',\n",
       " 'https://www.amazon.in/Fastrack-Analog-Black-Unisex-Adult-Watch-38024PP25/dp/B099WNYHY2/ref=sr_1_31?crid=3F8P8FM608Q2X&keywords=watch&qid=1699731701&sprefix=watch%2Caps%2C108&sr=8-31',\n",
       " 'https://www.amazon.in/Fire-Boltt-Gladiator-Bluetooth-Assistant-Interactions/dp/B0C96FWVZF/ref=sr_1_32?crid=3F8P8FM608Q2X&keywords=watch&qid=1699731701&sprefix=watch%2Caps%2C108&sr=8-32',\n",
       " 'https://www.amazon.in/boAt-Advanced-Bluetooth-Functional-Monitoring/dp/B0CDPVVGXF/ref=sr_1_33?crid=3F8P8FM608Q2X&keywords=watch&qid=1699731701&sprefix=watch%2Caps%2C108&sr=8-33',\n",
       " 'https://www.amazon.in/SELLORIA-Fashion-Digital-Stylish-Birthday/dp/B0BSV53PTD/ref=sr_1_34?crid=3F8P8FM608Q2X&keywords=watch&qid=1699731701&sprefix=watch%2Caps%2C108&sr=8-34',\n",
       " 'https://www.amazon.in/Timex-Analog-Blue-Dial-Watch-TW00ZR262E/dp/B07H3K85H5/ref=sr_1_35?crid=3F8P8FM608Q2X&keywords=watch&qid=1699731701&sprefix=watch%2Caps%2C108&sr=8-35',\n",
       " 'https://www.amazon.in/Fire-Boltt-Asteroid-Bluetooth-Resolution-Assistance/dp/B0C5D2HW1Z/ref=sr_1_36?crid=3F8P8FM608Q2X&keywords=watch&qid=1699731701&sprefix=watch%2Caps%2C108&sr=8-36',\n",
       " 'https://www.amazon.in/Premium-Digital-Rosegold-Vintage-WR-Rosegold/dp/B0BZJ1B578/ref=sr_1_37?crid=3F8P8FM608Q2X&keywords=watch&qid=1699731701&sprefix=watch%2Caps%2C108&sr=8-37',\n",
       " 'https://www.amazon.in/PAPIO-Analog-Watch-Black-Color/dp/B09SWZMC6W/ref=sr_1_38?crid=3F8P8FM608Q2X&keywords=watch&qid=1699731701&sprefix=watch%2Caps%2C108&sr=8-38',\n",
       " 'https://www.amazon.in/Fastrack-Analog-Blue-Dial-Watch-38024PP67W/dp/B0CJ4RT876/ref=sr_1_39?crid=3F8P8FM608Q2X&keywords=watch&qid=1699731701&sprefix=watch%2Caps%2C108&sr=8-39',\n",
       " 'https://www.amazon.in/TIMEWEAR-Functioning-White-Chain-Watch/dp/B07MDGSP8F/ref=sr_1_40?crid=3F8P8FM608Q2X&keywords=watch&qid=1699731701&sprefix=watch%2Caps%2C108&sr=8-40',\n",
       " 'https://www.amazon.in/beatXP-Display-Bluetooth-Monitoring-Assistant/dp/B0CDSCM9BN/ref=sr_1_41?crid=3F8P8FM608Q2X&keywords=watch&qid=1699731701&sprefix=watch%2Caps%2C108&sr=8-41',\n",
       " 'https://www.amazon.in/Fire-Boltt-Invincible-Smartwatch-Bluetooth-Connection/dp/B0BRMWKZZN/ref=sr_1_42?crid=3F8P8FM608Q2X&keywords=watch&qid=1699731701&sprefix=watch%2Caps%2C108&sr=8-42',\n",
       " 'https://www.amazon.in/Matrix-Antique-Leather-Strap-Analog/dp/B0BMTH89TD/ref=sr_1_43?crid=3F8P8FM608Q2X&keywords=watch&qid=1699731701&sprefix=watch%2Caps%2C108&sr=8-43',\n",
       " 'https://www.amazon.in/boAt-Smartwatch-Display-Bluetooth-Monitoring/dp/B0CBPL63B3/ref=sr_1_44?crid=3F8P8FM608Q2X&keywords=watch&qid=1699731701&sprefix=watch%2Caps%2C108&sr=8-44',\n",
       " 'https://www.amazon.in/boAt-Display-Calling-Football-Monitoring/dp/B0CC8XDW6H/ref=sr_1_45?crid=3F8P8FM608Q2X&keywords=watch&qid=1699731701&sprefix=watch%2Caps%2C108&sr=8-45',\n",
       " 'https://www.amazon.in/Noise-Launched-Bluetooth-Assistance-Metallic/dp/B0BW4DN9LP/ref=sr_1_46?crid=3F8P8FM608Q2X&keywords=watch&qid=1699731701&sprefix=watch%2Caps%2C108&sr=8-46',\n",
       " 'https://www.amazon.in/Rajwal-Barbie-Images-Projector-Digital/dp/B01M0W9K2M/ref=sr_1_47?crid=3F8P8FM608Q2X&keywords=watch&qid=1699731701&sprefix=watch%2Caps%2C108&sr=8-47',\n",
       " 'https://www.amazon.in/CrossBeats-Swimproof-Bluetooth-Certified-Smartwatch/dp/B0C4LJ6FSY/ref=sr_1_48?crid=3F8P8FM608Q2X&keywords=watch&qid=1699731701&sprefix=watch%2Caps%2C108&sr=8-48',\n",
       " 'https://www.amazon.in/Fastrack-Limitless-Resolution-SingleSync-Watchfaces/dp/B0CJ5CVD39/ref=sr_1_49?crid=3F8P8FM608Q2X&keywords=watch&qid=1699731701&sprefix=watch%2Caps%2C108&sr=8-49',\n",
       " 'https://www.amazon.in/Fossil-Smartwatch-Stainless-Bluetooth-calling/dp/B08FWKGKC2/ref=sr_1_50?crid=3F8P8FM608Q2X&keywords=watch&qid=1699731701&sprefix=watch%2Caps%2C108&sr=8-50',\n",
       " 'https://www.amazon.in/Louis-Devin-Steel-Analog-G042-BLK-CH/dp/B09LVH9PPN/ref=sr_1_51?crid=3F8P8FM608Q2X&keywords=watch&qid=1699731701&sprefix=watch%2Caps%2C108&sr=8-51',\n",
       " 'https://www.amazon.in/Fire-Boltt-Stainless-Boasting-Resolution-Brightness/dp/B0C5D7LV7V/ref=sr_1_52?crid=3F8P8FM608Q2X&keywords=watch&qid=1699731701&sprefix=watch%2Caps%2C108&sr=8-52',\n",
       " 'https://www.amazon.in/Apple-Cellular-Smartwatch-Precision-Extra-Long/dp/B0CHY1ZNT4/ref=sr_1_53?crid=3F8P8FM608Q2X&keywords=watch&qid=1699731701&sprefix=watch%2Caps%2C108&sr=8-53',\n",
       " 'https://www.amazon.in/Titan-Analog-Silver-Dial-Watch-1733KM03/dp/B0769KTM52/ref=sr_1_54?crid=3F8P8FM608Q2X&keywords=watch&qid=1699731701&sprefix=watch%2Caps%2C108&sr=8-54',\n",
       " 'https://www.amazon.in/Fastrack-Limitless-SingleSync-Watchfaces-Smartwatch/dp/B0CGTW292T/ref=sr_1_55?crid=3F8P8FM608Q2X&keywords=watch&qid=1699731701&sprefix=watch%2Caps%2C108&sr=8-55',\n",
       " 'https://www.amazon.in/Fastrack-Analog-Black-Womens-Watch-NK6117SM01/dp/B00RXJ6IM0/ref=sr_1_56?crid=3F8P8FM608Q2X&keywords=watch&qid=1699731701&sprefix=watch%2Caps%2C108&sr=8-56',\n",
       " 'https://www.amazon.in/sspa/click?ie=UTF8&spc=MTo3MzAwOTg1MTIwODc2Njc5OjE2OTk3MzE3MDE6c3BfYnRmOjIwMTY4NTE2NDk1Mzk4OjowOjo&url=%2FTIMEX-Analog-Blue-Dial-Watch-TWEG21703%2Fdp%2FB0BW75Q1J5%2Fref%3Dsr_1_57_sspa%3Fcrid%3D3F8P8FM608Q2X%26keywords%3Dwatch%26qid%3D1699731701%26sprefix%3Dwatch%252Caps%252C108%26sr%3D8-57-spons%26sp_csd%3Dd2lkZ2V0TmFtZT1zcF9idGY%26psc%3D1',\n",
       " 'https://www.amazon.in/sspa/click?ie=UTF8&spc=MTo3MzAwOTg1MTIwODc2Njc5OjE2OTk3MzE3MDE6c3BfYnRmOjMwMDA2Njk4NTg1OTMzMjo6MDo6&url=%2FNIBOSI-Analogue-Stainess-Business-Waterproof%2Fdp%2FB07S1B351X%2Fref%3Dsr_1_58_sspa%3Fcrid%3D3F8P8FM608Q2X%26keywords%3Dwatch%26qid%3D1699731701%26sprefix%3Dwatch%252Caps%252C108%26sr%3D8-58-spons%26sp_csd%3Dd2lkZ2V0TmFtZT1zcF9idGY%26psc%3D1',\n",
       " 'https://www.amazon.in/sspa/click?ie=UTF8&spc=MTo3MzAwOTg1MTIwODc2Njc5OjE2OTk3MzE3MDE6c3BfYnRmOjMwMDA4NjM3Mjk5OTMzMjo6MDo6&url=%2FDaniel-Wellington-Analog-Unisexs-Watch-DW00100545%2Fdp%2FB09X8PYCYM%2Fref%3Dsr_1_59_sspa%3Fcrid%3D3F8P8FM608Q2X%26keywords%3Dwatch%26qid%3D1699731701%26sprefix%3Dwatch%252Caps%252C108%26sr%3D8-59-spons%26sp_csd%3Dd2lkZ2V0TmFtZT1zcF9idGY%26psc%3D1',\n",
       " 'https://www.amazon.in/sspa/click?ie=UTF8&spc=MTo3MzAwOTg1MTIwODc2Njc5OjE2OTk3MzE3MDE6c3BfYnRmOjMwMDA1ODcyOTcwNzYzMjo6MDo6&url=%2FCasio-G-Shock-Black-Analog-Digital-GA-2100RC-1ADR%2Fdp%2FB0C8TXWHTQ%2Fref%3Dsr_1_60_sspa%3Fcrid%3D3F8P8FM608Q2X%26keywords%3Dwatch%26qid%3D1699731701%26sprefix%3Dwatch%252Caps%252C108%26sr%3D8-60-spons%26sp_csd%3Dd2lkZ2V0TmFtZT1zcF9idGY%26psc%3D1',\n",
       " 'https://aax-eu.amazon.in/x/c/RB5Ht8tCZH3tzQE_bOfmi-4AAAGLv-eAcQMAAAH2AQBvbm9fdHhuX2JpZDMgICBvbm9fdHhuX2ltcDEgICCLoe02/https://www.amazon.in/SKYBALL-Resolution-Brightness-Watchface-Magnetic/dp/B0CB4KFMFP/ref=sxbs_sbv_search_btf?content-id=amzn1.sym.7d6d801d-0b91-42f0-9ded-a1900c21a285%3Aamzn1.sym.7d6d801d-0b91-42f0-9ded-a1900c21a285&crid=3F8P8FM608Q2X&cv_ct_cx=watch&keywords=watch&pd_rd_i=B0CB4KFMFP&pd_rd_r=361e317d-069c-40e0-862f-6813adb6bfc1&pd_rd_w=2gqyU&pd_rd_wg=huoKW&pf_rd_p=7d6d801d-0b91-42f0-9ded-a1900c21a285&pf_rd_r=E8HVP8N08BNHAPMKJ6TP&qid=1699731701&sbo=RZvfv%2F%2FHxDF%2BO5021pAnSA%3D%3D&sprefix=watch%2Caps%2C108&sr=1-1-25dedf61-9bde-4412-952b-c956ef4fc546',\n",
       " 'https://www.amazon.in/sspa/click?ie=UTF8&spc=MTo3MzAwOTg1MTIwODc2Njc5OjE2OTk3MzE3MDE6c3BfYXRmOjMwMDA2Njk1MzQ3MjEzMjo6MDo6&url=%2FNIBOSI-Waterproof-Chronograph-Stainless-Calendar%2Fdp%2FB0C5C733T4%2Fref%3Dsr_1_1_sspa%3Fcrid%3D3F8P8FM608Q2X%26keywords%3Dwatch%26qid%3D1699731701%26sprefix%3Dwatch%252Caps%252C108%26sr%3D8-1-spons%26sp_csd%3Dd2lkZ2V0TmFtZT1zcF9hdGY%26psc%3D1',\n",
       " 'https://www.amazon.in/sspa/click?ie=UTF8&spc=MTo3MzAwOTg1MTIwODc2Njc5OjE2OTk3MzE3MDE6c3BfYXRmOjMwMDAyODAyMTIwODczMjo6MDo6&url=%2FTIMEX-Analog-Black-Dial-Watch-TWEG19605%2Fdp%2FB08WH6CCKX%2Fref%3Dsr_1_2_sspa%3Fcrid%3D3F8P8FM608Q2X%26keywords%3Dwatch%26qid%3D1699731701%26sprefix%3Dwatch%252Caps%252C108%26sr%3D8-2-spons%26sp_csd%3Dd2lkZ2V0TmFtZT1zcF9hdGY%26psc%3D1',\n",
       " 'https://www.amazon.in/sspa/click?ie=UTF8&spc=MTo3MzAwOTg1MTIwODc2Njc5OjE2OTk3MzE3MDE6c3BfYXRmOjMwMDAyOTAwNDM2MTczMjo6MDo6&url=%2FLuminous-Fashionable-Children-Waterproof-Electronic%2Fdp%2FB0CBN6CHV1%2Fref%3Dsr_1_3_sspa%3Fcrid%3D3F8P8FM608Q2X%26keywords%3Dwatch%26qid%3D1699731701%26sprefix%3Dwatch%252Caps%252C108%26sr%3D8-3-spons%26sp_csd%3Dd2lkZ2V0TmFtZT1zcF9hdGY%26psc%3D1',\n",
       " 'https://www.amazon.in/sspa/click?ie=UTF8&spc=MTo3MzAwOTg1MTIwODc2Njc5OjE2OTk3MzE3MDE6c3BfYXRmOjIwMTI4ODcwNzgzOTk4OjowOjo&url=%2FTIME-OCTUS-Digital-Multi-Functional-DIGI-022%2Fdp%2FB0BXXQSVLP%2Fref%3Dsr_1_4_sspa%3Fcrid%3D3F8P8FM608Q2X%26keywords%3Dwatch%26qid%3D1699731701%26sprefix%3Dwatch%252Caps%252C108%26sr%3D8-4-spons%26sp_csd%3Dd2lkZ2V0TmFtZT1zcF9hdGY%26psc%3D1',\n",
       " 'https://www.amazon.in/Fire-Boltt-Bluetooth-Calling-Assistance-Resolution/dp/B0BF57RN3K/ref=sr_1_5?crid=3F8P8FM608Q2X&keywords=watch&qid=1699731701&sprefix=watch%2Caps%2C108&sr=8-5',\n",
       " 'https://www.amazon.in/beatXP-Bluetooth-Assistant-Monitoring-Charging/dp/B0BRFX19Y1/ref=sr_1_6?crid=3F8P8FM608Q2X&keywords=watch&qid=1699731701&sprefix=watch%2Caps%2C108&sr=8-6',\n",
       " 'https://www.amazon.in/Fire-Boltt-Launched-Display-Bluetooth-Assistance/dp/B0C496V772/ref=sr_1_7?crid=3F8P8FM608Q2X&keywords=watch&qid=1699731701&sprefix=watch%2Caps%2C108&sr=8-7',\n",
       " 'https://aax-eu.amazon.in/x/c/RHLFdTMq0tCnfX2iGmKjbtwAAAGLv-eAXAMAAAH2AQBvbm9fdHhuX2JpZDIgICBvbm9fdHhuX2ltcDEgICDqOT6G/https://www.amazon.in/SKYBALL-Resolution-Brightness-Watchface-Magnetic/dp/B0CB4KFMFP/ref=sxin_17_sbv_search_btf?content-id=amzn1.sym.10447c6b-3f84-4df3-b999-01a8bbbf010e%3Aamzn1.sym.10447c6b-3f84-4df3-b999-01a8bbbf010e&crid=3F8P8FM608Q2X&cv_ct_cx=watch&keywords=watch&pd_rd_i=B0CB4KFMFP&pd_rd_r=4e86bc9e-366b-433b-b5aa-cd160a0e6bd3&pd_rd_w=1XM43&pd_rd_wg=31saO&pf_rd_p=10447c6b-3f84-4df3-b999-01a8bbbf010e&pf_rd_r=E8HVP8N08BNHAPMKJ6TP&qid=1699731701&sbo=RZvfv%2F%2FHxDF%2BO5021pAnSA%3D%3D&sprefix=watch%2Caps%2C108&sr=1-1-b614a050-8d70-4320-9c19-cc457ab2a351',\n",
       " 'https://www.amazon.in/Matrix-Antique-Softest-Silicone-Analog/dp/B0CK6N9VDC/ref=sr_1_8?crid=3F8P8FM608Q2X&keywords=watch&qid=1699731701&sprefix=watch%2Caps%2C108&sr=8-8',\n",
       " 'https://www.amazon.in/Fire-Boltt-Stainless-Bluetooth-Monitoring-Assistant/dp/B0CG1X67V1/ref=sr_1_9?crid=3F8P8FM608Q2X&keywords=watch&qid=1699731701&sprefix=watch%2Caps%2C108&sr=8-9',\n",
       " 'https://www.amazon.in/Fire-Boltt-Launched-Display-Bluetooth-Assistance/dp/B0C497XVG9/ref=sr_1_10?crid=3F8P8FM608Q2X&keywords=watch&qid=1699731701&sprefix=watch%2Caps%2C108&sr=8-10',\n",
       " 'https://www.amazon.in/Fastrack-Limitless-Resolution-SingleSync-Watchfaces/dp/B0C5XS62LB/ref=sr_1_11?crid=3F8P8FM608Q2X&keywords=watch&qid=1699731701&sprefix=watch%2Caps%2C108&sr=8-11',\n",
       " 'https://www.amazon.in/Noise-Launched-Bluetooth-Calling-Tracking/dp/B0BJ72WZQ7/ref=sr_1_12?crid=3F8P8FM608Q2X&keywords=watch&qid=1699731701&sprefix=watch%2Caps%2C108&sr=8-12',\n",
       " 'https://www.amazon.in/boAt-Advanced-Bluetooth-Functional-Monitoring/dp/B0CDPW2KLV/ref=sr_1_13?crid=3F8P8FM608Q2X&keywords=watch&qid=1699731701&sprefix=watch%2Caps%2C108&sr=8-13',\n",
       " 'https://www.amazon.in/Shocknshop-Digital-Sports-Functional-315RED/dp/B08X1HCVWF/ref=sr_1_14?crid=3F8P8FM608Q2X&keywords=watch&qid=1699731701&sprefix=watch%2Caps%2C108&sr=8-14',\n",
       " 'https://www.amazon.in/Fire-Boltt-Bluetooth-Calling-Assistance-Monitoring/dp/B0B852Z6GY/ref=sr_1_15?crid=3F8P8FM608Q2X&keywords=watch&qid=1699731701&sprefix=watch%2Caps%2C108&sr=8-15',\n",
       " 'https://www.amazon.in/Fire-Boltt-Gladiator-Bluetooth-Assistant-Interactions/dp/B0BP18W8TM/ref=sr_1_16?crid=3F8P8FM608Q2X&keywords=watch&qid=1699731701&sprefix=watch%2Caps%2C108&sr=8-16',\n",
       " 'https://www.amazon.in/Fire-Boltt-Phoenix-Brightness-Stainless-Rotating/dp/B0CCNKMBS1/ref=sr_1_17?crid=3F8P8FM608Q2X&keywords=watch&qid=1699731701&sprefix=watch%2Caps%2C108&sr=8-17',\n",
       " 'https://www.amazon.in/LOUIS-DEVIN-Silicone-Analog-LD-BK054-BLACK/dp/B0BD5R89RQ/ref=sr_1_18?crid=3F8P8FM608Q2X&keywords=watch&qid=1699731701&sprefix=watch%2Caps%2C108&sr=8-18',\n",
       " 'https://www.amazon.in/Fire-Boltt-Bluetooth-Smartwatch-Assistant-Monitoring/dp/B0BRKXXPZ7/ref=sr_1_19?crid=3F8P8FM608Q2X&keywords=watch&qid=1699731701&sprefix=watch%2Caps%2C108&sr=8-19',\n",
       " 'https://www.amazon.in/Fire-Boltt-Bluetooth-Smartwatch-Assistant-Monitoring/dp/B0BRKYMS7Y/ref=sr_1_20?crid=3F8P8FM608Q2X&keywords=watch&qid=1699731701&sprefix=watch%2Caps%2C108&sr=8-20',\n",
       " 'https://www.amazon.in/sspa/click?ie=UTF8&spc=MTo3MzAwOTg1MTIwODc2Njc5OjE2OTk3MzE3MDE6c3BfbXRmOjMwMDA1ODcyOTcwNzgzMjo6MDo6&url=%2FCasio-G-Shock-Digital-GBX-100TT-8DR-G1391%2Fdp%2FB0C8V139PK%2Fref%3Dsr_1_21_sspa%3Fcrid%3D3F8P8FM608Q2X%26keywords%3Dwatch%26qid%3D1699731701%26sprefix%3Dwatch%252Caps%252C108%26sr%3D8-21-spons%26sp_csd%3Dd2lkZ2V0TmFtZT1zcF9tdGY%26psc%3D1',\n",
       " 'https://www.amazon.in/sspa/click?ie=UTF8&spc=MTo3MzAwOTg1MTIwODc2Njc5OjE2OTk3MzE3MDE6c3BfbXRmOjMwMDA2Njk1MzQ3MjczMjo6MDo6&url=%2FNIBOSI-Chronograph-Business-Waterproof-Stainless%2Fdp%2FB0CC8VNRPK%2Fref%3Dsr_1_22_sspa%3Fcrid%3D3F8P8FM608Q2X%26keywords%3Dwatch%26qid%3D1699731701%26sprefix%3Dwatch%252Caps%252C108%26sr%3D8-22-spons%26sp_csd%3Dd2lkZ2V0TmFtZT1zcF9tdGY%26psc%3D1',\n",
       " 'https://www.amazon.in/sspa/click?ie=UTF8&spc=MTo3MzAwOTg1MTIwODc2Njc5OjE2OTk3MzE3MDE6c3BfbXRmOjMwMDA1ODcyOTcwNzQzMjo6MDo6&url=%2FCasio-G-Shock-Digital-GBX-100TT-2DR-G1390%2Fdp%2FB0C8TZY4L1%2Fref%3Dsr_1_23_sspa%3Fcrid%3D3F8P8FM608Q2X%26keywords%3Dwatch%26qid%3D1699731701%26sprefix%3Dwatch%252Caps%252C108%26sr%3D8-23-spons%26sp_csd%3Dd2lkZ2V0TmFtZT1zcF9tdGY%26psc%3D1',\n",
       " 'https://www.amazon.in/sspa/click?ie=UTF8&spc=MTo3MzAwOTg1MTIwODc2Njc5OjE2OTk3MzE3MDE6c3BfbXRmOjMwMDAyODAyMTIzNTIzMjo6MDo6&url=%2FClass-Surgical-Charge-Chronograph-Watch-TWEG19302%2Fdp%2FB086H3JRR4%2Fref%3Dsr_1_24_sspa%3Fcrid%3D3F8P8FM608Q2X%26keywords%3Dwatch%26qid%3D1699731701%26sprefix%3Dwatch%252Caps%252C108%26sr%3D8-24-spons%26sp_csd%3Dd2lkZ2V0TmFtZT1zcF9tdGY%26psc%3D1',\n",
       " 'https://www.amazon.in/SELLORIA-Shockproof-Multi-Functional-Automatic-Waterproof/dp/B0B6SSGBN4/ref=sr_1_25?crid=3F8P8FM608Q2X&keywords=watch&qid=1699731701&sprefix=watch%2Caps%2C108&sr=8-25',\n",
       " 'https://www.amazon.in/Fire-Boltt-Ninja-Smartwatch-Sports-Tracking/dp/B09YV4RG4D/ref=sr_1_26?crid=3F8P8FM608Q2X&keywords=watch&qid=1699731701&sprefix=watch%2Caps%2C108&sr=8-26',\n",
       " 'https://www.amazon.in/Fire-Boltt-Phoenix-Bluetooth-Calling-Monitoring/dp/B0B3RSDSZ3/ref=sr_1_27?crid=3F8P8FM608Q2X&keywords=watch&qid=1699731701&sprefix=watch%2Caps%2C108&sr=8-27',\n",
       " 'https://www.amazon.in/NoiseFit-Bluetooth-Functional-Assistance-Tracker/dp/B0BMVT1R78/ref=sr_1_28?crid=3F8P8FM608Q2X&keywords=watch&qid=1699731701&sprefix=watch%2Caps%2C108&sr=8-28',\n",
       " 'https://www.amazon.in/OLICOM-Smartwatch-ID116-Functional-Compatible/dp/B0BT159Z1K/ref=sr_1_29?crid=3F8P8FM608Q2X&keywords=watch&qid=1699731701&sprefix=watch%2Caps%2C108&sr=8-29',\n",
       " 'https://www.amazon.in/Fire-Boltt-Phoenix-Stainless-Brightness-Rotating/dp/B0C5MR8TC9/ref=sr_1_30?crid=3F8P8FM608Q2X&keywords=watch&qid=1699731701&sprefix=watch%2Caps%2C108&sr=8-30',\n",
       " 'https://www.amazon.in/Fastrack-Analog-Black-Unisex-Adult-Watch-38024PP25/dp/B099WNYHY2/ref=sr_1_31?crid=3F8P8FM608Q2X&keywords=watch&qid=1699731701&sprefix=watch%2Caps%2C108&sr=8-31',\n",
       " 'https://www.amazon.in/Fire-Boltt-Gladiator-Bluetooth-Assistant-Interactions/dp/B0C96FWVZF/ref=sr_1_32?crid=3F8P8FM608Q2X&keywords=watch&qid=1699731701&sprefix=watch%2Caps%2C108&sr=8-32',\n",
       " 'https://www.amazon.in/boAt-Advanced-Bluetooth-Functional-Monitoring/dp/B0CDPVVGXF/ref=sr_1_33?crid=3F8P8FM608Q2X&keywords=watch&qid=1699731701&sprefix=watch%2Caps%2C108&sr=8-33',\n",
       " 'https://www.amazon.in/SELLORIA-Fashion-Digital-Stylish-Birthday/dp/B0BSV53PTD/ref=sr_1_34?crid=3F8P8FM608Q2X&keywords=watch&qid=1699731701&sprefix=watch%2Caps%2C108&sr=8-34',\n",
       " 'https://www.amazon.in/Timex-Analog-Blue-Dial-Watch-TW00ZR262E/dp/B07H3K85H5/ref=sr_1_35?crid=3F8P8FM608Q2X&keywords=watch&qid=1699731701&sprefix=watch%2Caps%2C108&sr=8-35',\n",
       " 'https://www.amazon.in/Fire-Boltt-Asteroid-Bluetooth-Resolution-Assistance/dp/B0C5D2HW1Z/ref=sr_1_36?crid=3F8P8FM608Q2X&keywords=watch&qid=1699731701&sprefix=watch%2Caps%2C108&sr=8-36',\n",
       " 'https://www.amazon.in/Premium-Digital-Rosegold-Vintage-WR-Rosegold/dp/B0BZJ1B578/ref=sr_1_37?crid=3F8P8FM608Q2X&keywords=watch&qid=1699731701&sprefix=watch%2Caps%2C108&sr=8-37',\n",
       " 'https://www.amazon.in/PAPIO-Analog-Watch-Black-Color/dp/B09SWZMC6W/ref=sr_1_38?crid=3F8P8FM608Q2X&keywords=watch&qid=1699731701&sprefix=watch%2Caps%2C108&sr=8-38',\n",
       " 'https://www.amazon.in/Fastrack-Analog-Blue-Dial-Watch-38024PP67W/dp/B0CJ4RT876/ref=sr_1_39?crid=3F8P8FM608Q2X&keywords=watch&qid=1699731701&sprefix=watch%2Caps%2C108&sr=8-39',\n",
       " 'https://www.amazon.in/TIMEWEAR-Functioning-White-Chain-Watch/dp/B07MDGSP8F/ref=sr_1_40?crid=3F8P8FM608Q2X&keywords=watch&qid=1699731701&sprefix=watch%2Caps%2C108&sr=8-40',\n",
       " 'https://www.amazon.in/beatXP-Display-Bluetooth-Monitoring-Assistant/dp/B0CDSCM9BN/ref=sr_1_41?crid=3F8P8FM608Q2X&keywords=watch&qid=1699731701&sprefix=watch%2Caps%2C108&sr=8-41',\n",
       " 'https://www.amazon.in/Fire-Boltt-Invincible-Smartwatch-Bluetooth-Connection/dp/B0BRMWKZZN/ref=sr_1_42?crid=3F8P8FM608Q2X&keywords=watch&qid=1699731701&sprefix=watch%2Caps%2C108&sr=8-42',\n",
       " 'https://www.amazon.in/Matrix-Antique-Leather-Strap-Analog/dp/B0BMTH89TD/ref=sr_1_43?crid=3F8P8FM608Q2X&keywords=watch&qid=1699731701&sprefix=watch%2Caps%2C108&sr=8-43',\n",
       " 'https://www.amazon.in/boAt-Smartwatch-Display-Bluetooth-Monitoring/dp/B0CBPL63B3/ref=sr_1_44?crid=3F8P8FM608Q2X&keywords=watch&qid=1699731701&sprefix=watch%2Caps%2C108&sr=8-44',\n",
       " 'https://www.amazon.in/boAt-Display-Calling-Football-Monitoring/dp/B0CC8XDW6H/ref=sr_1_45?crid=3F8P8FM608Q2X&keywords=watch&qid=1699731701&sprefix=watch%2Caps%2C108&sr=8-45',\n",
       " 'https://www.amazon.in/Noise-Launched-Bluetooth-Assistance-Metallic/dp/B0BW4DN9LP/ref=sr_1_46?crid=3F8P8FM608Q2X&keywords=watch&qid=1699731701&sprefix=watch%2Caps%2C108&sr=8-46',\n",
       " 'https://www.amazon.in/Rajwal-Barbie-Images-Projector-Digital/dp/B01M0W9K2M/ref=sr_1_47?crid=3F8P8FM608Q2X&keywords=watch&qid=1699731701&sprefix=watch%2Caps%2C108&sr=8-47',\n",
       " 'https://www.amazon.in/CrossBeats-Swimproof-Bluetooth-Certified-Smartwatch/dp/B0C4LJ6FSY/ref=sr_1_48?crid=3F8P8FM608Q2X&keywords=watch&qid=1699731701&sprefix=watch%2Caps%2C108&sr=8-48',\n",
       " 'https://www.amazon.in/Fastrack-Limitless-Resolution-SingleSync-Watchfaces/dp/B0CJ5CVD39/ref=sr_1_49?crid=3F8P8FM608Q2X&keywords=watch&qid=1699731701&sprefix=watch%2Caps%2C108&sr=8-49',\n",
       " 'https://www.amazon.in/Fossil-Smartwatch-Stainless-Bluetooth-calling/dp/B08FWKGKC2/ref=sr_1_50?crid=3F8P8FM608Q2X&keywords=watch&qid=1699731701&sprefix=watch%2Caps%2C108&sr=8-50',\n",
       " 'https://www.amazon.in/Louis-Devin-Steel-Analog-G042-BLK-CH/dp/B09LVH9PPN/ref=sr_1_51?crid=3F8P8FM608Q2X&keywords=watch&qid=1699731701&sprefix=watch%2Caps%2C108&sr=8-51',\n",
       " 'https://www.amazon.in/Fire-Boltt-Stainless-Boasting-Resolution-Brightness/dp/B0C5D7LV7V/ref=sr_1_52?crid=3F8P8FM608Q2X&keywords=watch&qid=1699731701&sprefix=watch%2Caps%2C108&sr=8-52',\n",
       " 'https://www.amazon.in/Apple-Cellular-Smartwatch-Precision-Extra-Long/dp/B0CHY1ZNT4/ref=sr_1_53?crid=3F8P8FM608Q2X&keywords=watch&qid=1699731701&sprefix=watch%2Caps%2C108&sr=8-53',\n",
       " 'https://www.amazon.in/Titan-Analog-Silver-Dial-Watch-1733KM03/dp/B0769KTM52/ref=sr_1_54?crid=3F8P8FM608Q2X&keywords=watch&qid=1699731701&sprefix=watch%2Caps%2C108&sr=8-54',\n",
       " 'https://www.amazon.in/Fastrack-Limitless-SingleSync-Watchfaces-Smartwatch/dp/B0CGTW292T/ref=sr_1_55?crid=3F8P8FM608Q2X&keywords=watch&qid=1699731701&sprefix=watch%2Caps%2C108&sr=8-55',\n",
       " 'https://www.amazon.in/Fastrack-Analog-Black-Womens-Watch-NK6117SM01/dp/B00RXJ6IM0/ref=sr_1_56?crid=3F8P8FM608Q2X&keywords=watch&qid=1699731701&sprefix=watch%2Caps%2C108&sr=8-56',\n",
       " 'https://www.amazon.in/sspa/click?ie=UTF8&spc=MTo3MzAwOTg1MTIwODc2Njc5OjE2OTk3MzE3MDE6c3BfYnRmOjIwMTY4NTE2NDk1Mzk4OjowOjo&url=%2FTIMEX-Analog-Blue-Dial-Watch-TWEG21703%2Fdp%2FB0BW75Q1J5%2Fref%3Dsr_1_57_sspa%3Fcrid%3D3F8P8FM608Q2X%26keywords%3Dwatch%26qid%3D1699731701%26sprefix%3Dwatch%252Caps%252C108%26sr%3D8-57-spons%26sp_csd%3Dd2lkZ2V0TmFtZT1zcF9idGY%26psc%3D1',\n",
       " 'https://www.amazon.in/sspa/click?ie=UTF8&spc=MTo3MzAwOTg1MTIwODc2Njc5OjE2OTk3MzE3MDE6c3BfYnRmOjMwMDA2Njk4NTg1OTMzMjo6MDo6&url=%2FNIBOSI-Analogue-Stainess-Business-Waterproof%2Fdp%2FB07S1B351X%2Fref%3Dsr_1_58_sspa%3Fcrid%3D3F8P8FM608Q2X%26keywords%3Dwatch%26qid%3D1699731701%26sprefix%3Dwatch%252Caps%252C108%26sr%3D8-58-spons%26sp_csd%3Dd2lkZ2V0TmFtZT1zcF9idGY%26psc%3D1',\n",
       " 'https://www.amazon.in/sspa/click?ie=UTF8&spc=MTo3MzAwOTg1MTIwODc2Njc5OjE2OTk3MzE3MDE6c3BfYnRmOjMwMDA4NjM3Mjk5OTMzMjo6MDo6&url=%2FDaniel-Wellington-Analog-Unisexs-Watch-DW00100545%2Fdp%2FB09X8PYCYM%2Fref%3Dsr_1_59_sspa%3Fcrid%3D3F8P8FM608Q2X%26keywords%3Dwatch%26qid%3D1699731701%26sprefix%3Dwatch%252Caps%252C108%26sr%3D8-59-spons%26sp_csd%3Dd2lkZ2V0TmFtZT1zcF9idGY%26psc%3D1',\n",
       " 'https://www.amazon.in/sspa/click?ie=UTF8&spc=MTo3MzAwOTg1MTIwODc2Njc5OjE2OTk3MzE3MDE6c3BfYnRmOjMwMDA1ODcyOTcwNzYzMjo6MDo6&url=%2FCasio-G-Shock-Black-Analog-Digital-GA-2100RC-1ADR%2Fdp%2FB0C8TXWHTQ%2Fref%3Dsr_1_60_sspa%3Fcrid%3D3F8P8FM608Q2X%26keywords%3Dwatch%26qid%3D1699731701%26sprefix%3Dwatch%252Caps%252C108%26sr%3D8-60-spons%26sp_csd%3Dd2lkZ2V0TmFtZT1zcF9idGY%26psc%3D1',\n",
       " 'https://aax-eu.amazon.in/x/c/RB5Ht8tCZH3tzQE_bOfmi-4AAAGLv-eAcQMAAAH2AQBvbm9fdHhuX2JpZDMgICBvbm9fdHhuX2ltcDEgICCLoe02/https://www.amazon.in/SKYBALL-Resolution-Brightness-Watchface-Magnetic/dp/B0CB4KFMFP/ref=sxbs_sbv_search_btf?content-id=amzn1.sym.7d6d801d-0b91-42f0-9ded-a1900c21a285%3Aamzn1.sym.7d6d801d-0b91-42f0-9ded-a1900c21a285&crid=3F8P8FM608Q2X&cv_ct_cx=watch&keywords=watch&pd_rd_i=B0CB4KFMFP&pd_rd_r=361e317d-069c-40e0-862f-6813adb6bfc1&pd_rd_w=2gqyU&pd_rd_wg=huoKW&pf_rd_p=7d6d801d-0b91-42f0-9ded-a1900c21a285&pf_rd_r=E8HVP8N08BNHAPMKJ6TP&qid=1699731701&sbo=RZvfv%2F%2FHxDF%2BO5021pAnSA%3D%3D&sprefix=watch%2Caps%2C108&sr=1-1-25dedf61-9bde-4412-952b-c956ef4fc546']"
      ]
     },
     "execution_count": 38,
     "metadata": {},
     "output_type": "execute_result"
    }
   ],
   "source": [
    "urls_of_product"
   ]
  },
  {
   "cell_type": "code",
   "execution_count": 39,
   "id": "377743d4",
   "metadata": {},
   "outputs": [],
   "source": [
    "brand_name = []\n",
    "name_of_the_product = []\n",
    "price = []\n",
    "ReturnExchange = []\n",
    "Expected_Delivery = []\n",
    "Availability = []\n",
    "Product_url = []"
   ]
  },
  {
   "cell_type": "code",
   "execution_count": 12,
   "id": "2c8e6b42",
   "metadata": {},
   "outputs": [],
   "source": [
    "for i in urls_of_product:\n",
    "    driver.get(i)\n",
    "    time.sleep(4)\n",
    "   \n",
    "    try:\n",
    "        brand = driver.find_elements(By.ID,'bylineInfo')\n",
    "        brand_name.append(brand)\n",
    "    except NoSuchElementException:\n",
    "        print('Unknown')\n",
    "        \n",
    "    \n",
    "\n"
   ]
  },
  {
   "cell_type": "code",
   "execution_count": 17,
   "id": "5783cafb",
   "metadata": {},
   "outputs": [
    {
     "name": "stdout",
     "output_type": "stream",
     "text": [
      "186\n"
     ]
    }
   ],
   "source": [
    "print(len(brand_name))"
   ]
  },
  {
   "cell_type": "code",
   "execution_count": 19,
   "id": "993dc170",
   "metadata": {},
   "outputs": [
    {
     "data": {
      "text/plain": [
       "[[<selenium.webdriver.remote.webelement.WebElement (session=\"e2d4b8d5833fb2ca6fe24118ee825000\", element=\"606A16C8C6F15EFDAC7CEBB11057E9C9_element_729850\")>],\n",
       " [<selenium.webdriver.remote.webelement.WebElement (session=\"e2d4b8d5833fb2ca6fe24118ee825000\", element=\"89481FB418A6DB30E22DAB46C27C632B_element_730399\")>],\n",
       " [<selenium.webdriver.remote.webelement.WebElement (session=\"e2d4b8d5833fb2ca6fe24118ee825000\", element=\"B3AFC7547D66F0DED4984CB9D4D90FD1_element_730983\")>],\n",
       " [<selenium.webdriver.remote.webelement.WebElement (session=\"e2d4b8d5833fb2ca6fe24118ee825000\", element=\"DDC0E612AAB4F7DE28ED4BA055B65300_element_731559\")>],\n",
       " [<selenium.webdriver.remote.webelement.WebElement (session=\"e2d4b8d5833fb2ca6fe24118ee825000\", element=\"1A56FECC156CAE87EA3F708ED3847A97_element_733826\")>,\n",
       "  <selenium.webdriver.remote.webelement.WebElement (session=\"e2d4b8d5833fb2ca6fe24118ee825000\", element=\"1A56FECC156CAE87EA3F708ED3847A97_element_733827\")>],\n",
       " [<selenium.webdriver.remote.webelement.WebElement (session=\"e2d4b8d5833fb2ca6fe24118ee825000\", element=\"B300F1C0CE1D3D7F5B54C5C8C6335387_element_734035\")>,\n",
       "  <selenium.webdriver.remote.webelement.WebElement (session=\"e2d4b8d5833fb2ca6fe24118ee825000\", element=\"B300F1C0CE1D3D7F5B54C5C8C6335387_element_734036\")>],\n",
       " [<selenium.webdriver.remote.webelement.WebElement (session=\"e2d4b8d5833fb2ca6fe24118ee825000\", element=\"80A59391A905D8FF9AAC01DFBC67628D_element_734668\")>],\n",
       " [<selenium.webdriver.remote.webelement.WebElement (session=\"e2d4b8d5833fb2ca6fe24118ee825000\", element=\"14CABF1E53EB82BF184393B8BA817720_element_734898\")>,\n",
       "  <selenium.webdriver.remote.webelement.WebElement (session=\"e2d4b8d5833fb2ca6fe24118ee825000\", element=\"14CABF1E53EB82BF184393B8BA817720_element_734899\")>],\n",
       " [<selenium.webdriver.remote.webelement.WebElement (session=\"e2d4b8d5833fb2ca6fe24118ee825000\", element=\"62CD88AA19A2A97DA253B12E204EF3B2_element_735195\")>,\n",
       "  <selenium.webdriver.remote.webelement.WebElement (session=\"e2d4b8d5833fb2ca6fe24118ee825000\", element=\"62CD88AA19A2A97DA253B12E204EF3B2_element_735196\")>],\n",
       " [<selenium.webdriver.remote.webelement.WebElement (session=\"e2d4b8d5833fb2ca6fe24118ee825000\", element=\"E07BCFA17D8B12D1512F9B945594B38A_element_735418\")>,\n",
       "  <selenium.webdriver.remote.webelement.WebElement (session=\"e2d4b8d5833fb2ca6fe24118ee825000\", element=\"E07BCFA17D8B12D1512F9B945594B38A_element_735419\")>],\n",
       " [<selenium.webdriver.remote.webelement.WebElement (session=\"e2d4b8d5833fb2ca6fe24118ee825000\", element=\"55102A1B029E8503E89F5ECE40606BC5_element_735638\")>,\n",
       "  <selenium.webdriver.remote.webelement.WebElement (session=\"e2d4b8d5833fb2ca6fe24118ee825000\", element=\"55102A1B029E8503E89F5ECE40606BC5_element_735639\")>],\n",
       " [<selenium.webdriver.remote.webelement.WebElement (session=\"e2d4b8d5833fb2ca6fe24118ee825000\", element=\"FE5F41AB8E5FFEFCA336BE2920034F5D_element_735857\")>,\n",
       "  <selenium.webdriver.remote.webelement.WebElement (session=\"e2d4b8d5833fb2ca6fe24118ee825000\", element=\"FE5F41AB8E5FFEFCA336BE2920034F5D_element_735858\")>],\n",
       " [<selenium.webdriver.remote.webelement.WebElement (session=\"e2d4b8d5833fb2ca6fe24118ee825000\", element=\"F7AABDBFFE49E5A5646C1AA1FFD60867_element_736052\")>],\n",
       " [<selenium.webdriver.remote.webelement.WebElement (session=\"e2d4b8d5833fb2ca6fe24118ee825000\", element=\"3FAC0F65570E828C8AB97FC3CDDC8C6A_element_736260\")>,\n",
       "  <selenium.webdriver.remote.webelement.WebElement (session=\"e2d4b8d5833fb2ca6fe24118ee825000\", element=\"3FAC0F65570E828C8AB97FC3CDDC8C6A_element_736261\")>],\n",
       " [<selenium.webdriver.remote.webelement.WebElement (session=\"e2d4b8d5833fb2ca6fe24118ee825000\", element=\"105F4A54FD4FABA5CDC82FD3632299D7_element_736563\")>,\n",
       "  <selenium.webdriver.remote.webelement.WebElement (session=\"e2d4b8d5833fb2ca6fe24118ee825000\", element=\"105F4A54FD4FABA5CDC82FD3632299D7_element_736564\")>],\n",
       " [<selenium.webdriver.remote.webelement.WebElement (session=\"e2d4b8d5833fb2ca6fe24118ee825000\", element=\"2D85C0C5DC8F84EA36A18E92059ABA3A_element_736774\")>,\n",
       "  <selenium.webdriver.remote.webelement.WebElement (session=\"e2d4b8d5833fb2ca6fe24118ee825000\", element=\"2D85C0C5DC8F84EA36A18E92059ABA3A_element_736775\")>],\n",
       " [<selenium.webdriver.remote.webelement.WebElement (session=\"e2d4b8d5833fb2ca6fe24118ee825000\", element=\"4C809B69F7D85E219B2A1C2FC2D25C8F_element_737073\")>,\n",
       "  <selenium.webdriver.remote.webelement.WebElement (session=\"e2d4b8d5833fb2ca6fe24118ee825000\", element=\"4C809B69F7D85E219B2A1C2FC2D25C8F_element_737074\")>],\n",
       " [<selenium.webdriver.remote.webelement.WebElement (session=\"e2d4b8d5833fb2ca6fe24118ee825000\", element=\"75CF90A81704F2A120CB76A08B120BB3_element_737369\")>,\n",
       "  <selenium.webdriver.remote.webelement.WebElement (session=\"e2d4b8d5833fb2ca6fe24118ee825000\", element=\"75CF90A81704F2A120CB76A08B120BB3_element_737370\")>],\n",
       " [<selenium.webdriver.remote.webelement.WebElement (session=\"e2d4b8d5833fb2ca6fe24118ee825000\", element=\"F30DFC4CBD68EFB84386472CAA2F4179_element_737568\")>,\n",
       "  <selenium.webdriver.remote.webelement.WebElement (session=\"e2d4b8d5833fb2ca6fe24118ee825000\", element=\"F30DFC4CBD68EFB84386472CAA2F4179_element_737569\")>],\n",
       " [<selenium.webdriver.remote.webelement.WebElement (session=\"e2d4b8d5833fb2ca6fe24118ee825000\", element=\"8901E50B3CC7F01DAD9632B8BB178AE7_element_737863\")>,\n",
       "  <selenium.webdriver.remote.webelement.WebElement (session=\"e2d4b8d5833fb2ca6fe24118ee825000\", element=\"8901E50B3CC7F01DAD9632B8BB178AE7_element_737864\")>],\n",
       " [<selenium.webdriver.remote.webelement.WebElement (session=\"e2d4b8d5833fb2ca6fe24118ee825000\", element=\"56E5B5949FF2BBAC3EDD6EF177B51BD2_element_738153\")>,\n",
       "  <selenium.webdriver.remote.webelement.WebElement (session=\"e2d4b8d5833fb2ca6fe24118ee825000\", element=\"56E5B5949FF2BBAC3EDD6EF177B51BD2_element_738154\")>],\n",
       " [<selenium.webdriver.remote.webelement.WebElement (session=\"e2d4b8d5833fb2ca6fe24118ee825000\", element=\"2CA0903BCA6491F79733ABB2BD112524_element_738712\")>],\n",
       " [<selenium.webdriver.remote.webelement.WebElement (session=\"e2d4b8d5833fb2ca6fe24118ee825000\", element=\"63CB0553FE4E7CB30F30F0645D8722F2_element_739267\")>],\n",
       " [<selenium.webdriver.remote.webelement.WebElement (session=\"e2d4b8d5833fb2ca6fe24118ee825000\", element=\"047F82B61659D677B455CCCC88226015_element_739814\")>],\n",
       " [<selenium.webdriver.remote.webelement.WebElement (session=\"e2d4b8d5833fb2ca6fe24118ee825000\", element=\"66A02B413FB5862BF3A86ADDCF4D9F53_element_740463\")>],\n",
       " [<selenium.webdriver.remote.webelement.WebElement (session=\"e2d4b8d5833fb2ca6fe24118ee825000\", element=\"BCC4A1269271DF231434CB42C33CCD5D_element_740676\")>,\n",
       "  <selenium.webdriver.remote.webelement.WebElement (session=\"e2d4b8d5833fb2ca6fe24118ee825000\", element=\"BCC4A1269271DF231434CB42C33CCD5D_element_740677\")>],\n",
       " [<selenium.webdriver.remote.webelement.WebElement (session=\"e2d4b8d5833fb2ca6fe24118ee825000\", element=\"C934FDE0B05619E8CB047E3877DFC957_element_741226\")>],\n",
       " [<selenium.webdriver.remote.webelement.WebElement (session=\"e2d4b8d5833fb2ca6fe24118ee825000\", element=\"CE2B81109379AD68E778C69E5D02D745_element_741444\")>,\n",
       "  <selenium.webdriver.remote.webelement.WebElement (session=\"e2d4b8d5833fb2ca6fe24118ee825000\", element=\"CE2B81109379AD68E778C69E5D02D745_element_741445\")>],\n",
       " [<selenium.webdriver.remote.webelement.WebElement (session=\"e2d4b8d5833fb2ca6fe24118ee825000\", element=\"7D087D263DF5BD5DE573F3B8F0CBFC17_element_741738\")>,\n",
       "  <selenium.webdriver.remote.webelement.WebElement (session=\"e2d4b8d5833fb2ca6fe24118ee825000\", element=\"7D087D263DF5BD5DE573F3B8F0CBFC17_element_741739\")>],\n",
       " [<selenium.webdriver.remote.webelement.WebElement (session=\"e2d4b8d5833fb2ca6fe24118ee825000\", element=\"CC143E98B549A348D795B25CCF1D1A04_element_741994\")>,\n",
       "  <selenium.webdriver.remote.webelement.WebElement (session=\"e2d4b8d5833fb2ca6fe24118ee825000\", element=\"CC143E98B549A348D795B25CCF1D1A04_element_741995\")>],\n",
       " [<selenium.webdriver.remote.webelement.WebElement (session=\"e2d4b8d5833fb2ca6fe24118ee825000\", element=\"5BBF3B14BCF0404DAE6CC6836F915DBA_element_742584\")>],\n",
       " [<selenium.webdriver.remote.webelement.WebElement (session=\"e2d4b8d5833fb2ca6fe24118ee825000\", element=\"ACCD298FF935738A9D409DCDDD823396_element_742846\")>,\n",
       "  <selenium.webdriver.remote.webelement.WebElement (session=\"e2d4b8d5833fb2ca6fe24118ee825000\", element=\"ACCD298FF935738A9D409DCDDD823396_element_742847\")>],\n",
       " [<selenium.webdriver.remote.webelement.WebElement (session=\"e2d4b8d5833fb2ca6fe24118ee825000\", element=\"F8D4069BD4AACCF5F913DFE9A1A7F575_element_743431\")>],\n",
       " [<selenium.webdriver.remote.webelement.WebElement (session=\"e2d4b8d5833fb2ca6fe24118ee825000\", element=\"0F9498BD6EAB1195CB1A0939F1A8A10D_element_744008\")>],\n",
       " [<selenium.webdriver.remote.webelement.WebElement (session=\"e2d4b8d5833fb2ca6fe24118ee825000\", element=\"FB916DEB1C9E1E72BD679BAB27685926_element_744244\")>,\n",
       "  <selenium.webdriver.remote.webelement.WebElement (session=\"e2d4b8d5833fb2ca6fe24118ee825000\", element=\"FB916DEB1C9E1E72BD679BAB27685926_element_744245\")>],\n",
       " [<selenium.webdriver.remote.webelement.WebElement (session=\"e2d4b8d5833fb2ca6fe24118ee825000\", element=\"D3B7D980592036C880554F106261333A_element_746167\")>],\n",
       " [<selenium.webdriver.remote.webelement.WebElement (session=\"e2d4b8d5833fb2ca6fe24118ee825000\", element=\"0238198C1639B150304115AC5D3AAB84_element_746483\")>],\n",
       " [<selenium.webdriver.remote.webelement.WebElement (session=\"e2d4b8d5833fb2ca6fe24118ee825000\", element=\"C01C280FB6BF0E9394A63C9802D3861B_element_747576\")>],\n",
       " [<selenium.webdriver.remote.webelement.WebElement (session=\"e2d4b8d5833fb2ca6fe24118ee825000\", element=\"006B7594FFDF3FD9B2D48ED01DEB7288_element_750079\")>],\n",
       " [<selenium.webdriver.remote.webelement.WebElement (session=\"e2d4b8d5833fb2ca6fe24118ee825000\", element=\"2517DD3FAD34C709C0CF17CA0067CA6F_element_751033\")>],\n",
       " [<selenium.webdriver.remote.webelement.WebElement (session=\"e2d4b8d5833fb2ca6fe24118ee825000\", element=\"BCD4A31392EEA370ECAFF0889BDDEE1F_element_751298\")>,\n",
       "  <selenium.webdriver.remote.webelement.WebElement (session=\"e2d4b8d5833fb2ca6fe24118ee825000\", element=\"BCD4A31392EEA370ECAFF0889BDDEE1F_element_751299\")>],\n",
       " [<selenium.webdriver.remote.webelement.WebElement (session=\"e2d4b8d5833fb2ca6fe24118ee825000\", element=\"BD9711A503DDC5B4326C867D1FDAECCE_element_751558\")>,\n",
       "  <selenium.webdriver.remote.webelement.WebElement (session=\"e2d4b8d5833fb2ca6fe24118ee825000\", element=\"BD9711A503DDC5B4326C867D1FDAECCE_element_751559\")>],\n",
       " [<selenium.webdriver.remote.webelement.WebElement (session=\"e2d4b8d5833fb2ca6fe24118ee825000\", element=\"7ECB9D14927A7AC4D5A13C463190E9E1_element_753900\")>],\n",
       " [<selenium.webdriver.remote.webelement.WebElement (session=\"e2d4b8d5833fb2ca6fe24118ee825000\", element=\"C6BA0FAA1521A9F94DF1E384B8F79166_element_754635\")>,\n",
       "  <selenium.webdriver.remote.webelement.WebElement (session=\"e2d4b8d5833fb2ca6fe24118ee825000\", element=\"C6BA0FAA1521A9F94DF1E384B8F79166_element_754636\")>],\n",
       " [<selenium.webdriver.remote.webelement.WebElement (session=\"e2d4b8d5833fb2ca6fe24118ee825000\", element=\"B14C901A6E7BFC2C72024EDB141E74B7_element_757132\")>],\n",
       " [<selenium.webdriver.remote.webelement.WebElement (session=\"e2d4b8d5833fb2ca6fe24118ee825000\", element=\"CE34840AE672D0F63FB610FC15E9F148_element_774165\")>,\n",
       "  <selenium.webdriver.remote.webelement.WebElement (session=\"e2d4b8d5833fb2ca6fe24118ee825000\", element=\"CE34840AE672D0F63FB610FC15E9F148_element_774166\")>],\n",
       " [<selenium.webdriver.remote.webelement.WebElement (session=\"e2d4b8d5833fb2ca6fe24118ee825000\", element=\"0CEA4422F2A58E42BE55B0F0F03DA69F_element_776312\")>,\n",
       "  <selenium.webdriver.remote.webelement.WebElement (session=\"e2d4b8d5833fb2ca6fe24118ee825000\", element=\"0CEA4422F2A58E42BE55B0F0F03DA69F_element_776313\")>],\n",
       " [<selenium.webdriver.remote.webelement.WebElement (session=\"e2d4b8d5833fb2ca6fe24118ee825000\", element=\"F99AE87EB2E9B2FB1F9A106D2DE4742B_element_791621\")>,\n",
       "  <selenium.webdriver.remote.webelement.WebElement (session=\"e2d4b8d5833fb2ca6fe24118ee825000\", element=\"F99AE87EB2E9B2FB1F9A106D2DE4742B_element_791622\")>],\n",
       " [<selenium.webdriver.remote.webelement.WebElement (session=\"e2d4b8d5833fb2ca6fe24118ee825000\", element=\"E63472343CF85159944777B6BCBBC722_element_794295\")>],\n",
       " [<selenium.webdriver.remote.webelement.WebElement (session=\"e2d4b8d5833fb2ca6fe24118ee825000\", element=\"C1ADBB0A1699317BD6BF51D093A07829_element_821855\")>,\n",
       "  <selenium.webdriver.remote.webelement.WebElement (session=\"e2d4b8d5833fb2ca6fe24118ee825000\", element=\"C1ADBB0A1699317BD6BF51D093A07829_element_821856\")>],\n",
       " [<selenium.webdriver.remote.webelement.WebElement (session=\"e2d4b8d5833fb2ca6fe24118ee825000\", element=\"2019A2713A86494D0916B809E9C799F3_element_837089\")>,\n",
       "  <selenium.webdriver.remote.webelement.WebElement (session=\"e2d4b8d5833fb2ca6fe24118ee825000\", element=\"2019A2713A86494D0916B809E9C799F3_element_837090\")>],\n",
       " [<selenium.webdriver.remote.webelement.WebElement (session=\"e2d4b8d5833fb2ca6fe24118ee825000\", element=\"48914AC02FE7493B0E8262626B0FB529_element_840984\")>],\n",
       " [<selenium.webdriver.remote.webelement.WebElement (session=\"e2d4b8d5833fb2ca6fe24118ee825000\", element=\"C0CFD616F67200EBD864F587135AF8B3_element_841814\")>,\n",
       "  <selenium.webdriver.remote.webelement.WebElement (session=\"e2d4b8d5833fb2ca6fe24118ee825000\", element=\"C0CFD616F67200EBD864F587135AF8B3_element_841815\")>],\n",
       " [<selenium.webdriver.remote.webelement.WebElement (session=\"e2d4b8d5833fb2ca6fe24118ee825000\", element=\"3DD7568DDF310BC420AC0160B128D7F8_element_841966\")>],\n",
       " [<selenium.webdriver.remote.webelement.WebElement (session=\"e2d4b8d5833fb2ca6fe24118ee825000\", element=\"4718442EB53E2C7F2637CF07DF500282_element_853900\")>,\n",
       "  <selenium.webdriver.remote.webelement.WebElement (session=\"e2d4b8d5833fb2ca6fe24118ee825000\", element=\"4718442EB53E2C7F2637CF07DF500282_element_853901\")>],\n",
       " [<selenium.webdriver.remote.webelement.WebElement (session=\"e2d4b8d5833fb2ca6fe24118ee825000\", element=\"37128C3821676BA40691816E8A0F2029_element_854503\")>],\n",
       " [<selenium.webdriver.remote.webelement.WebElement (session=\"e2d4b8d5833fb2ca6fe24118ee825000\", element=\"074D792EE61350EBABB010B09DC01ED4_element_871053\")>,\n",
       "  <selenium.webdriver.remote.webelement.WebElement (session=\"e2d4b8d5833fb2ca6fe24118ee825000\", element=\"074D792EE61350EBABB010B09DC01ED4_element_871054\")>],\n",
       " [<selenium.webdriver.remote.webelement.WebElement (session=\"e2d4b8d5833fb2ca6fe24118ee825000\", element=\"223660E5680EE3CCBABBCF6857898298_element_871846\")>],\n",
       " [<selenium.webdriver.remote.webelement.WebElement (session=\"e2d4b8d5833fb2ca6fe24118ee825000\", element=\"5F61BAF7FDCB14AF3AEAE24BF01317A5_element_881033\")>],\n",
       " [<selenium.webdriver.remote.webelement.WebElement (session=\"e2d4b8d5833fb2ca6fe24118ee825000\", element=\"AB538F212AA6B1C51E7C3AF7ED50C11B_element_884076\")>],\n",
       " [<selenium.webdriver.remote.webelement.WebElement (session=\"e2d4b8d5833fb2ca6fe24118ee825000\", element=\"E983138BF20F8D2BE1A1F8951CCDF94C_element_885068\")>],\n",
       " [<selenium.webdriver.remote.webelement.WebElement (session=\"e2d4b8d5833fb2ca6fe24118ee825000\", element=\"7ED602EB59377FE15008C9740ECA94FA_element_896108\")>,\n",
       "  <selenium.webdriver.remote.webelement.WebElement (session=\"e2d4b8d5833fb2ca6fe24118ee825000\", element=\"7ED602EB59377FE15008C9740ECA94FA_element_896109\")>],\n",
       " [<selenium.webdriver.remote.webelement.WebElement (session=\"e2d4b8d5833fb2ca6fe24118ee825000\", element=\"7E83D034DCEEB0BEBA92FD79733BB00D_element_899924\")>],\n",
       " [<selenium.webdriver.remote.webelement.WebElement (session=\"e2d4b8d5833fb2ca6fe24118ee825000\", element=\"04943B7A6AB077F2B3F82BF339982A0F_element_904222\")>],\n",
       " [<selenium.webdriver.remote.webelement.WebElement (session=\"e2d4b8d5833fb2ca6fe24118ee825000\", element=\"AE339388CEFF9C2D0281827FE777D1BA_element_907766\")>],\n",
       " [<selenium.webdriver.remote.webelement.WebElement (session=\"e2d4b8d5833fb2ca6fe24118ee825000\", element=\"43FA9B5D3ECF5D9478F7AFAB44B2D252_element_908927\")>],\n",
       " [<selenium.webdriver.remote.webelement.WebElement (session=\"e2d4b8d5833fb2ca6fe24118ee825000\", element=\"1A4665F1C344A002CF9C0C7544589D98_element_924107\")>,\n",
       "  <selenium.webdriver.remote.webelement.WebElement (session=\"e2d4b8d5833fb2ca6fe24118ee825000\", element=\"1A4665F1C344A002CF9C0C7544589D98_element_924108\")>],\n",
       " [<selenium.webdriver.remote.webelement.WebElement (session=\"e2d4b8d5833fb2ca6fe24118ee825000\", element=\"506DF45CE57C3AF3D5A7E2D5F142C7A0_element_924437\")>,\n",
       "  <selenium.webdriver.remote.webelement.WebElement (session=\"e2d4b8d5833fb2ca6fe24118ee825000\", element=\"506DF45CE57C3AF3D5A7E2D5F142C7A0_element_924438\")>],\n",
       " [<selenium.webdriver.remote.webelement.WebElement (session=\"e2d4b8d5833fb2ca6fe24118ee825000\", element=\"AD65D4EEE1616CC6AC888569140234E3_element_925008\")>],\n",
       " [<selenium.webdriver.remote.webelement.WebElement (session=\"e2d4b8d5833fb2ca6fe24118ee825000\", element=\"943E5F62E5FCC20CCFECC2651BEB663F_element_938145\")>,\n",
       "  <selenium.webdriver.remote.webelement.WebElement (session=\"e2d4b8d5833fb2ca6fe24118ee825000\", element=\"943E5F62E5FCC20CCFECC2651BEB663F_element_938146\")>],\n",
       " [<selenium.webdriver.remote.webelement.WebElement (session=\"e2d4b8d5833fb2ca6fe24118ee825000\", element=\"B0894454612153316640873881F63ADC_element_938462\")>,\n",
       "  <selenium.webdriver.remote.webelement.WebElement (session=\"e2d4b8d5833fb2ca6fe24118ee825000\", element=\"B0894454612153316640873881F63ADC_element_938463\")>],\n",
       " [<selenium.webdriver.remote.webelement.WebElement (session=\"e2d4b8d5833fb2ca6fe24118ee825000\", element=\"1FF7B61970A7A064A30D198C15237F07_element_952849\")>,\n",
       "  <selenium.webdriver.remote.webelement.WebElement (session=\"e2d4b8d5833fb2ca6fe24118ee825000\", element=\"1FF7B61970A7A064A30D198C15237F07_element_952850\")>],\n",
       " [<selenium.webdriver.remote.webelement.WebElement (session=\"e2d4b8d5833fb2ca6fe24118ee825000\", element=\"7C16473389D48BCC6822CE2FB006F5D8_element_965414\")>,\n",
       "  <selenium.webdriver.remote.webelement.WebElement (session=\"e2d4b8d5833fb2ca6fe24118ee825000\", element=\"7C16473389D48BCC6822CE2FB006F5D8_element_965415\")>],\n",
       " [<selenium.webdriver.remote.webelement.WebElement (session=\"e2d4b8d5833fb2ca6fe24118ee825000\", element=\"E75B5B1CF63F9D81AA3C1A707EF94EB5_element_977822\")>,\n",
       "  <selenium.webdriver.remote.webelement.WebElement (session=\"e2d4b8d5833fb2ca6fe24118ee825000\", element=\"E75B5B1CF63F9D81AA3C1A707EF94EB5_element_977823\")>],\n",
       " [<selenium.webdriver.remote.webelement.WebElement (session=\"e2d4b8d5833fb2ca6fe24118ee825000\", element=\"1F51A181FD5D12F1707EAD3560A2A3A9_element_980057\")>],\n",
       " [<selenium.webdriver.remote.webelement.WebElement (session=\"e2d4b8d5833fb2ca6fe24118ee825000\", element=\"6369905F162E4FB3B4964D53A22038A3_element_994332\")>,\n",
       "  <selenium.webdriver.remote.webelement.WebElement (session=\"e2d4b8d5833fb2ca6fe24118ee825000\", element=\"6369905F162E4FB3B4964D53A22038A3_element_994333\")>],\n",
       " [<selenium.webdriver.remote.webelement.WebElement (session=\"e2d4b8d5833fb2ca6fe24118ee825000\", element=\"3F06F59E91497B271442E15E705A14B2_element_1008627\")>,\n",
       "  <selenium.webdriver.remote.webelement.WebElement (session=\"e2d4b8d5833fb2ca6fe24118ee825000\", element=\"3F06F59E91497B271442E15E705A14B2_element_1008628\")>],\n",
       " [<selenium.webdriver.remote.webelement.WebElement (session=\"e2d4b8d5833fb2ca6fe24118ee825000\", element=\"22D3F6B2B986A0389E71D9D00C528629_element_1024525\")>,\n",
       "  <selenium.webdriver.remote.webelement.WebElement (session=\"e2d4b8d5833fb2ca6fe24118ee825000\", element=\"22D3F6B2B986A0389E71D9D00C528629_element_1024526\")>],\n",
       " [<selenium.webdriver.remote.webelement.WebElement (session=\"e2d4b8d5833fb2ca6fe24118ee825000\", element=\"2364068748BB0D5CAE52A247020E2B67_element_1038105\")>,\n",
       "  <selenium.webdriver.remote.webelement.WebElement (session=\"e2d4b8d5833fb2ca6fe24118ee825000\", element=\"2364068748BB0D5CAE52A247020E2B67_element_1038106\")>],\n",
       " [<selenium.webdriver.remote.webelement.WebElement (session=\"e2d4b8d5833fb2ca6fe24118ee825000\", element=\"92A27EEA50880DD51FFEDDC6DC1AC237_element_1051770\")>,\n",
       "  <selenium.webdriver.remote.webelement.WebElement (session=\"e2d4b8d5833fb2ca6fe24118ee825000\", element=\"92A27EEA50880DD51FFEDDC6DC1AC237_element_1051771\")>],\n",
       " [<selenium.webdriver.remote.webelement.WebElement (session=\"e2d4b8d5833fb2ca6fe24118ee825000\", element=\"414AD501675A3F7E2B6E84F06EBB8185_element_1054613\")>,\n",
       "  <selenium.webdriver.remote.webelement.WebElement (session=\"e2d4b8d5833fb2ca6fe24118ee825000\", element=\"414AD501675A3F7E2B6E84F06EBB8185_element_1054614\")>],\n",
       " [<selenium.webdriver.remote.webelement.WebElement (session=\"e2d4b8d5833fb2ca6fe24118ee825000\", element=\"8D569E47A4C4AC81CFB503CAAE51BEAB_element_1054958\")>,\n",
       "  <selenium.webdriver.remote.webelement.WebElement (session=\"e2d4b8d5833fb2ca6fe24118ee825000\", element=\"8D569E47A4C4AC81CFB503CAAE51BEAB_element_1054959\")>],\n",
       " [<selenium.webdriver.remote.webelement.WebElement (session=\"e2d4b8d5833fb2ca6fe24118ee825000\", element=\"DFA328F795CC1CFEECD62037551DDF5C_element_1067256\")>,\n",
       "  <selenium.webdriver.remote.webelement.WebElement (session=\"e2d4b8d5833fb2ca6fe24118ee825000\", element=\"DFA328F795CC1CFEECD62037551DDF5C_element_1067257\")>],\n",
       " [<selenium.webdriver.remote.webelement.WebElement (session=\"e2d4b8d5833fb2ca6fe24118ee825000\", element=\"A6254D11BC002B761A499AD5897F441E_element_1068143\")>],\n",
       " [<selenium.webdriver.remote.webelement.WebElement (session=\"e2d4b8d5833fb2ca6fe24118ee825000\", element=\"9CF399A5369E53C3FEA514ABE779E24A_element_1072387\")>],\n",
       " [<selenium.webdriver.remote.webelement.WebElement (session=\"e2d4b8d5833fb2ca6fe24118ee825000\", element=\"62561BF5FE2D97AC31EEAD7C125D9CD5_element_1073592\")>],\n",
       " [<selenium.webdriver.remote.webelement.WebElement (session=\"e2d4b8d5833fb2ca6fe24118ee825000\", element=\"05738B7958DEC3600F428BFA98B8341A_element_1077421\")>],\n",
       " [<selenium.webdriver.remote.webelement.WebElement (session=\"e2d4b8d5833fb2ca6fe24118ee825000\", element=\"DDCECAFEBC256261440432C1719E5853_element_1091182\")>,\n",
       "  <selenium.webdriver.remote.webelement.WebElement (session=\"e2d4b8d5833fb2ca6fe24118ee825000\", element=\"DDCECAFEBC256261440432C1719E5853_element_1091183\")>],\n",
       " [<selenium.webdriver.remote.webelement.WebElement (session=\"e2d4b8d5833fb2ca6fe24118ee825000\", element=\"05B09010987807F39216A1C467A90F79_element_1093200\")>],\n",
       " [<selenium.webdriver.remote.webelement.WebElement (session=\"e2d4b8d5833fb2ca6fe24118ee825000\", element=\"8FAD8A77D604FCBA4FEE5C8F45895FDF_element_1097140\")>,\n",
       "  <selenium.webdriver.remote.webelement.WebElement (session=\"e2d4b8d5833fb2ca6fe24118ee825000\", element=\"8FAD8A77D604FCBA4FEE5C8F45895FDF_element_1097141\")>],\n",
       " [<selenium.webdriver.remote.webelement.WebElement (session=\"e2d4b8d5833fb2ca6fe24118ee825000\", element=\"1F97EB8473F269D4FB55CE6A8FA67C92_element_1114591\")>,\n",
       "  <selenium.webdriver.remote.webelement.WebElement (session=\"e2d4b8d5833fb2ca6fe24118ee825000\", element=\"1F97EB8473F269D4FB55CE6A8FA67C92_element_1114592\")>],\n",
       " [<selenium.webdriver.remote.webelement.WebElement (session=\"e2d4b8d5833fb2ca6fe24118ee825000\", element=\"841B40473E30C78C33F76B6CB2840CAF_element_1131256\")>,\n",
       "  <selenium.webdriver.remote.webelement.WebElement (session=\"e2d4b8d5833fb2ca6fe24118ee825000\", element=\"841B40473E30C78C33F76B6CB2840CAF_element_1131257\")>],\n",
       " [<selenium.webdriver.remote.webelement.WebElement (session=\"e2d4b8d5833fb2ca6fe24118ee825000\", element=\"38ED67A4882BD9F55E8562881A8D99B0_element_1131848\")>],\n",
       " [<selenium.webdriver.remote.webelement.WebElement (session=\"e2d4b8d5833fb2ca6fe24118ee825000\", element=\"C6D5D2844D9B65200F2F82400403E22A_element_1143700\")>,\n",
       "  <selenium.webdriver.remote.webelement.WebElement (session=\"e2d4b8d5833fb2ca6fe24118ee825000\", element=\"C6D5D2844D9B65200F2F82400403E22A_element_1143701\")>],\n",
       " [<selenium.webdriver.remote.webelement.WebElement (session=\"e2d4b8d5833fb2ca6fe24118ee825000\", element=\"BF37633999AC1E8569C30C3F152C79F1_element_1144285\")>],\n",
       " [<selenium.webdriver.remote.webelement.WebElement (session=\"e2d4b8d5833fb2ca6fe24118ee825000\", element=\"016C13ED7CB92C81FD7E5784D533BBC2_element_1144885\")>],\n",
       " [<selenium.webdriver.remote.webelement.WebElement (session=\"e2d4b8d5833fb2ca6fe24118ee825000\", element=\"D6070807ED1845A78C83006D2B0A1296_element_1145115\")>,\n",
       "  <selenium.webdriver.remote.webelement.WebElement (session=\"e2d4b8d5833fb2ca6fe24118ee825000\", element=\"D6070807ED1845A78C83006D2B0A1296_element_1145116\")>],\n",
       " [<selenium.webdriver.remote.webelement.WebElement (session=\"e2d4b8d5833fb2ca6fe24118ee825000\", element=\"88BDC2014F9A12CDCCC62C2382545F32_element_1146781\")>],\n",
       " [<selenium.webdriver.remote.webelement.WebElement (session=\"e2d4b8d5833fb2ca6fe24118ee825000\", element=\"155DFFDD07EDC76734E6555E11B2F7E4_element_1147342\")>],\n",
       " [<selenium.webdriver.remote.webelement.WebElement (session=\"e2d4b8d5833fb2ca6fe24118ee825000\", element=\"F6AEFBF2C6E06660B208AD1B8C3ACC71_element_1148397\")>],\n",
       " [<selenium.webdriver.remote.webelement.WebElement (session=\"e2d4b8d5833fb2ca6fe24118ee825000\", element=\"9ED371EB4B2DE4EA3C991EB6E68CFF90_element_1148954\")>],\n",
       " [<selenium.webdriver.remote.webelement.WebElement (session=\"e2d4b8d5833fb2ca6fe24118ee825000\", element=\"B5FABD8C65E8707323DBDAE3C9CA09C6_element_1149511\")>],\n",
       " [<selenium.webdriver.remote.webelement.WebElement (session=\"e2d4b8d5833fb2ca6fe24118ee825000\", element=\"0B4163B4677249826560C2D67E1D97E9_element_1149728\")>,\n",
       "  <selenium.webdriver.remote.webelement.WebElement (session=\"e2d4b8d5833fb2ca6fe24118ee825000\", element=\"0B4163B4677249826560C2D67E1D97E9_element_1149729\")>],\n",
       " [<selenium.webdriver.remote.webelement.WebElement (session=\"e2d4b8d5833fb2ca6fe24118ee825000\", element=\"EE10C58363A1080EF4BFD7EA24DC2D50_element_1149947\")>,\n",
       "  <selenium.webdriver.remote.webelement.WebElement (session=\"e2d4b8d5833fb2ca6fe24118ee825000\", element=\"EE10C58363A1080EF4BFD7EA24DC2D50_element_1149948\")>],\n",
       " [<selenium.webdriver.remote.webelement.WebElement (session=\"e2d4b8d5833fb2ca6fe24118ee825000\", element=\"734A64B6AE6469A5D847F9A582D01DB6_element_1150505\")>],\n",
       " [<selenium.webdriver.remote.webelement.WebElement (session=\"e2d4b8d5833fb2ca6fe24118ee825000\", element=\"143FB9635AC8523B439C80A6051E618C_element_1150726\")>,\n",
       "  <selenium.webdriver.remote.webelement.WebElement (session=\"e2d4b8d5833fb2ca6fe24118ee825000\", element=\"143FB9635AC8523B439C80A6051E618C_element_1150727\")>],\n",
       " [<selenium.webdriver.remote.webelement.WebElement (session=\"e2d4b8d5833fb2ca6fe24118ee825000\", element=\"A1A48B6CF1E2FC28844EAA87325C3AD6_element_1151283\")>],\n",
       " [<selenium.webdriver.remote.webelement.WebElement (session=\"e2d4b8d5833fb2ca6fe24118ee825000\", element=\"47E7C9C047C6D3B9B66A420837C7CB7A_element_1151459\")>,\n",
       "  <selenium.webdriver.remote.webelement.WebElement (session=\"e2d4b8d5833fb2ca6fe24118ee825000\", element=\"47E7C9C047C6D3B9B66A420837C7CB7A_element_1151460\")>],\n",
       " [<selenium.webdriver.remote.webelement.WebElement (session=\"e2d4b8d5833fb2ca6fe24118ee825000\", element=\"7D12E7D3B4ADE4A6B30C38B8188606B3_element_1151659\")>,\n",
       "  <selenium.webdriver.remote.webelement.WebElement (session=\"e2d4b8d5833fb2ca6fe24118ee825000\", element=\"7D12E7D3B4ADE4A6B30C38B8188606B3_element_1151660\")>],\n",
       " [<selenium.webdriver.remote.webelement.WebElement (session=\"e2d4b8d5833fb2ca6fe24118ee825000\", element=\"A108D85E56DD911C16E20F2B8FF32C37_element_1151950\")>,\n",
       "  <selenium.webdriver.remote.webelement.WebElement (session=\"e2d4b8d5833fb2ca6fe24118ee825000\", element=\"A108D85E56DD911C16E20F2B8FF32C37_element_1151951\")>],\n",
       " [<selenium.webdriver.remote.webelement.WebElement (session=\"e2d4b8d5833fb2ca6fe24118ee825000\", element=\"1489D8D19994B77403ACD884D1FF443D_element_1152504\")>],\n",
       " [<selenium.webdriver.remote.webelement.WebElement (session=\"e2d4b8d5833fb2ca6fe24118ee825000\", element=\"B06D8560002628A956ADB1E7546A31C2_element_1152724\")>,\n",
       "  <selenium.webdriver.remote.webelement.WebElement (session=\"e2d4b8d5833fb2ca6fe24118ee825000\", element=\"B06D8560002628A956ADB1E7546A31C2_element_1152725\")>],\n",
       " [<selenium.webdriver.remote.webelement.WebElement (session=\"e2d4b8d5833fb2ca6fe24118ee825000\", element=\"AB48C03936B3DE1FAD362DD82549706C_element_1152935\")>,\n",
       "  <selenium.webdriver.remote.webelement.WebElement (session=\"e2d4b8d5833fb2ca6fe24118ee825000\", element=\"AB48C03936B3DE1FAD362DD82549706C_element_1152936\")>],\n",
       " [<selenium.webdriver.remote.webelement.WebElement (session=\"e2d4b8d5833fb2ca6fe24118ee825000\", element=\"57E03E0F65935FA33331C5CC67F7434A_element_1153473\")>],\n",
       " [<selenium.webdriver.remote.webelement.WebElement (session=\"e2d4b8d5833fb2ca6fe24118ee825000\", element=\"F9A8F7DF0939B117BAA43EE3ABB269E2_element_1153688\")>,\n",
       "  <selenium.webdriver.remote.webelement.WebElement (session=\"e2d4b8d5833fb2ca6fe24118ee825000\", element=\"F9A8F7DF0939B117BAA43EE3ABB269E2_element_1153689\")>],\n",
       " [<selenium.webdriver.remote.webelement.WebElement (session=\"e2d4b8d5833fb2ca6fe24118ee825000\", element=\"8C67ACDB8E251F7D1AE955F41E974205_element_1153813\")>],\n",
       " [<selenium.webdriver.remote.webelement.WebElement (session=\"e2d4b8d5833fb2ca6fe24118ee825000\", element=\"6181B983CA842E62EB470733006EB49D_element_1154020\")>,\n",
       "  <selenium.webdriver.remote.webelement.WebElement (session=\"e2d4b8d5833fb2ca6fe24118ee825000\", element=\"6181B983CA842E62EB470733006EB49D_element_1154021\")>],\n",
       " [<selenium.webdriver.remote.webelement.WebElement (session=\"e2d4b8d5833fb2ca6fe24118ee825000\", element=\"FD2787B4A1831CF6B5512DAD7466785D_element_1154575\")>],\n",
       " [<selenium.webdriver.remote.webelement.WebElement (session=\"e2d4b8d5833fb2ca6fe24118ee825000\", element=\"349B63014649A889A4B5885E3D679CC6_element_1154747\")>,\n",
       "  <selenium.webdriver.remote.webelement.WebElement (session=\"e2d4b8d5833fb2ca6fe24118ee825000\", element=\"349B63014649A889A4B5885E3D679CC6_element_1154748\")>],\n",
       " [<selenium.webdriver.remote.webelement.WebElement (session=\"e2d4b8d5833fb2ca6fe24118ee825000\", element=\"D6EDD1A3A1B96BDBC49F9F84CD68D6FE_element_1155300\")>],\n",
       " [<selenium.webdriver.remote.webelement.WebElement (session=\"e2d4b8d5833fb2ca6fe24118ee825000\", element=\"37B60A9FBD0A9007558D93C553F4775A_element_1155862\")>],\n",
       " [<selenium.webdriver.remote.webelement.WebElement (session=\"e2d4b8d5833fb2ca6fe24118ee825000\", element=\"F1D169A275971D0EFAF54B4BA781A3C5_element_1156418\")>],\n",
       " [<selenium.webdriver.remote.webelement.WebElement (session=\"e2d4b8d5833fb2ca6fe24118ee825000\", element=\"A9AE4C48EC0C33B1C49F7FA8CEB04319_element_1156976\")>],\n",
       " [<selenium.webdriver.remote.webelement.WebElement (session=\"e2d4b8d5833fb2ca6fe24118ee825000\", element=\"28B06D8CF7C039ABAF886882A2799040_element_1157191\")>,\n",
       "  <selenium.webdriver.remote.webelement.WebElement (session=\"e2d4b8d5833fb2ca6fe24118ee825000\", element=\"28B06D8CF7C039ABAF886882A2799040_element_1157192\")>],\n",
       " [<selenium.webdriver.remote.webelement.WebElement (session=\"e2d4b8d5833fb2ca6fe24118ee825000\", element=\"809CD5BED21AD88C1177662A1214A520_element_1157731\")>],\n",
       " [<selenium.webdriver.remote.webelement.WebElement (session=\"e2d4b8d5833fb2ca6fe24118ee825000\", element=\"C393EC2EA2B8D8D3767A9B794BC8887A_element_1158277\")>],\n",
       " [<selenium.webdriver.remote.webelement.WebElement (session=\"e2d4b8d5833fb2ca6fe24118ee825000\", element=\"E48FF4E316BEF4C8C2250859F04C6956_element_1158837\")>],\n",
       " [<selenium.webdriver.remote.webelement.WebElement (session=\"e2d4b8d5833fb2ca6fe24118ee825000\", element=\"C84E2BA95E9EC0360F59A18C6793DC83_element_1159039\")>],\n",
       " [<selenium.webdriver.remote.webelement.WebElement (session=\"e2d4b8d5833fb2ca6fe24118ee825000\", element=\"87B7C3BEA85CDE0161D57D287B44BE1D_element_1159331\")>,\n",
       "  <selenium.webdriver.remote.webelement.WebElement (session=\"e2d4b8d5833fb2ca6fe24118ee825000\", element=\"87B7C3BEA85CDE0161D57D287B44BE1D_element_1159332\")>],\n",
       " [<selenium.webdriver.remote.webelement.WebElement (session=\"e2d4b8d5833fb2ca6fe24118ee825000\", element=\"D265E284EA9AC5E1CE92EA54BAC5641C_element_1159530\")>,\n",
       "  <selenium.webdriver.remote.webelement.WebElement (session=\"e2d4b8d5833fb2ca6fe24118ee825000\", element=\"D265E284EA9AC5E1CE92EA54BAC5641C_element_1159531\")>],\n",
       " [<selenium.webdriver.remote.webelement.WebElement (session=\"e2d4b8d5833fb2ca6fe24118ee825000\", element=\"FEC90017F097B5C00D30216F0A31E596_element_1160079\")>],\n",
       " [<selenium.webdriver.remote.webelement.WebElement (session=\"e2d4b8d5833fb2ca6fe24118ee825000\", element=\"B1AE1B54328FC818E37DCD8D4698C284_element_1160302\")>,\n",
       "  <selenium.webdriver.remote.webelement.WebElement (session=\"e2d4b8d5833fb2ca6fe24118ee825000\", element=\"B1AE1B54328FC818E37DCD8D4698C284_element_1160303\")>],\n",
       " [<selenium.webdriver.remote.webelement.WebElement (session=\"e2d4b8d5833fb2ca6fe24118ee825000\", element=\"8007378444CF1AB40748CB2D74D4FF3B_element_1160596\")>,\n",
       "  <selenium.webdriver.remote.webelement.WebElement (session=\"e2d4b8d5833fb2ca6fe24118ee825000\", element=\"8007378444CF1AB40748CB2D74D4FF3B_element_1160597\")>],\n",
       " [<selenium.webdriver.remote.webelement.WebElement (session=\"e2d4b8d5833fb2ca6fe24118ee825000\", element=\"76A8A51EDFC255D15D2E1C0F200E28ED_element_1160815\")>,\n",
       "  <selenium.webdriver.remote.webelement.WebElement (session=\"e2d4b8d5833fb2ca6fe24118ee825000\", element=\"76A8A51EDFC255D15D2E1C0F200E28ED_element_1160816\")>],\n",
       " [<selenium.webdriver.remote.webelement.WebElement (session=\"e2d4b8d5833fb2ca6fe24118ee825000\", element=\"B6B4DC85DE9246552BEBCE15BF663E52_element_1161023\")>,\n",
       "  <selenium.webdriver.remote.webelement.WebElement (session=\"e2d4b8d5833fb2ca6fe24118ee825000\", element=\"B6B4DC85DE9246552BEBCE15BF663E52_element_1161024\")>],\n",
       " [<selenium.webdriver.remote.webelement.WebElement (session=\"e2d4b8d5833fb2ca6fe24118ee825000\", element=\"A500BA22EB56D166973412E5DA117CFC_element_1161237\")>,\n",
       "  <selenium.webdriver.remote.webelement.WebElement (session=\"e2d4b8d5833fb2ca6fe24118ee825000\", element=\"A500BA22EB56D166973412E5DA117CFC_element_1161238\")>],\n",
       " [<selenium.webdriver.remote.webelement.WebElement (session=\"e2d4b8d5833fb2ca6fe24118ee825000\", element=\"24FAABCA1EF3D077271F6940BBB52A57_element_1161787\")>],\n",
       " [<selenium.webdriver.remote.webelement.WebElement (session=\"e2d4b8d5833fb2ca6fe24118ee825000\", element=\"6EDB7ED877A78EC91AB1FDBC28DB031D_element_1162001\")>,\n",
       "  <selenium.webdriver.remote.webelement.WebElement (session=\"e2d4b8d5833fb2ca6fe24118ee825000\", element=\"6EDB7ED877A78EC91AB1FDBC28DB031D_element_1162002\")>],\n",
       " [<selenium.webdriver.remote.webelement.WebElement (session=\"e2d4b8d5833fb2ca6fe24118ee825000\", element=\"7CEC4E8E3FD98E4CB08FB9BFA7A890EB_element_1162296\")>,\n",
       "  <selenium.webdriver.remote.webelement.WebElement (session=\"e2d4b8d5833fb2ca6fe24118ee825000\", element=\"7CEC4E8E3FD98E4CB08FB9BFA7A890EB_element_1162297\")>],\n",
       " [<selenium.webdriver.remote.webelement.WebElement (session=\"e2d4b8d5833fb2ca6fe24118ee825000\", element=\"7602EC5FF1C8CEF86D7709903ADD33A6_element_1162590\")>,\n",
       "  <selenium.webdriver.remote.webelement.WebElement (session=\"e2d4b8d5833fb2ca6fe24118ee825000\", element=\"7602EC5FF1C8CEF86D7709903ADD33A6_element_1162591\")>],\n",
       " [<selenium.webdriver.remote.webelement.WebElement (session=\"e2d4b8d5833fb2ca6fe24118ee825000\", element=\"A5011ED878CD4DD08669BEF41EBF8B3B_element_1162891\")>,\n",
       "  <selenium.webdriver.remote.webelement.WebElement (session=\"e2d4b8d5833fb2ca6fe24118ee825000\", element=\"A5011ED878CD4DD08669BEF41EBF8B3B_element_1162892\")>],\n",
       " [<selenium.webdriver.remote.webelement.WebElement (session=\"e2d4b8d5833fb2ca6fe24118ee825000\", element=\"3D7C6588CEF2E6A9E113773B1CA35DC5_element_1163102\")>,\n",
       "  <selenium.webdriver.remote.webelement.WebElement (session=\"e2d4b8d5833fb2ca6fe24118ee825000\", element=\"3D7C6588CEF2E6A9E113773B1CA35DC5_element_1163103\")>],\n",
       " [<selenium.webdriver.remote.webelement.WebElement (session=\"e2d4b8d5833fb2ca6fe24118ee825000\", element=\"FA71481E4D928E92FDB3B73F758279D3_element_1163306\")>,\n",
       "  <selenium.webdriver.remote.webelement.WebElement (session=\"e2d4b8d5833fb2ca6fe24118ee825000\", element=\"FA71481E4D928E92FDB3B73F758279D3_element_1163307\")>],\n",
       " [<selenium.webdriver.remote.webelement.WebElement (session=\"e2d4b8d5833fb2ca6fe24118ee825000\", element=\"AA08EE923E0973A00732CACD217F0293_element_1163601\")>,\n",
       "  <selenium.webdriver.remote.webelement.WebElement (session=\"e2d4b8d5833fb2ca6fe24118ee825000\", element=\"AA08EE923E0973A00732CACD217F0293_element_1163602\")>],\n",
       " [<selenium.webdriver.remote.webelement.WebElement (session=\"e2d4b8d5833fb2ca6fe24118ee825000\", element=\"CC3C967DEA870AACA1DF86B49AF1CEB6_element_1163899\")>,\n",
       "  <selenium.webdriver.remote.webelement.WebElement (session=\"e2d4b8d5833fb2ca6fe24118ee825000\", element=\"CC3C967DEA870AACA1DF86B49AF1CEB6_element_1163900\")>],\n",
       " [<selenium.webdriver.remote.webelement.WebElement (session=\"e2d4b8d5833fb2ca6fe24118ee825000\", element=\"586FB60B263804396C9C786D2CC729D3_element_1164096\")>],\n",
       " [<selenium.webdriver.remote.webelement.WebElement (session=\"e2d4b8d5833fb2ca6fe24118ee825000\", element=\"76349851F319F2C4B67FABEB2655ECB2_element_1164643\")>],\n",
       " [<selenium.webdriver.remote.webelement.WebElement (session=\"e2d4b8d5833fb2ca6fe24118ee825000\", element=\"FC8DD0A21FE2A6D22BD12520FC124CA4_element_1165202\")>],\n",
       " [<selenium.webdriver.remote.webelement.WebElement (session=\"e2d4b8d5833fb2ca6fe24118ee825000\", element=\"C9EA6A3F22B9798ABE7806CAC36E7A8B_element_1165765\")>],\n",
       " [<selenium.webdriver.remote.webelement.WebElement (session=\"e2d4b8d5833fb2ca6fe24118ee825000\", element=\"1A6D1D8EA56A7E81CCB25161E67E509B_element_1165978\")>,\n",
       "  <selenium.webdriver.remote.webelement.WebElement (session=\"e2d4b8d5833fb2ca6fe24118ee825000\", element=\"1A6D1D8EA56A7E81CCB25161E67E509B_element_1165979\")>],\n",
       " [<selenium.webdriver.remote.webelement.WebElement (session=\"e2d4b8d5833fb2ca6fe24118ee825000\", element=\"D7E2C3C618009E9F3370182E7A5C6F0C_element_1166529\")>],\n",
       " [<selenium.webdriver.remote.webelement.WebElement (session=\"e2d4b8d5833fb2ca6fe24118ee825000\", element=\"8FB6FA78B8D63D712A629D578B064242_element_1166728\")>,\n",
       "  <selenium.webdriver.remote.webelement.WebElement (session=\"e2d4b8d5833fb2ca6fe24118ee825000\", element=\"8FB6FA78B8D63D712A629D578B064242_element_1166729\")>],\n",
       " [<selenium.webdriver.remote.webelement.WebElement (session=\"e2d4b8d5833fb2ca6fe24118ee825000\", element=\"D7D4AC7D386F795EE18A28862FBD834F_element_1167025\")>,\n",
       "  <selenium.webdriver.remote.webelement.WebElement (session=\"e2d4b8d5833fb2ca6fe24118ee825000\", element=\"D7D4AC7D386F795EE18A28862FBD834F_element_1167026\")>],\n",
       " [<selenium.webdriver.remote.webelement.WebElement (session=\"e2d4b8d5833fb2ca6fe24118ee825000\", element=\"F6C762040FBC0A782BE7643A28E4ED36_element_1167232\")>,\n",
       "  <selenium.webdriver.remote.webelement.WebElement (session=\"e2d4b8d5833fb2ca6fe24118ee825000\", element=\"F6C762040FBC0A782BE7643A28E4ED36_element_1167233\")>],\n",
       " [<selenium.webdriver.remote.webelement.WebElement (session=\"e2d4b8d5833fb2ca6fe24118ee825000\", element=\"DB2BF396C79B3225DE0E9BCB2673B985_element_1167423\")>],\n",
       " [<selenium.webdriver.remote.webelement.WebElement (session=\"e2d4b8d5833fb2ca6fe24118ee825000\", element=\"1AC0BEF706CE41682090CFBDADBD1875_element_1167621\")>,\n",
       "  <selenium.webdriver.remote.webelement.WebElement (session=\"e2d4b8d5833fb2ca6fe24118ee825000\", element=\"1AC0BEF706CE41682090CFBDADBD1875_element_1167622\")>],\n",
       " [<selenium.webdriver.remote.webelement.WebElement (session=\"e2d4b8d5833fb2ca6fe24118ee825000\", element=\"A20DF27BE1EC79A57EC74390066D71E4_element_1168160\")>],\n",
       " [<selenium.webdriver.remote.webelement.WebElement (session=\"e2d4b8d5833fb2ca6fe24118ee825000\", element=\"BF70590DB20C07D7AB60CFB35E1E65F3_element_1168711\")>],\n",
       " [<selenium.webdriver.remote.webelement.WebElement (session=\"e2d4b8d5833fb2ca6fe24118ee825000\", element=\"F91A8D0611FF0C7855F8086CD44B73AA_element_1168891\")>,\n",
       "  <selenium.webdriver.remote.webelement.WebElement (session=\"e2d4b8d5833fb2ca6fe24118ee825000\", element=\"F91A8D0611FF0C7855F8086CD44B73AA_element_1168892\")>],\n",
       " [<selenium.webdriver.remote.webelement.WebElement (session=\"e2d4b8d5833fb2ca6fe24118ee825000\", element=\"3B2B05A9FA553BCAC44F98B320526B91_element_1169439\")>],\n",
       " [<selenium.webdriver.remote.webelement.WebElement (session=\"e2d4b8d5833fb2ca6fe24118ee825000\", element=\"72F0A59FCBA38300C82268953637B4CE_element_1169992\")>],\n",
       " [<selenium.webdriver.remote.webelement.WebElement (session=\"e2d4b8d5833fb2ca6fe24118ee825000\", element=\"42C9A3EC5038D4D6A9629522F53118C8_element_1170557\")>],\n",
       " [<selenium.webdriver.remote.webelement.WebElement (session=\"e2d4b8d5833fb2ca6fe24118ee825000\", element=\"671ADFEC6D8979E26D7B080C715C3CE9_element_1171109\")>],\n",
       " [<selenium.webdriver.remote.webelement.WebElement (session=\"e2d4b8d5833fb2ca6fe24118ee825000\", element=\"3A16AB28710932A5E6D1602F7FA7A6E1_element_1171672\")>],\n",
       " [<selenium.webdriver.remote.webelement.WebElement (session=\"e2d4b8d5833fb2ca6fe24118ee825000\", element=\"DAA364FB95793E40B6437ABDC01E76AF_element_1171889\")>,\n",
       "  <selenium.webdriver.remote.webelement.WebElement (session=\"e2d4b8d5833fb2ca6fe24118ee825000\", element=\"DAA364FB95793E40B6437ABDC01E76AF_element_1171890\")>],\n",
       " [<selenium.webdriver.remote.webelement.WebElement (session=\"e2d4b8d5833fb2ca6fe24118ee825000\", element=\"DF2BF68CDD38897FFB6EBDE7C0722644_element_1172099\")>,\n",
       "  <selenium.webdriver.remote.webelement.WebElement (session=\"e2d4b8d5833fb2ca6fe24118ee825000\", element=\"DF2BF68CDD38897FFB6EBDE7C0722644_element_1172100\")>],\n",
       " [<selenium.webdriver.remote.webelement.WebElement (session=\"e2d4b8d5833fb2ca6fe24118ee825000\", element=\"F79BA5E93D0F17B7D80DB7D1CD7996D0_element_1172651\")>],\n",
       " [<selenium.webdriver.remote.webelement.WebElement (session=\"e2d4b8d5833fb2ca6fe24118ee825000\", element=\"786163FD7562ED7A200564407DF31972_element_1172952\")>,\n",
       "  <selenium.webdriver.remote.webelement.WebElement (session=\"e2d4b8d5833fb2ca6fe24118ee825000\", element=\"786163FD7562ED7A200564407DF31972_element_1172953\")>],\n",
       " [<selenium.webdriver.remote.webelement.WebElement (session=\"e2d4b8d5833fb2ca6fe24118ee825000\", element=\"70903A7EC52BBC4E25A59ACE78B2B079_element_1173506\")>],\n",
       " [<selenium.webdriver.remote.webelement.WebElement (session=\"e2d4b8d5833fb2ca6fe24118ee825000\", element=\"2239202A2265E492FA6BE63BD5B47E64_element_1173693\")>,\n",
       "  <selenium.webdriver.remote.webelement.WebElement (session=\"e2d4b8d5833fb2ca6fe24118ee825000\", element=\"2239202A2265E492FA6BE63BD5B47E64_element_1173694\")>],\n",
       " [<selenium.webdriver.remote.webelement.WebElement (session=\"e2d4b8d5833fb2ca6fe24118ee825000\", element=\"1796A2DA3BFA9356F256AAC2AC588B81_element_1173893\")>,\n",
       "  <selenium.webdriver.remote.webelement.WebElement (session=\"e2d4b8d5833fb2ca6fe24118ee825000\", element=\"1796A2DA3BFA9356F256AAC2AC588B81_element_1173894\")>],\n",
       " [<selenium.webdriver.remote.webelement.WebElement (session=\"e2d4b8d5833fb2ca6fe24118ee825000\", element=\"B6A2969E2669302F9FDF4FCF72360A3F_element_1174109\")>,\n",
       "  <selenium.webdriver.remote.webelement.WebElement (session=\"e2d4b8d5833fb2ca6fe24118ee825000\", element=\"B6A2969E2669302F9FDF4FCF72360A3F_element_1174110\")>],\n",
       " [<selenium.webdriver.remote.webelement.WebElement (session=\"e2d4b8d5833fb2ca6fe24118ee825000\", element=\"EAA01C2EBA46B6C04FC0CC5506C42949_element_1174662\")>],\n",
       " [<selenium.webdriver.remote.webelement.WebElement (session=\"e2d4b8d5833fb2ca6fe24118ee825000\", element=\"E51525C0CA6DD1BF60095559B618B58B_element_1174893\")>,\n",
       "  <selenium.webdriver.remote.webelement.WebElement (session=\"e2d4b8d5833fb2ca6fe24118ee825000\", element=\"E51525C0CA6DD1BF60095559B618B58B_element_1174894\")>],\n",
       " [<selenium.webdriver.remote.webelement.WebElement (session=\"e2d4b8d5833fb2ca6fe24118ee825000\", element=\"778C23235FDBB6223E466B56736818E0_element_1175106\")>,\n",
       "  <selenium.webdriver.remote.webelement.WebElement (session=\"e2d4b8d5833fb2ca6fe24118ee825000\", element=\"778C23235FDBB6223E466B56736818E0_element_1175107\")>],\n",
       " [<selenium.webdriver.remote.webelement.WebElement (session=\"e2d4b8d5833fb2ca6fe24118ee825000\", element=\"AC25128A17474897B6236A80B2FB4788_element_1175647\")>],\n",
       " [<selenium.webdriver.remote.webelement.WebElement (session=\"e2d4b8d5833fb2ca6fe24118ee825000\", element=\"17C11335A64AFCC06AAEB5F95DAD2F3D_element_1175860\")>,\n",
       "  <selenium.webdriver.remote.webelement.WebElement (session=\"e2d4b8d5833fb2ca6fe24118ee825000\", element=\"17C11335A64AFCC06AAEB5F95DAD2F3D_element_1175861\")>],\n",
       " [<selenium.webdriver.remote.webelement.WebElement (session=\"e2d4b8d5833fb2ca6fe24118ee825000\", element=\"18C0E122019A5994F26D25F47D5DE789_element_1175985\")>],\n",
       " [<selenium.webdriver.remote.webelement.WebElement (session=\"e2d4b8d5833fb2ca6fe24118ee825000\", element=\"AC85A29033D56D20B12542612EF47B73_element_1176197\")>,\n",
       "  <selenium.webdriver.remote.webelement.WebElement (session=\"e2d4b8d5833fb2ca6fe24118ee825000\", element=\"AC85A29033D56D20B12542612EF47B73_element_1176198\")>],\n",
       " [<selenium.webdriver.remote.webelement.WebElement (session=\"e2d4b8d5833fb2ca6fe24118ee825000\", element=\"397159A3639CA01F8EC264850667E874_element_1176753\")>],\n",
       " [<selenium.webdriver.remote.webelement.WebElement (session=\"e2d4b8d5833fb2ca6fe24118ee825000\", element=\"42E138B2BBD0F36682C91964EE349230_element_1176926\")>,\n",
       "  <selenium.webdriver.remote.webelement.WebElement (session=\"e2d4b8d5833fb2ca6fe24118ee825000\", element=\"42E138B2BBD0F36682C91964EE349230_element_1176927\")>],\n",
       " [<selenium.webdriver.remote.webelement.WebElement (session=\"e2d4b8d5833fb2ca6fe24118ee825000\", element=\"8B220861B0EB46883A0F3C3AC7C34BD1_element_1177480\")>],\n",
       " [<selenium.webdriver.remote.webelement.WebElement (session=\"e2d4b8d5833fb2ca6fe24118ee825000\", element=\"D7F6317A95E20022A125F786F1E268C5_element_1178039\")>],\n",
       " [<selenium.webdriver.remote.webelement.WebElement (session=\"e2d4b8d5833fb2ca6fe24118ee825000\", element=\"153C7B9FC3E52353C97D6C8F494DFC72_element_1178596\")>],\n",
       " [<selenium.webdriver.remote.webelement.WebElement (session=\"e2d4b8d5833fb2ca6fe24118ee825000\", element=\"BB082B4B2F765CF42BF6075897FB7BE1_element_1179150\")>],\n",
       " [<selenium.webdriver.remote.webelement.WebElement (session=\"e2d4b8d5833fb2ca6fe24118ee825000\", element=\"053AF504E2A68912B2FEECD55FACEB97_element_1179371\")>,\n",
       "  <selenium.webdriver.remote.webelement.WebElement (session=\"e2d4b8d5833fb2ca6fe24118ee825000\", element=\"053AF504E2A68912B2FEECD55FACEB97_element_1179372\")>]]"
      ]
     },
     "execution_count": 19,
     "metadata": {},
     "output_type": "execute_result"
    }
   ],
   "source": [
    "for i in urls_of_product:\n",
    "    driver.get(i)\n",
    "    time.sleep(4)\n",
    "    \n",
    "    try:\n",
    "        names = driver.find_elements(By.ID,\"productTitle\")\n",
    "        name_of_the_product.append(names)\n",
    "    except NoSuchElementException:\n",
    "        print(\"Unknown\")\n",
    "name_of_the_product"
   ]
  },
  {
   "cell_type": "code",
   "execution_count": 41,
   "id": "e0e803cd",
   "metadata": {},
   "outputs": [],
   "source": [
    "for i in urls_of_product:\n",
    "    driver.get(i)\n",
    "    time.sleep(3)\n",
    "    try:\n",
    "        prices = driver.find_elements(By.XPATH,'//span[@class=\"a-price-whole\"]')\n",
    "        price.append(prices)\n",
    "        \n",
    "        RE = driver.find_elements(By.XPATH,'//div[@class=\"a-column a-span12 a-text-center icon-container scrollable-container celwidget\"]')\n",
    "        ReturnExchange.append(RE)\n",
    "        \n",
    "        Exp_Del = driver.find_elements(By.ID,\"mir-layout-DELIVERY_BLOCK-slot-PRIMARY_DELIVERY_MESSAGE_LARGE\")\n",
    "        Expected_Delivery.append(Exp_Del)\n",
    "        \n",
    "        available = driver.find_elements(By.ID,\"availability\")\n",
    "        Availability.append(available)\n",
    "        \n",
    "        urlss = driver.find_elements(By.XPATH,'//a[@class=\"a-link-normal s-underline-text s-underline-link-text s-link-style a-text-normal\"]')\n",
    "        Product_url.append(urlss)\n",
    "        \n",
    "    except NosuchElementException:\n",
    "            print(\"Data Not Found\")\n",
    "\n",
    "            "
   ]
  },
  {
   "cell_type": "code",
   "execution_count": 42,
   "id": "dfc4553b",
   "metadata": {},
   "outputs": [
    {
     "name": "stdout",
     "output_type": "stream",
     "text": [
      "187 187 187 187 186\n"
     ]
    }
   ],
   "source": [
    "print(len(price),len(ReturnExchange),len(Expected_Delivery),len(Availability),len(Product_url))"
   ]
  },
  {
   "cell_type": "markdown",
   "id": "1b1148be",
   "metadata": {},
   "source": [
    "3. Write a python program to access the search bar and search button on images.google.com and scrape 10 \n",
    "images each for keywords ‘fruits’, ‘cars’ and ‘Machine Learning’, ‘Guitar’, ‘Cakes’. "
   ]
  },
  {
   "cell_type": "code",
   "execution_count": 1,
   "id": "117a1388",
   "metadata": {},
   "outputs": [],
   "source": [
    "import selenium\n",
    "from selenium import webdriver\n",
    "import pandas as pd\n",
    "from selenium.webdriver.common.by import By\n",
    "from selenium.common.exceptions import NoSuchElementException\n",
    "import time"
   ]
  },
  {
   "cell_type": "code",
   "execution_count": 2,
   "id": "f32a3fae",
   "metadata": {},
   "outputs": [],
   "source": [
    "driver = webdriver.Chrome()\n",
    "driver.get('https://images.google.com/')"
   ]
  },
  {
   "cell_type": "code",
   "execution_count": 9,
   "id": "5cda74a4",
   "metadata": {},
   "outputs": [
    {
     "ename": "SyntaxError",
     "evalue": "incomplete input (3549244499.py, line 23)",
     "output_type": "error",
     "traceback": [
      "\u001b[1;36m  Cell \u001b[1;32mIn[9], line 23\u001b[1;36m\u001b[0m\n\u001b[1;33m    \u001b[0m\n\u001b[1;37m    ^\u001b[0m\n\u001b[1;31mSyntaxError\u001b[0m\u001b[1;31m:\u001b[0m incomplete input\n"
     ]
    }
   ],
   "source": [
    "keywords = ['fruits','cars','Machine Learning','Guitar','Cake']\n",
    "for keyword in keywords:\n",
    "            search_bar = driver.find_element(By.NAME,'q')\n",
    "            search_bar.send_keys(keyword)\n",
    "            search_bar.clear()\n",
    "            search_button = driver.find_element(By.XPATH,'/html/body/div[1]/div[3]/form/div[1]/div[1]/div[1]/button')\n",
    "            search_button.click()\n",
    "            scroll_down =  driver.execute_script(\"window.scrollTo(0, document.body.scrollHeight);\")\n",
    "        \n",
    "            time.sleep(3)\n",
    "            \n",
    "            images = driver.find_elements(By.XPATH,'//div[@class=\"fR600b islir\"]')\n",
    "            image =[]\n",
    "            for i in range(10):\n",
    "                try:\n",
    "                    image.append(i[\"data-src\"])\n",
    "                    time.sleep(2)\n",
    "                except AttributeError:\n",
    "                    #print(\"Error\")\n",
    "                \n",
    "               \n",
    "   \n",
    "            "
   ]
  },
  {
   "cell_type": "markdown",
   "id": "96bfc539",
   "metadata": {},
   "source": [
    "4. Write a python program to search for a smartphone(e.g.: Oneplus Nord, pixel 4A, etc.) on www.flipkart.com\n",
    "and scrape following details for all the search results displayed on 1st page. Details to be scraped: “Brand \n",
    "Name”, “Smartphone name”, “Colour”, “RAM”, “Storage(ROM)”, “Primary Camera”, \n",
    "“Secondary Camera”, “Display Size”, “Battery Capacity”, “Price”, “Product URL”. Incase if any of the \n",
    "details is missing then replace it by “- “. Save your results in a dataframe and CSV. \n",
    "    "
   ]
  },
  {
   "cell_type": "code",
   "execution_count": 39,
   "id": "885b7669",
   "metadata": {},
   "outputs": [],
   "source": [
    "import selenium\n",
    "from selenium import webdriver\n",
    "import pandas as pd\n",
    "from selenium.webdriver.common.by import By\n",
    "from selenium.common.exceptions import NoSuchElementException\n",
    "import time"
   ]
  },
  {
   "cell_type": "code",
   "execution_count": 57,
   "id": "cdaf5c64",
   "metadata": {},
   "outputs": [],
   "source": [
    "driver = webdriver.Chrome()\n",
    "driver.get('https://www.flipkart.com/')"
   ]
  },
  {
   "cell_type": "code",
   "execution_count": 58,
   "id": "ecfcc964",
   "metadata": {},
   "outputs": [],
   "source": [
    "search_bar = driver.find_element(By.XPATH,'/html/body/div[1]/div/div[1]/div/div/div/div/div[1]/div/div[1]/div/div[1]/div[1]/header/div[1]/div[2]/form/div/div/input')\n",
    "search_bar.send_keys(\"samsung s23 ultra\")"
   ]
  },
  {
   "cell_type": "code",
   "execution_count": 59,
   "id": "0cffafdd",
   "metadata": {},
   "outputs": [],
   "source": [
    "search_button = driver.find_element(By.XPATH,'/html/body/div[1]/div/div[1]/div/div/div/div/div[1]/div/div[1]/div/div[1]/div[1]/header/div[1]/div[2]/form/div/button')\n",
    "search_button.click()"
   ]
  },
  {
   "cell_type": "code",
   "execution_count": 60,
   "id": "1c8cf2ca",
   "metadata": {},
   "outputs": [],
   "source": [
    "BrandName = []\n",
    "\n",
    "RAM=[]\n",
    "Storage_ROM=[]\n",
    "Primary_Camera=[]\n",
    "Secondary_Camera=[]\n",
    "Display_Size=[]\n",
    "Battery_Capacity=[]\n",
    "Price=[]\n",
    "Product_Url=[]\n",
    "\n",
    "start=0\n",
    "end=1\n",
    "for page in range(start,end):\n",
    "    urls = driver.find_elements(By.XPATH,'//div[@class=\"_2kHMtA\"]/a')\n",
    "    for i in urls:\n",
    "        Product_Url.append(i.get_attribute(\"href\"))\n",
    "        \n",
    "    \n",
    "    \n",
    "    \n"
   ]
  },
  {
   "cell_type": "code",
   "execution_count": 61,
   "id": "b2953e11",
   "metadata": {},
   "outputs": [
    {
     "name": "stdout",
     "output_type": "stream",
     "text": [
      "9\n"
     ]
    }
   ],
   "source": [
    "print(len(Product_Url))"
   ]
  },
  {
   "cell_type": "code",
   "execution_count": 62,
   "id": "d883ba2f",
   "metadata": {},
   "outputs": [],
   "source": [
    "for i in Product_Url:\n",
    "    driver.get(i)\n",
    "    \n",
    "    Brand = driver.find_elements(By.XPATH,'//span[@class=\"B_NuCI\"]')\n",
    "    for i in Brand:\n",
    "        if i is None:\n",
    "            BrandName.append(\"--\")\n",
    "        else:\n",
    "            BrandName.append(i.text)\n",
    "        \n",
    "    \n",
    "\n"
   ]
  },
  {
   "cell_type": "code",
   "execution_count": 63,
   "id": "0e0d3802",
   "metadata": {},
   "outputs": [
    {
     "name": "stdout",
     "output_type": "stream",
     "text": [
      "9\n"
     ]
    }
   ],
   "source": [
    "print(len(BrandName))"
   ]
  },
  {
   "cell_type": "code",
   "execution_count": 64,
   "id": "00fbf4d7",
   "metadata": {},
   "outputs": [],
   "source": [
    "for i in Product_Url:\n",
    "    driver.get(i)\n",
    "    \n",
    "    ram = driver.find_elements(By.XPATH,'//div[@class=\"_2418kt\"]//ul//li[1]')\n",
    "    for i in ram:\n",
    "        if i is None:\n",
    "            RAM.append(\"--\")\n",
    "        else:\n",
    "            RAM.append(i.text)"
   ]
  },
  {
   "cell_type": "code",
   "execution_count": 65,
   "id": "13129c78",
   "metadata": {},
   "outputs": [
    {
     "name": "stdout",
     "output_type": "stream",
     "text": [
      "9\n"
     ]
    }
   ],
   "source": [
    "print(len(RAM))"
   ]
  },
  {
   "cell_type": "code",
   "execution_count": 66,
   "id": "9ae1a327",
   "metadata": {},
   "outputs": [],
   "source": [
    "for i in Product_Url:\n",
    "    driver.get(i)\n",
    "    \n",
    "    camera = driver.find_elements(By.XPATH,'//div[@class=\"_2418kt\"]//ul//li[3]')\n",
    "    for i in camera:\n",
    "        if i is None:\n",
    "            Primary_Camera.append(\"--\")\n",
    "        else:\n",
    "            Primary_Camera.append(i.text)"
   ]
  },
  {
   "cell_type": "code",
   "execution_count": 67,
   "id": "f7df9bb2",
   "metadata": {},
   "outputs": [
    {
     "name": "stdout",
     "output_type": "stream",
     "text": [
      "9\n"
     ]
    }
   ],
   "source": [
    "print(len(Primary_Camera))"
   ]
  },
  {
   "cell_type": "code",
   "execution_count": 69,
   "id": "6318fcb1",
   "metadata": {},
   "outputs": [],
   "source": [
    "for i in Product_Url:\n",
    "    driver.get(i)\n",
    "    \n",
    "    display = driver.find_elements(By.XPATH,'//div[@class=\"_2418kt\"]//ul//li[2]')\n",
    "    for i in display:\n",
    "        if i is None:\n",
    "            Display_Size.append(\"--\")\n",
    "        else:\n",
    "            Display_Size.append(i.text)"
   ]
  },
  {
   "cell_type": "code",
   "execution_count": 70,
   "id": "3f22348c",
   "metadata": {},
   "outputs": [],
   "source": [
    "for i in Product_Url:\n",
    "    driver.get(i)\n",
    "    \n",
    "    battery = driver.find_elements(By.XPATH,'//div[@class=\"_2418kt\"]/ul/li[4]')\n",
    "    for i in battery:\n",
    "        if i is None:\n",
    "            Battery_Capacity.append(\"--\")\n",
    "        else:\n",
    "            Battery_Capacity.append(i.text)"
   ]
  },
  {
   "cell_type": "code",
   "execution_count": 71,
   "id": "145ea74d",
   "metadata": {},
   "outputs": [],
   "source": [
    "for i in Product_Url:\n",
    "    driver.get(i)\n",
    "    \n",
    "    price= driver.find_elements(By.XPATH,'//div[@class=\"_30jeq3 _16Jk6d\"]')\n",
    "    for i in price:\n",
    "        if i is None:\n",
    "            Price.append(\"--\")\n",
    "        else:\n",
    "            Price.append(i.text)"
   ]
  },
  {
   "cell_type": "code",
   "execution_count": 72,
   "id": "0aa68140",
   "metadata": {},
   "outputs": [],
   "source": [
    "df = pd.DataFrame({\"Phone Name(Brand)\":BrandName,\"RAM/ROM\":RAM,\"Camera Specs\": Primary_Camera,\"Display Specs\":Display_Size,\"Battery Capacity\": Battery_Capacity,\"Price\": Price})"
   ]
  },
  {
   "cell_type": "code",
   "execution_count": 73,
   "id": "fc6f388c",
   "metadata": {},
   "outputs": [
    {
     "data": {
      "text/html": [
       "<div>\n",
       "<style scoped>\n",
       "    .dataframe tbody tr th:only-of-type {\n",
       "        vertical-align: middle;\n",
       "    }\n",
       "\n",
       "    .dataframe tbody tr th {\n",
       "        vertical-align: top;\n",
       "    }\n",
       "\n",
       "    .dataframe thead th {\n",
       "        text-align: right;\n",
       "    }\n",
       "</style>\n",
       "<table border=\"1\" class=\"dataframe\">\n",
       "  <thead>\n",
       "    <tr style=\"text-align: right;\">\n",
       "      <th></th>\n",
       "      <th>Phone Name(Brand)</th>\n",
       "      <th>RAM/ROM</th>\n",
       "      <th>Camera Specs</th>\n",
       "      <th>Display Specs</th>\n",
       "      <th>Battery Capacity</th>\n",
       "      <th>Price</th>\n",
       "    </tr>\n",
       "  </thead>\n",
       "  <tbody>\n",
       "    <tr>\n",
       "      <th>0</th>\n",
       "      <td>SAMSUNG Galaxy S23 Ultra 5G (Cream, 256 GB)  (...</td>\n",
       "      <td>12 GB RAM | 256 GB ROM</td>\n",
       "      <td>200MP + 10MP + 12MP + 10MP | 12MP Front Camera</td>\n",
       "      <td>17.27 cm (6.8 inch) Quad HD+ Display</td>\n",
       "      <td>5000 mAh Lithium Ion Battery</td>\n",
       "      <td>₹1,24,999</td>\n",
       "    </tr>\n",
       "    <tr>\n",
       "      <th>1</th>\n",
       "      <td>SAMSUNG Galaxy S23 Ultra 5G (Phantom Black, 25...</td>\n",
       "      <td>12 GB RAM | 256 GB ROM</td>\n",
       "      <td>200MP + 10MP + 12MP + 10MP | 12MP Front Camera</td>\n",
       "      <td>17.27 cm (6.8 inch) Quad HD+ Display</td>\n",
       "      <td>5000 mAh Lithium Ion Battery</td>\n",
       "      <td>₹1,24,999</td>\n",
       "    </tr>\n",
       "    <tr>\n",
       "      <th>2</th>\n",
       "      <td>SAMSUNG Galaxy S23 Ultra 5G (Green, 256 GB)  (...</td>\n",
       "      <td>12 GB RAM | 256 GB ROM</td>\n",
       "      <td>200MP + 10MP + 12MP + 10MP | 12MP Front Camera</td>\n",
       "      <td>17.27 cm (6.8 inch) Quad HD+ Display</td>\n",
       "      <td>5000 mAh Lithium Ion Battery</td>\n",
       "      <td>₹1,24,999</td>\n",
       "    </tr>\n",
       "    <tr>\n",
       "      <th>3</th>\n",
       "      <td>SAMSUNG Galaxy S23 Ultra 5G (Phantom Black, 51...</td>\n",
       "      <td>12 GB RAM | 512 GB ROM</td>\n",
       "      <td>200MP + 10MP + 12MP + 10MP | 12MP Front Camera</td>\n",
       "      <td>17.27 cm (6.8 inch) Quad HD+ Display</td>\n",
       "      <td>5000 mAh Lithium Ion Battery</td>\n",
       "      <td>₹1,34,999</td>\n",
       "    </tr>\n",
       "    <tr>\n",
       "      <th>4</th>\n",
       "      <td>SAMSUNG Galaxy S23 Ultra 5G (Green, 512 GB)  (...</td>\n",
       "      <td>12 GB RAM | 512 GB ROM</td>\n",
       "      <td>200MP + 10MP + 12MP + 10MP | 12MP Front Camera</td>\n",
       "      <td>17.27 cm (6.8 inch) Quad HD+ Display</td>\n",
       "      <td>5000 mAh Lithium Ion Battery</td>\n",
       "      <td>₹1,34,999</td>\n",
       "    </tr>\n",
       "    <tr>\n",
       "      <th>5</th>\n",
       "      <td>SAMSUNG Galaxy S23 Ultra 5G (Cream, 512 GB)  (...</td>\n",
       "      <td>12 GB RAM | 512 GB ROM</td>\n",
       "      <td>200MP + 10MP + 12MP + 10MP | 12MP Front Camera</td>\n",
       "      <td>17.27 cm (6.8 inch) Quad HD+ Display</td>\n",
       "      <td>5000 mAh Lithium Ion Battery</td>\n",
       "      <td>₹1,34,999</td>\n",
       "    </tr>\n",
       "    <tr>\n",
       "      <th>6</th>\n",
       "      <td>SAMSUNG Galaxy S23 Ultra 5G (Cream, 1 TB)  (12...</td>\n",
       "      <td>12 GB RAM | 1 TB ROM</td>\n",
       "      <td>200MP + 10MP + 12MP + 10MP | 12MP Front Camera</td>\n",
       "      <td>17.27 cm (6.8 inch) Quad HD+ Display</td>\n",
       "      <td>5000 mAh Lithium Ion Battery</td>\n",
       "      <td>₹1,54,999</td>\n",
       "    </tr>\n",
       "    <tr>\n",
       "      <th>7</th>\n",
       "      <td>SAMSUNG Galaxy S23 Ultra 5G (Phantom Black, 1 ...</td>\n",
       "      <td>12 GB RAM | 1 TB ROM</td>\n",
       "      <td>200MP + 10MP + 12MP + 10MP | 12MP Front Camera</td>\n",
       "      <td>17.27 cm (6.8 inch) Quad HD+ Display</td>\n",
       "      <td>5000 mAh Lithium Ion Battery</td>\n",
       "      <td>₹1,54,999</td>\n",
       "    </tr>\n",
       "    <tr>\n",
       "      <th>8</th>\n",
       "      <td>SAMSUNG Galaxy S23 Ultra 5G (Green, 1 TB)  (12...</td>\n",
       "      <td>12 GB RAM | 1 TB ROM</td>\n",
       "      <td>200MP + 10MP + 12MP + 10MP | 12MP Front Camera</td>\n",
       "      <td>17.27 cm (6.8 inch) Quad HD+ Display</td>\n",
       "      <td>5000 mAh Lithium Ion Battery</td>\n",
       "      <td>₹1,54,999</td>\n",
       "    </tr>\n",
       "  </tbody>\n",
       "</table>\n",
       "</div>"
      ],
      "text/plain": [
       "                                   Phone Name(Brand)                 RAM/ROM  \\\n",
       "0  SAMSUNG Galaxy S23 Ultra 5G (Cream, 256 GB)  (...  12 GB RAM | 256 GB ROM   \n",
       "1  SAMSUNG Galaxy S23 Ultra 5G (Phantom Black, 25...  12 GB RAM | 256 GB ROM   \n",
       "2  SAMSUNG Galaxy S23 Ultra 5G (Green, 256 GB)  (...  12 GB RAM | 256 GB ROM   \n",
       "3  SAMSUNG Galaxy S23 Ultra 5G (Phantom Black, 51...  12 GB RAM | 512 GB ROM   \n",
       "4  SAMSUNG Galaxy S23 Ultra 5G (Green, 512 GB)  (...  12 GB RAM | 512 GB ROM   \n",
       "5  SAMSUNG Galaxy S23 Ultra 5G (Cream, 512 GB)  (...  12 GB RAM | 512 GB ROM   \n",
       "6  SAMSUNG Galaxy S23 Ultra 5G (Cream, 1 TB)  (12...    12 GB RAM | 1 TB ROM   \n",
       "7  SAMSUNG Galaxy S23 Ultra 5G (Phantom Black, 1 ...    12 GB RAM | 1 TB ROM   \n",
       "8  SAMSUNG Galaxy S23 Ultra 5G (Green, 1 TB)  (12...    12 GB RAM | 1 TB ROM   \n",
       "\n",
       "                                     Camera Specs  \\\n",
       "0  200MP + 10MP + 12MP + 10MP | 12MP Front Camera   \n",
       "1  200MP + 10MP + 12MP + 10MP | 12MP Front Camera   \n",
       "2  200MP + 10MP + 12MP + 10MP | 12MP Front Camera   \n",
       "3  200MP + 10MP + 12MP + 10MP | 12MP Front Camera   \n",
       "4  200MP + 10MP + 12MP + 10MP | 12MP Front Camera   \n",
       "5  200MP + 10MP + 12MP + 10MP | 12MP Front Camera   \n",
       "6  200MP + 10MP + 12MP + 10MP | 12MP Front Camera   \n",
       "7  200MP + 10MP + 12MP + 10MP | 12MP Front Camera   \n",
       "8  200MP + 10MP + 12MP + 10MP | 12MP Front Camera   \n",
       "\n",
       "                          Display Specs              Battery Capacity  \\\n",
       "0  17.27 cm (6.8 inch) Quad HD+ Display  5000 mAh Lithium Ion Battery   \n",
       "1  17.27 cm (6.8 inch) Quad HD+ Display  5000 mAh Lithium Ion Battery   \n",
       "2  17.27 cm (6.8 inch) Quad HD+ Display  5000 mAh Lithium Ion Battery   \n",
       "3  17.27 cm (6.8 inch) Quad HD+ Display  5000 mAh Lithium Ion Battery   \n",
       "4  17.27 cm (6.8 inch) Quad HD+ Display  5000 mAh Lithium Ion Battery   \n",
       "5  17.27 cm (6.8 inch) Quad HD+ Display  5000 mAh Lithium Ion Battery   \n",
       "6  17.27 cm (6.8 inch) Quad HD+ Display  5000 mAh Lithium Ion Battery   \n",
       "7  17.27 cm (6.8 inch) Quad HD+ Display  5000 mAh Lithium Ion Battery   \n",
       "8  17.27 cm (6.8 inch) Quad HD+ Display  5000 mAh Lithium Ion Battery   \n",
       "\n",
       "       Price  \n",
       "0  ₹1,24,999  \n",
       "1  ₹1,24,999  \n",
       "2  ₹1,24,999  \n",
       "3  ₹1,34,999  \n",
       "4  ₹1,34,999  \n",
       "5  ₹1,34,999  \n",
       "6  ₹1,54,999  \n",
       "7  ₹1,54,999  \n",
       "8  ₹1,54,999  "
      ]
     },
     "execution_count": 73,
     "metadata": {},
     "output_type": "execute_result"
    }
   ],
   "source": [
    "df"
   ]
  },
  {
   "cell_type": "markdown",
   "id": "fc9ba00a",
   "metadata": {},
   "source": [
    "5. Write a program to scrap geospatial coordinates (latitude, longitude) of a city searched on google maps. "
   ]
  },
  {
   "cell_type": "code",
   "execution_count": 86,
   "id": "8d1c9681",
   "metadata": {},
   "outputs": [],
   "source": [
    "driver = webdriver.Chrome()\n",
    "driver.get('https://www.google.com/maps/')"
   ]
  },
  {
   "cell_type": "code",
   "execution_count": 88,
   "id": "f6a6f295",
   "metadata": {},
   "outputs": [
    {
     "name": "stdout",
     "output_type": "stream",
     "text": [
      "Enter a citychennai\n"
     ]
    }
   ],
   "source": [
    "city = input(\"Enter a city\")\n",
    "search_tab = driver.find_element(By.XPATH,'/html/body/div[3]/div[8]/div[3]/div[1]/div[1]/div/div[2]/form/input')\n",
    "search_tab.send_keys(city)\n"
   ]
  },
  {
   "cell_type": "code",
   "execution_count": 89,
   "id": "73c1a2ff",
   "metadata": {},
   "outputs": [],
   "source": [
    "search_button = driver.find_element(By.XPATH,'/html/body/div[3]/div[8]/div[3]/div[1]/div[1]/div/div[2]/div[1]/button')\n",
    "search_button.click()"
   ]
  },
  {
   "cell_type": "code",
   "execution_count": 90,
   "id": "0fcb6f78",
   "metadata": {},
   "outputs": [],
   "source": [
    "import regex as re"
   ]
  },
  {
   "cell_type": "code",
   "execution_count": 95,
   "id": "8201297f",
   "metadata": {},
   "outputs": [
    {
     "name": "stdout",
     "output_type": "stream",
     "text": [
      "{'Latitude': '21.161226', 'Longitude': '78.9901085'}\n"
     ]
    }
   ],
   "source": [
    "\n",
    "try:\n",
    "    city_url = driver.current_url\n",
    "    lat_lon= re.findall(r'@(.*)data',city_url)\n",
    "    if len(lat_lon):\n",
    "        lat_lon_data = lat_lon[0].split(\",\")\n",
    "        if len(lat_lon_data)>=2:\n",
    "            lat = lat_lon_data[0]\n",
    "            lon = lat_lon_data[1]\n",
    "            print({\"Latitude\":lat,\"Longitude\":lon})\n",
    "            \n",
    "            \n",
    "        \n",
    "        \n",
    "except Exception as e:\n",
    "    print(\"Error\", e)\n",
    "    \n"
   ]
  },
  {
   "cell_type": "markdown",
   "id": "21ff2370",
   "metadata": {},
   "source": [
    "6. Write a program to scrap all the available details of best gaming laptops from digit.in"
   ]
  },
  {
   "cell_type": "code",
   "execution_count": 103,
   "id": "32b50ff9",
   "metadata": {},
   "outputs": [],
   "source": [
    "driver= webdriver.Chrome()\n",
    "driver.get('https://www.digit.in/')"
   ]
  },
  {
   "cell_type": "code",
   "execution_count": 105,
   "id": "289a37cd",
   "metadata": {},
   "outputs": [],
   "source": [
    "search_button = driver.find_element(By.XPATH,'/html/body/div[1]/header/div/div[2]/div/div/div/div/button')\n",
    "search_button.click()"
   ]
  },
  {
   "cell_type": "code",
   "execution_count": 106,
   "id": "e7e09a21",
   "metadata": {},
   "outputs": [],
   "source": [
    "search_input = driver.find_element(By.XPATH,'/html/body/div[5]/div/form/input[1]')\n",
    "search_input.send_keys(\"Top 10 best laptops in India\")"
   ]
  },
  {
   "cell_type": "code",
   "execution_count": 107,
   "id": "32012748",
   "metadata": {},
   "outputs": [],
   "source": [
    "search_ = driver.find_element(By.XPATH,'/html/body/div[5]/div/form/button')\n",
    "search_.click()"
   ]
  },
  {
   "cell_type": "markdown",
   "id": "8d75965b",
   "metadata": {},
   "source": [
    "-------"
   ]
  },
  {
   "cell_type": "markdown",
   "id": "ffc2ddbc",
   "metadata": {},
   "source": [
    "7. Write a python program to scrape the details for all billionaires from www.forbes.com. Details to be scrapped: \n",
    "“Rank”, “Name”, “Net worth”, “Age”, “Citizenship”, “Source”, “Industry”. "
   ]
  },
  {
   "cell_type": "code",
   "execution_count": 111,
   "id": "3ded7cf3",
   "metadata": {},
   "outputs": [],
   "source": [
    "driver = webdriver.Chrome()\n",
    "driver.get('https://www.forbes.com/')"
   ]
  },
  {
   "cell_type": "code",
   "execution_count": 113,
   "id": "74389c3e",
   "metadata": {},
   "outputs": [],
   "source": [
    "menu= driver.find_element(By.CLASS_NAME,'_8FT-x3t4')\n",
    "menu.click()"
   ]
  },
  {
   "cell_type": "code",
   "execution_count": 114,
   "id": "ef6a10c5",
   "metadata": {},
   "outputs": [],
   "source": [
    "billis = driver.find_element(By.XPATH,'/html/body/div[1]/header/nav/div[1]/div[1]/div/div[2]/ul/li[2]/div[1]')\n",
    "billis.click()"
   ]
  },
  {
   "cell_type": "code",
   "execution_count": 115,
   "id": "5970a556",
   "metadata": {},
   "outputs": [],
   "source": [
    "world_billis = driver.find_element(By.XPATH,'/html/body/div[1]/header/nav/div[1]/div[1]/div/div[2]/ul/li[2]/div[2]/div[3]/ul/li[1]/a')\n",
    "world_billis.click()"
   ]
  },
  {
   "cell_type": "code",
   "execution_count": 117,
   "id": "b853e4c2",
   "metadata": {},
   "outputs": [],
   "source": [
    "Names = []\n",
    "\n",
    "names = driver.find_elements(By.XPATH,'//div[@class=\"TableRow_row__L-0Km\"]//div[2]')\n",
    "for i in names:\n",
    "    Names.append(i.text)"
   ]
  },
  {
   "cell_type": "code",
   "execution_count": 122,
   "id": "e8423685",
   "metadata": {},
   "outputs": [],
   "source": [
    "Rank=[]\n",
    "Net_Worth=[]\n",
    "Age=[]\n",
    "Citizenship=[]\n",
    "Source=[]\n",
    "Industry=[]\n",
    "\n",
    "rank = driver.find_elements(By.XPATH,'//div[@class=\"Table_rank___YBhk Table_dataCell__2QCve\"]')\n",
    "for i in rank:\n",
    "    Rank.append(i.text)\n",
    "    \n",
    "networth = driver.find_elements(By.XPATH,'//div[@class=\"Table_netWorth___L4R5 Table_dataCell__2QCve\"]')\n",
    "for i in networth:\n",
    "    if i is None:\n",
    "        Net_Worth.append(\"--\")\n",
    "    else:\n",
    "        Net_Worth.append(i.text)\n",
    "        \n",
    "time.sleep(3)\n",
    "        \n",
    "age= driver.find_elements(By.XPATH,'//div[@class=\"TableRow_row__L-0Km\"]//div[4]')\n",
    "for i in age:\n",
    "    if i is None:\n",
    "        Age.append(\"--\")\n",
    "    else:\n",
    "        Age.append(i.text)\n",
    "        \n",
    "time.sleep(3)\n",
    "        \n",
    "country = driver.find_elements(By.XPATH,'//div[@class=\"TableRow_row__L-0Km\"]//div[5]')\n",
    "for i in country:\n",
    "    if i is None:\n",
    "        Citizenship.append(\"--\")\n",
    "    else:\n",
    "        Citizenship.append(i.text)\n",
    "        \n",
    "time.sleep(3)\n",
    "        \n",
    "source = driver.find_elements(By.XPATH,'//div[@class=\"Table_dataCell__2QCve\"]/span')\n",
    "for i in source:\n",
    "    if i is None:\n",
    "        Source.append(\"--\")\n",
    "    else:\n",
    "        Source.append(i.text)\n",
    "        \n",
    "time.sleep(3)\n",
    "        \n",
    "industry = driver.find_elements(By.XPATH,'//div[@class=\"TableRow_row__L-0Km\"]//div[7]')\n",
    "for i in industry:\n",
    "    if i is None:\n",
    "        Industry.append(\"--\")\n",
    "    else:\n",
    "        Industry.append(i.text)"
   ]
  },
  {
   "cell_type": "code",
   "execution_count": 123,
   "id": "ac49fe87",
   "metadata": {},
   "outputs": [
    {
     "name": "stdout",
     "output_type": "stream",
     "text": [
      "200 200 199 199 200 199\n"
     ]
    }
   ],
   "source": [
    "print(len(Rank),len(Net_Worth),len(Age),len(Citizenship),len(Source),len(Industry))"
   ]
  },
  {
   "cell_type": "markdown",
   "id": "122bc662",
   "metadata": {},
   "source": [
    "8. Write a program to extract at least 500 Comments, Comment upvote and time when comment was posted \n",
    "from any YouTube Video. "
   ]
  },
  {
   "cell_type": "code",
   "execution_count": 1,
   "id": "1d753e4b",
   "metadata": {},
   "outputs": [],
   "source": [
    "import selenium\n",
    "from selenium import webdriver\n",
    "import pandas as pd\n",
    "from selenium.webdriver.common.by import By\n",
    "from selenium.common.exceptions import NoSuchElementException\n",
    "import time"
   ]
  },
  {
   "cell_type": "code",
   "execution_count": 9,
   "id": "f9c2aaec",
   "metadata": {},
   "outputs": [],
   "source": [
    "driver = webdriver.Chrome()\n",
    "driver.get('https://www.youtube.com/')"
   ]
  },
  {
   "cell_type": "code",
   "execution_count": 11,
   "id": "d2ba2d3f",
   "metadata": {},
   "outputs": [],
   "source": [
    "s = driver.find_element(By.XPATH,'/html/body/ytd-app/div[1]/div/ytd-masthead/div[4]/div[2]/yt-icon-button/button/yt-icon/yt-icon-shape/icon-shape/div')\n",
    "s.click()"
   ]
  },
  {
   "cell_type": "code",
   "execution_count": 12,
   "id": "01e39f33",
   "metadata": {},
   "outputs": [],
   "source": [
    "search = driver.find_element(By.XPATH,'/html/body/ytd-app/div[1]/div/ytd-masthead/div[4]/div[2]/ytd-searchbox/form/div[1]/div[1]/input')\n",
    "search.send_keys('Leo Success meet')"
   ]
  },
  {
   "cell_type": "code",
   "execution_count": 13,
   "id": "4f81e0e2",
   "metadata": {},
   "outputs": [],
   "source": [
    "searchh = driver.find_element(By.XPATH,'/html/body/ytd-app/div[1]/div/ytd-masthead/div[4]/div[2]/ytd-searchbox/button')\n",
    "searchh.click()"
   ]
  },
  {
   "cell_type": "code",
   "execution_count": 14,
   "id": "4bb0ea0a",
   "metadata": {},
   "outputs": [],
   "source": [
    "video = driver.find_element(By.XPATH,'/html/body/ytd-app/div[1]/ytd-page-manager/ytd-search/div[1]/ytd-two-column-search-results-renderer/div/ytd-section-list-renderer/div[2]/ytd-item-section-renderer/div[3]/ytd-video-renderer[1]/div[1]/div/div[1]/div/h3/a')\n",
    "video.click()"
   ]
  },
  {
   "cell_type": "code",
   "execution_count": 66,
   "id": "c7cbfe8f",
   "metadata": {},
   "outputs": [],
   "source": [
    "comments= []\n",
    "upvote= []\n",
    "time = []\n",
    "scroll_pause_time = 0.5\n",
    "scrolls = str(10)\n",
    "\n",
    "for _ in (scrolls):\n",
    "    driver.execute_script(\"window.scrollTo(0, document.documentElement.scrollHeight);\")\n",
    "       \n",
    "    cmnt_cnt = driver.find_elements(By.XPATH,'//div[@id=\"comment-content\"]')\n",
    "    cmnt_upvote = driver.find_elements(By.XPATH,'//span[@id=\"vote-count-middle\"]')\n",
    "    times = driver.find_elements(By.XPATH,'//yt-formatted-string[@class=\"published-time-text style-scope ytd-comment-renderer\"]/a')\n",
    "    \n",
    "    \n",
    "    \n",
    "    for i in range(500):\n",
    "        comments.append(cmnt_cnt)\n",
    "        upvote.append(cmnt_upvote)\n",
    "        time.append(times)\n",
    "        \n",
    "        "
   ]
  },
  {
   "cell_type": "code",
   "execution_count": 67,
   "id": "bdc36ed1",
   "metadata": {},
   "outputs": [
    {
     "name": "stdout",
     "output_type": "stream",
     "text": [
      "1000 1000 1000\n"
     ]
    }
   ],
   "source": [
    "print(len(comments),len(upvote),len(time))"
   ]
  },
  {
   "cell_type": "code",
   "execution_count": 68,
   "id": "8dc08c16",
   "metadata": {},
   "outputs": [
    {
     "data": {
      "text/html": [
       "<div>\n",
       "<style scoped>\n",
       "    .dataframe tbody tr th:only-of-type {\n",
       "        vertical-align: middle;\n",
       "    }\n",
       "\n",
       "    .dataframe tbody tr th {\n",
       "        vertical-align: top;\n",
       "    }\n",
       "\n",
       "    .dataframe thead th {\n",
       "        text-align: right;\n",
       "    }\n",
       "</style>\n",
       "<table border=\"1\" class=\"dataframe\">\n",
       "  <thead>\n",
       "    <tr style=\"text-align: right;\">\n",
       "      <th></th>\n",
       "      <th>Comments</th>\n",
       "      <th>Comments Upvotes</th>\n",
       "      <th>Time</th>\n",
       "    </tr>\n",
       "  </thead>\n",
       "  <tbody>\n",
       "    <tr>\n",
       "      <th>0</th>\n",
       "      <td>[&lt;selenium.webdriver.remote.webelement.WebElem...</td>\n",
       "      <td>[&lt;selenium.webdriver.remote.webelement.WebElem...</td>\n",
       "      <td>[&lt;selenium.webdriver.remote.webelement.WebElem...</td>\n",
       "    </tr>\n",
       "    <tr>\n",
       "      <th>1</th>\n",
       "      <td>[&lt;selenium.webdriver.remote.webelement.WebElem...</td>\n",
       "      <td>[&lt;selenium.webdriver.remote.webelement.WebElem...</td>\n",
       "      <td>[&lt;selenium.webdriver.remote.webelement.WebElem...</td>\n",
       "    </tr>\n",
       "    <tr>\n",
       "      <th>2</th>\n",
       "      <td>[&lt;selenium.webdriver.remote.webelement.WebElem...</td>\n",
       "      <td>[&lt;selenium.webdriver.remote.webelement.WebElem...</td>\n",
       "      <td>[&lt;selenium.webdriver.remote.webelement.WebElem...</td>\n",
       "    </tr>\n",
       "    <tr>\n",
       "      <th>3</th>\n",
       "      <td>[&lt;selenium.webdriver.remote.webelement.WebElem...</td>\n",
       "      <td>[&lt;selenium.webdriver.remote.webelement.WebElem...</td>\n",
       "      <td>[&lt;selenium.webdriver.remote.webelement.WebElem...</td>\n",
       "    </tr>\n",
       "    <tr>\n",
       "      <th>4</th>\n",
       "      <td>[&lt;selenium.webdriver.remote.webelement.WebElem...</td>\n",
       "      <td>[&lt;selenium.webdriver.remote.webelement.WebElem...</td>\n",
       "      <td>[&lt;selenium.webdriver.remote.webelement.WebElem...</td>\n",
       "    </tr>\n",
       "    <tr>\n",
       "      <th>...</th>\n",
       "      <td>...</td>\n",
       "      <td>...</td>\n",
       "      <td>...</td>\n",
       "    </tr>\n",
       "    <tr>\n",
       "      <th>495</th>\n",
       "      <td>[&lt;selenium.webdriver.remote.webelement.WebElem...</td>\n",
       "      <td>[&lt;selenium.webdriver.remote.webelement.WebElem...</td>\n",
       "      <td>[&lt;selenium.webdriver.remote.webelement.WebElem...</td>\n",
       "    </tr>\n",
       "    <tr>\n",
       "      <th>496</th>\n",
       "      <td>[&lt;selenium.webdriver.remote.webelement.WebElem...</td>\n",
       "      <td>[&lt;selenium.webdriver.remote.webelement.WebElem...</td>\n",
       "      <td>[&lt;selenium.webdriver.remote.webelement.WebElem...</td>\n",
       "    </tr>\n",
       "    <tr>\n",
       "      <th>497</th>\n",
       "      <td>[&lt;selenium.webdriver.remote.webelement.WebElem...</td>\n",
       "      <td>[&lt;selenium.webdriver.remote.webelement.WebElem...</td>\n",
       "      <td>[&lt;selenium.webdriver.remote.webelement.WebElem...</td>\n",
       "    </tr>\n",
       "    <tr>\n",
       "      <th>498</th>\n",
       "      <td>[&lt;selenium.webdriver.remote.webelement.WebElem...</td>\n",
       "      <td>[&lt;selenium.webdriver.remote.webelement.WebElem...</td>\n",
       "      <td>[&lt;selenium.webdriver.remote.webelement.WebElem...</td>\n",
       "    </tr>\n",
       "    <tr>\n",
       "      <th>499</th>\n",
       "      <td>[&lt;selenium.webdriver.remote.webelement.WebElem...</td>\n",
       "      <td>[&lt;selenium.webdriver.remote.webelement.WebElem...</td>\n",
       "      <td>[&lt;selenium.webdriver.remote.webelement.WebElem...</td>\n",
       "    </tr>\n",
       "  </tbody>\n",
       "</table>\n",
       "<p>500 rows × 3 columns</p>\n",
       "</div>"
      ],
      "text/plain": [
       "                                              Comments  \\\n",
       "0    [<selenium.webdriver.remote.webelement.WebElem...   \n",
       "1    [<selenium.webdriver.remote.webelement.WebElem...   \n",
       "2    [<selenium.webdriver.remote.webelement.WebElem...   \n",
       "3    [<selenium.webdriver.remote.webelement.WebElem...   \n",
       "4    [<selenium.webdriver.remote.webelement.WebElem...   \n",
       "..                                                 ...   \n",
       "495  [<selenium.webdriver.remote.webelement.WebElem...   \n",
       "496  [<selenium.webdriver.remote.webelement.WebElem...   \n",
       "497  [<selenium.webdriver.remote.webelement.WebElem...   \n",
       "498  [<selenium.webdriver.remote.webelement.WebElem...   \n",
       "499  [<selenium.webdriver.remote.webelement.WebElem...   \n",
       "\n",
       "                                      Comments Upvotes  \\\n",
       "0    [<selenium.webdriver.remote.webelement.WebElem...   \n",
       "1    [<selenium.webdriver.remote.webelement.WebElem...   \n",
       "2    [<selenium.webdriver.remote.webelement.WebElem...   \n",
       "3    [<selenium.webdriver.remote.webelement.WebElem...   \n",
       "4    [<selenium.webdriver.remote.webelement.WebElem...   \n",
       "..                                                 ...   \n",
       "495  [<selenium.webdriver.remote.webelement.WebElem...   \n",
       "496  [<selenium.webdriver.remote.webelement.WebElem...   \n",
       "497  [<selenium.webdriver.remote.webelement.WebElem...   \n",
       "498  [<selenium.webdriver.remote.webelement.WebElem...   \n",
       "499  [<selenium.webdriver.remote.webelement.WebElem...   \n",
       "\n",
       "                                                  Time  \n",
       "0    [<selenium.webdriver.remote.webelement.WebElem...  \n",
       "1    [<selenium.webdriver.remote.webelement.WebElem...  \n",
       "2    [<selenium.webdriver.remote.webelement.WebElem...  \n",
       "3    [<selenium.webdriver.remote.webelement.WebElem...  \n",
       "4    [<selenium.webdriver.remote.webelement.WebElem...  \n",
       "..                                                 ...  \n",
       "495  [<selenium.webdriver.remote.webelement.WebElem...  \n",
       "496  [<selenium.webdriver.remote.webelement.WebElem...  \n",
       "497  [<selenium.webdriver.remote.webelement.WebElem...  \n",
       "498  [<selenium.webdriver.remote.webelement.WebElem...  \n",
       "499  [<selenium.webdriver.remote.webelement.WebElem...  \n",
       "\n",
       "[500 rows x 3 columns]"
      ]
     },
     "execution_count": 68,
     "metadata": {},
     "output_type": "execute_result"
    }
   ],
   "source": [
    "df = pd.DataFrame({\"Comments\": comments, \"Comments Upvotes\": upvote, \"Time\": time})\n",
    "df.head(500)\n"
   ]
  },
  {
   "cell_type": "markdown",
   "id": "d08cca59",
   "metadata": {},
   "source": [
    "9. Write a python program to scrape a data for all available Hostels from https://www.hostelworld.com/ in \n",
    "“London” location. You have to scrape hostel name, distance from city centre, ratings, total reviews, overall \n",
    "reviews, privates from price, dorms from price, facilities and property description. "
   ]
  },
  {
   "cell_type": "code",
   "execution_count": 44,
   "id": "7781f4d3",
   "metadata": {},
   "outputs": [],
   "source": [
    "driver = webdriver.Chrome()\n",
    "driver.get(\"https://www.hostelworld.com/ \")"
   ]
  },
  {
   "cell_type": "code",
   "execution_count": 47,
   "id": "2fa5e2d8",
   "metadata": {},
   "outputs": [],
   "source": [
    "menu = driver.find_element(By.XPATH,'/html/body/div[3]/div/div/div[2]/div[2]/header/div[2]/div[2]/button')\n",
    "menu.click()"
   ]
  },
  {
   "cell_type": "code",
   "execution_count": 48,
   "id": "74dc329f",
   "metadata": {},
   "outputs": [],
   "source": [
    "accomodation = driver.find_element(By.XPATH,'/html/body/div[3]/div/div/div[2]/div[2]/header/div[2]/div[2]/div/div/div[2]/div/ul/li[1]/button/span')\n",
    "accomodation.click()"
   ]
  },
  {
   "cell_type": "code",
   "execution_count": 50,
   "id": "9feb2c15",
   "metadata": {},
   "outputs": [],
   "source": [
    "hostels_tab = driver.find_element(By.XPATH,'/html/body/div[3]/div/div/div[2]/div[2]/header/div[2]/div[2]/div/div/div[2]/div/ul/li[1]/div/li[1]')\n",
    "hostels_tab.click()"
   ]
  },
  {
   "cell_type": "code",
   "execution_count": 55,
   "id": "ea38489d",
   "metadata": {},
   "outputs": [],
   "source": [
    "loc = driver.find_element(By.XPATH,'/html/body/div[3]/div/div/div[3]/main/section[1]/div[2]/div[1]')\n",
    "loc.click()"
   ]
  },
  {
   "cell_type": "code",
   "execution_count": 56,
   "id": "94fd8996",
   "metadata": {},
   "outputs": [],
   "source": [
    "urls = []\n",
    "start = 0\n",
    "end = 4\n",
    "for page in range(start,end):\n",
    "    hos_urls = driver.find_elements(By.XPATH,'//div[@class=\"property-listing-cards\"]/a')\n",
    "    \n",
    "    for i in hos_urls:\n",
    "        urls.append(i.get_attribute(\"href\"))\n",
    "        next_button = driver.find_elements(By.XPATH,'/html/body/div[3]/div/div/div[3]/main/div[2]/section[1]/div[3]/div/a/div')\n",
    "\n"
   ]
  },
  {
   "cell_type": "code",
   "execution_count": 57,
   "id": "90446333",
   "metadata": {},
   "outputs": [
    {
     "name": "stdout",
     "output_type": "stream",
     "text": [
      "120\n"
     ]
    }
   ],
   "source": [
    "print(len(urls))"
   ]
  },
  {
   "cell_type": "code",
   "execution_count": 59,
   "id": "7fe2adc2",
   "metadata": {},
   "outputs": [
    {
     "data": {
      "text/plain": [
       "['https://www.hostelworld.com/st/hostels/p/88047/wombat-s-city-hostel-london/',\n",
       " 'https://www.hostelworld.com/st/hostels/p/303427/urbany-hostel-london/',\n",
       " 'https://www.hostelworld.com/st/hostels/p/6996/yha-london-oxford-street/',\n",
       " 'https://www.hostelworld.com/st/hostels/p/58378/the-walrus-hostel/',\n",
       " 'https://www.hostelworld.com/st/hostels/p/291433/onefam-notting-hill/',\n",
       " 'https://www.hostelworld.com/st/hostels/p/14348/palmers-lodge-swiss-cottage/',\n",
       " 'https://www.hostelworld.com/st/hostels/p/316723/hostelle-women-only-hostel-london/',\n",
       " 'https://www.hostelworld.com/st/hostels/p/7502/pickwick-hall/',\n",
       " 'https://www.hostelworld.com/st/hostels/p/502/st-christopher-s-village/',\n",
       " 'https://www.hostelworld.com/st/hostels/p/7010/kabannas-london-st-pancras/',\n",
       " 'https://www.hostelworld.com/st/hostels/p/15204/nx-london-hostel/',\n",
       " 'https://www.hostelworld.com/st/hostels/p/25678/astor-hyde-park/',\n",
       " 'https://www.hostelworld.com/st/hostels/p/93902/prime-backpackers-angel/',\n",
       " 'https://www.hostelworld.com/st/hostels/p/64746/barmy-badger-backpackers/',\n",
       " 'https://www.hostelworld.com/st/hostels/p/7000/yha-london-thameside/',\n",
       " 'https://www.hostelworld.com/st/hostels/p/520/astor-museum-inn/',\n",
       " 'https://www.hostelworld.com/st/hostels/p/515/international-students-house/',\n",
       " 'https://www.hostelworld.com/st/hostels/p/314563/destinations-hostels-the-gallery/',\n",
       " 'https://www.hostelworld.com/st/hostels/p/527/london-backpackers/',\n",
       " 'https://www.hostelworld.com/st/hostels/p/310274/selina-camden/',\n",
       " 'https://www.hostelworld.com/st/hostels/p/63112/the-backpackshack/',\n",
       " 'https://www.hostelworld.com/st/hostels/p/6977/yha-london-st-pauls/',\n",
       " 'https://www.hostelworld.com/st/hostels/p/523/astor-kensington/',\n",
       " 'https://www.hostelworld.com/st/hostels/p/297123/publove-the-rose-and-crown/',\n",
       " 'https://www.hostelworld.com/st/hostels/p/6981/yha-london-earls-court/',\n",
       " 'https://www.hostelworld.com/st/hostels/p/596/smart-camden-inn-hostel/',\n",
       " 'https://www.hostelworld.com/st/hostels/p/24068/hootananny-hostel/',\n",
       " 'https://www.hostelworld.com/st/hostels/p/530/dover-castle-hostel-and-bar/',\n",
       " 'https://www.hostelworld.com/st/hostels/p/98066/park-villa/',\n",
       " 'https://www.hostelworld.com/st/hostels/p/317332/litsa-s-central-studios/',\n",
       " 'https://www.hostelworld.com/st/hostels/p/88047/wombat-s-city-hostel-london/',\n",
       " 'https://www.hostelworld.com/st/hostels/p/303427/urbany-hostel-london/',\n",
       " 'https://www.hostelworld.com/st/hostels/p/6996/yha-london-oxford-street/',\n",
       " 'https://www.hostelworld.com/st/hostels/p/58378/the-walrus-hostel/',\n",
       " 'https://www.hostelworld.com/st/hostels/p/291433/onefam-notting-hill/',\n",
       " 'https://www.hostelworld.com/st/hostels/p/14348/palmers-lodge-swiss-cottage/',\n",
       " 'https://www.hostelworld.com/st/hostels/p/316723/hostelle-women-only-hostel-london/',\n",
       " 'https://www.hostelworld.com/st/hostels/p/7502/pickwick-hall/',\n",
       " 'https://www.hostelworld.com/st/hostels/p/502/st-christopher-s-village/',\n",
       " 'https://www.hostelworld.com/st/hostels/p/7010/kabannas-london-st-pancras/',\n",
       " 'https://www.hostelworld.com/st/hostels/p/15204/nx-london-hostel/',\n",
       " 'https://www.hostelworld.com/st/hostels/p/25678/astor-hyde-park/',\n",
       " 'https://www.hostelworld.com/st/hostels/p/93902/prime-backpackers-angel/',\n",
       " 'https://www.hostelworld.com/st/hostels/p/64746/barmy-badger-backpackers/',\n",
       " 'https://www.hostelworld.com/st/hostels/p/7000/yha-london-thameside/',\n",
       " 'https://www.hostelworld.com/st/hostels/p/520/astor-museum-inn/',\n",
       " 'https://www.hostelworld.com/st/hostels/p/515/international-students-house/',\n",
       " 'https://www.hostelworld.com/st/hostels/p/314563/destinations-hostels-the-gallery/',\n",
       " 'https://www.hostelworld.com/st/hostels/p/527/london-backpackers/',\n",
       " 'https://www.hostelworld.com/st/hostels/p/310274/selina-camden/',\n",
       " 'https://www.hostelworld.com/st/hostels/p/63112/the-backpackshack/',\n",
       " 'https://www.hostelworld.com/st/hostels/p/6977/yha-london-st-pauls/',\n",
       " 'https://www.hostelworld.com/st/hostels/p/523/astor-kensington/',\n",
       " 'https://www.hostelworld.com/st/hostels/p/297123/publove-the-rose-and-crown/',\n",
       " 'https://www.hostelworld.com/st/hostels/p/6981/yha-london-earls-court/',\n",
       " 'https://www.hostelworld.com/st/hostels/p/596/smart-camden-inn-hostel/',\n",
       " 'https://www.hostelworld.com/st/hostels/p/24068/hootananny-hostel/',\n",
       " 'https://www.hostelworld.com/st/hostels/p/530/dover-castle-hostel-and-bar/',\n",
       " 'https://www.hostelworld.com/st/hostels/p/98066/park-villa/',\n",
       " 'https://www.hostelworld.com/st/hostels/p/317332/litsa-s-central-studios/',\n",
       " 'https://www.hostelworld.com/st/hostels/p/88047/wombat-s-city-hostel-london/',\n",
       " 'https://www.hostelworld.com/st/hostels/p/303427/urbany-hostel-london/',\n",
       " 'https://www.hostelworld.com/st/hostels/p/6996/yha-london-oxford-street/',\n",
       " 'https://www.hostelworld.com/st/hostels/p/58378/the-walrus-hostel/',\n",
       " 'https://www.hostelworld.com/st/hostels/p/291433/onefam-notting-hill/',\n",
       " 'https://www.hostelworld.com/st/hostels/p/14348/palmers-lodge-swiss-cottage/',\n",
       " 'https://www.hostelworld.com/st/hostels/p/316723/hostelle-women-only-hostel-london/',\n",
       " 'https://www.hostelworld.com/st/hostels/p/7502/pickwick-hall/',\n",
       " 'https://www.hostelworld.com/st/hostels/p/502/st-christopher-s-village/',\n",
       " 'https://www.hostelworld.com/st/hostels/p/7010/kabannas-london-st-pancras/',\n",
       " 'https://www.hostelworld.com/st/hostels/p/15204/nx-london-hostel/',\n",
       " 'https://www.hostelworld.com/st/hostels/p/25678/astor-hyde-park/',\n",
       " 'https://www.hostelworld.com/st/hostels/p/93902/prime-backpackers-angel/',\n",
       " 'https://www.hostelworld.com/st/hostels/p/64746/barmy-badger-backpackers/',\n",
       " 'https://www.hostelworld.com/st/hostels/p/7000/yha-london-thameside/',\n",
       " 'https://www.hostelworld.com/st/hostels/p/520/astor-museum-inn/',\n",
       " 'https://www.hostelworld.com/st/hostels/p/515/international-students-house/',\n",
       " 'https://www.hostelworld.com/st/hostels/p/314563/destinations-hostels-the-gallery/',\n",
       " 'https://www.hostelworld.com/st/hostels/p/527/london-backpackers/',\n",
       " 'https://www.hostelworld.com/st/hostels/p/310274/selina-camden/',\n",
       " 'https://www.hostelworld.com/st/hostels/p/63112/the-backpackshack/',\n",
       " 'https://www.hostelworld.com/st/hostels/p/6977/yha-london-st-pauls/',\n",
       " 'https://www.hostelworld.com/st/hostels/p/523/astor-kensington/',\n",
       " 'https://www.hostelworld.com/st/hostels/p/297123/publove-the-rose-and-crown/',\n",
       " 'https://www.hostelworld.com/st/hostels/p/6981/yha-london-earls-court/',\n",
       " 'https://www.hostelworld.com/st/hostels/p/596/smart-camden-inn-hostel/',\n",
       " 'https://www.hostelworld.com/st/hostels/p/24068/hootananny-hostel/',\n",
       " 'https://www.hostelworld.com/st/hostels/p/530/dover-castle-hostel-and-bar/',\n",
       " 'https://www.hostelworld.com/st/hostels/p/98066/park-villa/',\n",
       " 'https://www.hostelworld.com/st/hostels/p/317332/litsa-s-central-studios/',\n",
       " 'https://www.hostelworld.com/st/hostels/p/88047/wombat-s-city-hostel-london/',\n",
       " 'https://www.hostelworld.com/st/hostels/p/303427/urbany-hostel-london/',\n",
       " 'https://www.hostelworld.com/st/hostels/p/6996/yha-london-oxford-street/',\n",
       " 'https://www.hostelworld.com/st/hostels/p/58378/the-walrus-hostel/',\n",
       " 'https://www.hostelworld.com/st/hostels/p/291433/onefam-notting-hill/',\n",
       " 'https://www.hostelworld.com/st/hostels/p/14348/palmers-lodge-swiss-cottage/',\n",
       " 'https://www.hostelworld.com/st/hostels/p/316723/hostelle-women-only-hostel-london/',\n",
       " 'https://www.hostelworld.com/st/hostels/p/7502/pickwick-hall/',\n",
       " 'https://www.hostelworld.com/st/hostels/p/502/st-christopher-s-village/',\n",
       " 'https://www.hostelworld.com/st/hostels/p/7010/kabannas-london-st-pancras/',\n",
       " 'https://www.hostelworld.com/st/hostels/p/15204/nx-london-hostel/',\n",
       " 'https://www.hostelworld.com/st/hostels/p/25678/astor-hyde-park/',\n",
       " 'https://www.hostelworld.com/st/hostels/p/93902/prime-backpackers-angel/',\n",
       " 'https://www.hostelworld.com/st/hostels/p/64746/barmy-badger-backpackers/',\n",
       " 'https://www.hostelworld.com/st/hostels/p/7000/yha-london-thameside/',\n",
       " 'https://www.hostelworld.com/st/hostels/p/520/astor-museum-inn/',\n",
       " 'https://www.hostelworld.com/st/hostels/p/515/international-students-house/',\n",
       " 'https://www.hostelworld.com/st/hostels/p/314563/destinations-hostels-the-gallery/',\n",
       " 'https://www.hostelworld.com/st/hostels/p/527/london-backpackers/',\n",
       " 'https://www.hostelworld.com/st/hostels/p/310274/selina-camden/',\n",
       " 'https://www.hostelworld.com/st/hostels/p/63112/the-backpackshack/',\n",
       " 'https://www.hostelworld.com/st/hostels/p/6977/yha-london-st-pauls/',\n",
       " 'https://www.hostelworld.com/st/hostels/p/523/astor-kensington/',\n",
       " 'https://www.hostelworld.com/st/hostels/p/297123/publove-the-rose-and-crown/',\n",
       " 'https://www.hostelworld.com/st/hostels/p/6981/yha-london-earls-court/',\n",
       " 'https://www.hostelworld.com/st/hostels/p/596/smart-camden-inn-hostel/',\n",
       " 'https://www.hostelworld.com/st/hostels/p/24068/hootananny-hostel/',\n",
       " 'https://www.hostelworld.com/st/hostels/p/530/dover-castle-hostel-and-bar/',\n",
       " 'https://www.hostelworld.com/st/hostels/p/98066/park-villa/',\n",
       " 'https://www.hostelworld.com/st/hostels/p/317332/litsa-s-central-studios/']"
      ]
     },
     "execution_count": 59,
     "metadata": {},
     "output_type": "execute_result"
    }
   ],
   "source": [
    "urls"
   ]
  },
  {
   "cell_type": "code",
   "execution_count": 60,
   "id": "7be34b3d",
   "metadata": {},
   "outputs": [],
   "source": [
    "names= []\n",
    "distance_from_citycentre=[]\n",
    "ratings=[]\n",
    "total_reviews=[]\n",
    "description=[]\n",
    "facilities=[]"
   ]
  },
  {
   "cell_type": "code",
   "execution_count": 78,
   "id": "350e4eaf",
   "metadata": {},
   "outputs": [],
   "source": [
    "for i in urls:\n",
    "    driver.get(i)\n",
    "    time.sleep(2)\n",
    "    \n",
    "    name = driver.find_elements(By.XPATH,'//div[@class=\"property-name\"]')\n",
    "    names.append(i)\n",
    "        \n",
    "    time.sleep(2)\n",
    "        \n",
    "    dis_frm_cc = driver.find_elements(By.XPATH,'//span[@class=\"distance-description\"]')\n",
    "    distance_from_citycentre.append(i)\n",
    "        \n",
    "    time.sleep(2)\n",
    "        \n",
    "    rating = driver.find_elements(By.XPATH,'//div[@class=\"overview-rating\"]/a')\n",
    "    ratings.append(i)\n",
    "        \n",
    "    time.sleep(2)\n",
    "    \n",
    "        \n",
    "    desc = driver.find_elements(By.XPATH,'//div[@class=\"description-block main-description\"]')\n",
    "    description.append(i)\n",
    "        \n",
    "    time.sleep(2)\n",
    "        \n",
    "        \n",
    "    fac = driver.find_elements(By.XPATH,'//ul[@class=\"facility-sections\"]')\n",
    "    facilities.append(i)\n",
    "        \n",
    "    next_button = driver.find_elements(By.XPATH,'/html/body/div[3]/div/div/div[3]/main/div[2]/section[1]/div[3]/div/a/div')\n"
   ]
  },
  {
   "cell_type": "code",
   "execution_count": 80,
   "id": "9d0ba820",
   "metadata": {},
   "outputs": [
    {
     "name": "stdout",
     "output_type": "stream",
     "text": [
      "154 154 154 153 153\n"
     ]
    }
   ],
   "source": [
    "print(len(names),len(distance_from_citycentre),len(ratings),len(description),len(facilities))"
   ]
  },
  {
   "cell_type": "code",
   "execution_count": 93,
   "id": "e56d218a",
   "metadata": {},
   "outputs": [
    {
     "data": {
      "text/html": [
       "<div>\n",
       "<style scoped>\n",
       "    .dataframe tbody tr th:only-of-type {\n",
       "        vertical-align: middle;\n",
       "    }\n",
       "\n",
       "    .dataframe tbody tr th {\n",
       "        vertical-align: top;\n",
       "    }\n",
       "\n",
       "    .dataframe thead th {\n",
       "        text-align: right;\n",
       "    }\n",
       "</style>\n",
       "<table border=\"1\" class=\"dataframe\">\n",
       "  <thead>\n",
       "    <tr style=\"text-align: right;\">\n",
       "      <th></th>\n",
       "      <th>Names</th>\n",
       "      <th>Distance From City Centre</th>\n",
       "    </tr>\n",
       "  </thead>\n",
       "  <tbody>\n",
       "    <tr>\n",
       "      <th>0</th>\n",
       "      <td>https://www.hostelworld.com/st/hostels/p/88047...</td>\n",
       "      <td>https://www.hostelworld.com/st/hostels/p/88047...</td>\n",
       "    </tr>\n",
       "    <tr>\n",
       "      <th>1</th>\n",
       "      <td>https://www.hostelworld.com/st/hostels/p/30342...</td>\n",
       "      <td>https://www.hostelworld.com/st/hostels/p/30342...</td>\n",
       "    </tr>\n",
       "    <tr>\n",
       "      <th>2</th>\n",
       "      <td>https://www.hostelworld.com/st/hostels/p/6996/...</td>\n",
       "      <td>https://www.hostelworld.com/st/hostels/p/6996/...</td>\n",
       "    </tr>\n",
       "    <tr>\n",
       "      <th>3</th>\n",
       "      <td>https://www.hostelworld.com/st/hostels/p/58378...</td>\n",
       "      <td>https://www.hostelworld.com/st/hostels/p/58378...</td>\n",
       "    </tr>\n",
       "    <tr>\n",
       "      <th>4</th>\n",
       "      <td>https://www.hostelworld.com/st/hostels/p/29143...</td>\n",
       "      <td>https://www.hostelworld.com/st/hostels/p/29143...</td>\n",
       "    </tr>\n",
       "    <tr>\n",
       "      <th>...</th>\n",
       "      <td>...</td>\n",
       "      <td>...</td>\n",
       "    </tr>\n",
       "    <tr>\n",
       "      <th>149</th>\n",
       "      <td>https://www.hostelworld.com/st/hostels/p/596/s...</td>\n",
       "      <td>https://www.hostelworld.com/st/hostels/p/596/s...</td>\n",
       "    </tr>\n",
       "    <tr>\n",
       "      <th>150</th>\n",
       "      <td>https://www.hostelworld.com/st/hostels/p/24068...</td>\n",
       "      <td>https://www.hostelworld.com/st/hostels/p/24068...</td>\n",
       "    </tr>\n",
       "    <tr>\n",
       "      <th>151</th>\n",
       "      <td>https://www.hostelworld.com/st/hostels/p/530/d...</td>\n",
       "      <td>https://www.hostelworld.com/st/hostels/p/530/d...</td>\n",
       "    </tr>\n",
       "    <tr>\n",
       "      <th>152</th>\n",
       "      <td>https://www.hostelworld.com/st/hostels/p/98066...</td>\n",
       "      <td>https://www.hostelworld.com/st/hostels/p/98066...</td>\n",
       "    </tr>\n",
       "    <tr>\n",
       "      <th>153</th>\n",
       "      <td>https://www.hostelworld.com/st/hostels/p/31733...</td>\n",
       "      <td>https://www.hostelworld.com/st/hostels/p/31733...</td>\n",
       "    </tr>\n",
       "  </tbody>\n",
       "</table>\n",
       "<p>154 rows × 2 columns</p>\n",
       "</div>"
      ],
      "text/plain": [
       "                                                 Names  \\\n",
       "0    https://www.hostelworld.com/st/hostels/p/88047...   \n",
       "1    https://www.hostelworld.com/st/hostels/p/30342...   \n",
       "2    https://www.hostelworld.com/st/hostels/p/6996/...   \n",
       "3    https://www.hostelworld.com/st/hostels/p/58378...   \n",
       "4    https://www.hostelworld.com/st/hostels/p/29143...   \n",
       "..                                                 ...   \n",
       "149  https://www.hostelworld.com/st/hostels/p/596/s...   \n",
       "150  https://www.hostelworld.com/st/hostels/p/24068...   \n",
       "151  https://www.hostelworld.com/st/hostels/p/530/d...   \n",
       "152  https://www.hostelworld.com/st/hostels/p/98066...   \n",
       "153  https://www.hostelworld.com/st/hostels/p/31733...   \n",
       "\n",
       "                             Distance From City Centre  \n",
       "0    https://www.hostelworld.com/st/hostels/p/88047...  \n",
       "1    https://www.hostelworld.com/st/hostels/p/30342...  \n",
       "2    https://www.hostelworld.com/st/hostels/p/6996/...  \n",
       "3    https://www.hostelworld.com/st/hostels/p/58378...  \n",
       "4    https://www.hostelworld.com/st/hostels/p/29143...  \n",
       "..                                                 ...  \n",
       "149  https://www.hostelworld.com/st/hostels/p/596/s...  \n",
       "150  https://www.hostelworld.com/st/hostels/p/24068...  \n",
       "151  https://www.hostelworld.com/st/hostels/p/530/d...  \n",
       "152  https://www.hostelworld.com/st/hostels/p/98066...  \n",
       "153  https://www.hostelworld.com/st/hostels/p/31733...  \n",
       "\n",
       "[154 rows x 2 columns]"
      ]
     },
     "execution_count": 93,
     "metadata": {},
     "output_type": "execute_result"
    }
   ],
   "source": [
    "df = pd.DataFrame({\"Names\": names,\"Distance From City Centre\":distance_from_citycentre})\n",
    "df"
   ]
  },
  {
   "cell_type": "code",
   "execution_count": null,
   "id": "4699957f",
   "metadata": {},
   "outputs": [],
   "source": []
  }
 ],
 "metadata": {
  "kernelspec": {
   "display_name": "Python 3 (ipykernel)",
   "language": "python",
   "name": "python3"
  },
  "language_info": {
   "codemirror_mode": {
    "name": "ipython",
    "version": 3
   },
   "file_extension": ".py",
   "mimetype": "text/x-python",
   "name": "python",
   "nbconvert_exporter": "python",
   "pygments_lexer": "ipython3",
   "version": "3.11.3"
  }
 },
 "nbformat": 4,
 "nbformat_minor": 5
}
